{
 "cells": [
  {
   "cell_type": "code",
   "execution_count": 2,
   "id": "d4db7087",
   "metadata": {},
   "outputs": [],
   "source": [
    "import os\n",
    "import re\n",
    "import json\n",
    "import tiktoken\n",
    "from tqdm import tqdm\n",
    "from openai import OpenAI\n",
    "from dotenv import load_dotenv\n",
    "from langchain.vectorstores import Chroma\n",
    "from langchain.embeddings import OpenAIEmbeddings\n",
    "from langchain.chat_models import ChatOpenAI\n",
    "from langchain.chains import RetrievalQA\n",
    "from langchain.prompts import PromptTemplate"
   ]
  },
  {
   "cell_type": "code",
   "execution_count": 3,
   "id": "17420600",
   "metadata": {},
   "outputs": [],
   "source": [
    "load_dotenv()\n",
    "client = OpenAI(api_key=os.getenv(\"OPENAI_API_KEY\"))"
   ]
  },
  {
   "cell_type": "code",
   "execution_count": null,
   "id": "8613f962",
   "metadata": {},
   "outputs": [
    {
     "name": "stdout",
     "output_type": "stream",
     "text": [
      "총 967개의 카드 정보를 불러왔습니다.\n"
     ]
    }
   ],
   "source": [
    "DATA_DIR = \"data/raw\"\n",
    "cards = []\n",
    "\n",
    "# .json파일 cards에 담기\n",
    "for filename in os.listdir(DATA_DIR):\n",
    "    if filename.endswith(\".json\"):\n",
    "        file_path = os.path.join(DATA_DIR, filename)\n",
    "        with open(file_path, \"r\", encoding=\"utf-8\") as f:\n",
    "            card_data = json.load(f)\n",
    "            cards.extend(card_data)\n",
    "\n",
    "print(f\"총 {len(cards)}개의 카드 정보를 불러왔습니다.\")"
   ]
  },
  {
   "cell_type": "code",
   "execution_count": null,
   "id": "667f2f82",
   "metadata": {},
   "outputs": [],
   "source": [
    "cards[0]"
   ]
  },
  {
   "cell_type": "code",
   "execution_count": 7,
   "id": "cebdf97a",
   "metadata": {},
   "outputs": [],
   "source": [
    "tokenizer = tiktoken.encoding_for_model(\"text-embedding-3-large\")"
   ]
  },
  {
   "cell_type": "code",
   "execution_count": 8,
   "id": "e6b4d5fd",
   "metadata": {},
   "outputs": [],
   "source": [
    "def chunk_text(text, max_length=2000, overlap=200):\n",
    "    tokens = tokenizer.encode(text)\n",
    "    chunks = []\n",
    "\n",
    "    for i in range(0, len(tokens), max_length - overlap):\n",
    "        chunk_tokens = tokens[i:i + max_length]\n",
    "        chunk_text = tokenizer.decode(chunk_tokens)\n",
    "        chunks.append(chunk_text)\n",
    "\n",
    "        if i + max_length >= len(tokens):\n",
    "            break\n",
    "\n",
    "    return chunks"
   ]
  },
  {
   "cell_type": "code",
   "execution_count": 9,
   "id": "dff0497d",
   "metadata": {},
   "outputs": [],
   "source": [
    "# 문서화 + 청킹 (덮어쓰기 방식)\n",
    "texts, metadatas, ids = [], [], []\n",
    "\n",
    "for idx, card in enumerate(cards):\n",
    "    # 카드 정보 파싱\n",
    "    name = card.get(\"name\", \"\")\n",
    "    brand = card.get(\"brand\", \"\")\n",
    "    url = card.get(\"detail_url\", \"\")\n",
    "    fee_domestic = card.get(\"fee_domestic\", \"\")\n",
    "    fee_global = card.get(\"fee_global\", \"\")\n",
    "    card_schemes = \", \".join(card.get(\"card_schemes\", []))\n",
    "    benefits = card.get(\"benefits\", [])\n",
    "\n",
    "    # 문서 텍스트 구성 (카드 이름 + 혜택 내용)\n",
    "    benefit_texts = []\n",
    "    for b in benefits:\n",
    "        category = b.get(\"category\", \"\")\n",
    "        content = b.get(\"content\", \"\")\n",
    "        if category and content:\n",
    "            benefit_texts.append(f\"{category}: {content}\")\n",
    "    \n",
    "    full_text = f\"{name}\\n\" + \"\\n\".join(benefit_texts)\n",
    "\n",
    "    # 메타데이터 구성\n",
    "    meta = {\n",
    "        \"name\": name,\n",
    "        \"brand\": brand,\n",
    "        \"fee_domestic\": fee_domestic,\n",
    "        \"fee_global\": fee_global,\n",
    "        \"card_schemes\": card_schemes\n",
    "    }\n",
    "\n",
    "    # 청킹 → 텍스트, 메타데이터, ID 저장\n",
    "    chunks = chunk_text(full_text)\n",
    "    for i, chunk in enumerate(chunks):\n",
    "        texts.append(chunk)\n",
    "        metadatas.append(meta)\n",
    "        ids.append(f\"card-{idx}-chunk-{i}\")"
   ]
  },
  {
   "cell_type": "code",
   "execution_count": null,
   "id": "f089f27d",
   "metadata": {},
   "outputs": [],
   "source": [
    "embedding_model = OpenAIEmbeddings(model=\"text-embedding-3-large\")"
   ]
  },
  {
   "cell_type": "code",
   "execution_count": null,
   "id": "45db35ce",
   "metadata": {},
   "outputs": [],
   "source": [
    "chroma = Chroma(\n",
    "    collection_name=\"card_collection\",\n",
    "    persist_directory=\"./data/processed/hcw/chroma_db\",\n",
    "    embedding_function=embedding_model\n",
    ")"
   ]
  },
  {
   "cell_type": "code",
   "execution_count": 12,
   "id": "44082f7f",
   "metadata": {},
   "outputs": [],
   "source": [
    "BATCH_SIZE = 100\n",
    "for i in range(0, len(texts), BATCH_SIZE):\n",
    "    chroma.add_texts(\n",
    "        texts[i:i + BATCH_SIZE],\n",
    "        metadatas=metadatas[i:i + BATCH_SIZE],\n",
    "        ids=ids[i:i + BATCH_SIZE]\n",
    "    )"
   ]
  },
  {
   "cell_type": "code",
   "execution_count": null,
   "id": "04e10f79",
   "metadata": {},
   "outputs": [],
   "source": [
    "chroma.persist()"
   ]
  },
  {
   "cell_type": "code",
   "execution_count": 14,
   "id": "5157d2f7",
   "metadata": {},
   "outputs": [
    {
     "name": "stdout",
     "output_type": "stream",
     "text": [
      "texts: 2415, metadatas: 2415, ids: 2415, DB 저장 문서 수: 2415\n"
     ]
    }
   ],
   "source": [
    "print(f\"texts: {len(texts)}, metadatas: {len(metadatas)}, ids: {len(ids) if 'ids' in locals() else 'N/A'}, DB 저장 문서 수: {chroma._collection.count()}\")"
   ]
  },
  {
   "cell_type": "code",
   "execution_count": 15,
   "id": "dda3218d",
   "metadata": {},
   "outputs": [
    {
     "name": "stdout",
     "output_type": "stream",
     "text": [
      "DB에 저장된 문서 수: 2415\n"
     ]
    }
   ],
   "source": [
    "print(f\"DB에 저장된 문서 수: {chroma._collection.count()}\")"
   ]
  },
  {
   "cell_type": "code",
   "execution_count": 16,
   "id": "3914b797",
   "metadata": {},
   "outputs": [],
   "source": [
    "query = \"휴대폰 요금 자동납부 할인 카드가 궁금해\""
   ]
  },
  {
   "cell_type": "code",
   "execution_count": 17,
   "id": "99ac2624",
   "metadata": {},
   "outputs": [
    {
     "name": "stderr",
     "output_type": "stream",
     "text": [
      "Failed to send telemetry event CollectionQueryEvent: capture() takes 1 positional argument but 3 were given\n"
     ]
    }
   ],
   "source": [
    "embedder = OpenAIEmbeddings(model=\"text-embedding-3-large\")\n",
    "\n",
    "query_vector = embedder.embed_query(query)\n",
    "\n",
    "# Chroma 내부 collection 객체로 직접 질의\n",
    "results = chroma._collection.query(\n",
    "    query_embeddings=[query_vector],\n",
    "    n_results=5,\n",
    "    include=[\"documents\", \"metadatas\", \"distances\"]\n",
    ")"
   ]
  },
  {
   "cell_type": "code",
   "execution_count": 19,
   "id": "b59b3ef0",
   "metadata": {},
   "outputs": [
    {
     "name": "stdout",
     "output_type": "stream",
     "text": [
      "\n",
      "📌 결과 1\n",
      "유사도 점수 (낮을수록 유사): 0.7580\n",
      "문서 내용:\n",
      "적 기준 미충족, 자동납부 해지 등의 사유로 서비스가 적용되지 않더라도 결제일 할인 제공회차는 소진됩니다.\n",
      "- 이동통신 자동납부 건은 한 달 동안 이용한 금액이 다음 달에 결제되며, 롯데카드에 접수되는 일자를 기준으로 할인 혜택이 제공됩니다.\n",
      "- 남은 할인한도는 이월되지 않습니다.\n",
      "- 결제 취소 건 접수 내역은 롯데카드 홈페이지(www.lottecard.c...\n",
      "메타데이터: {'fee_domestic': '20,000', 'brand': '롯데카드', 'card_schemes': 'Mastercard', 'name': '모바일엔디지로카', 'fee_global': '20,000'}\n",
      "\n",
      "📌 결과 2\n",
      "유사도 점수 (낮을수록 유사): 0.8360\n",
      "문서 내용:\n",
      "닥터구디 T&R(티앤알) 카드\n",
      "통신: 통신요금 자동이체 최대 15,000원 청구할인\n",
      "- 통신요금 자동이체 가맹점: SKT, KT, LGU+, SK텔링크, LG헬로비전, U+알뜰모바일, 현대HCN, 딜라이브, 에넥스텔레콤, 플래시모바일, KT엠모바일, 프리텔레콤, 에스원 안심모바일, SK브로드밴드, 여유텔레콤, 씨엠비, KT Skylife\n",
      "[자동이체 청구할인...\n",
      "메타데이터: {'brand': '하나카드', 'name': '닥터구디 T&R(티앤알) 카드', 'fee_global': '25,000원', 'card_schemes': 'AMEX', 'fee_domestic': '25,000원'}\n",
      "\n",
      "📌 결과 3\n",
      "유사도 점수 (낮을수록 유사): 0.8414\n",
      "문서 내용:\n",
      "CLUB SK 카드\n",
      "SKT: SK텔레콤 이동통신 요금 청구할인\n",
      "- SK텔레콤 이동통신 요금 자동이체 설정 시, 휴대폰 기종 / 자동이체 방법에 따라 월 2천원~1만5천원까지 청구할인 (월 1회)\n",
      "SK텔레콤 이동통신 요금 청구할인기준\n",
      "지난달 일시불/할부 카드 이용금액40만원 이상70만원 미만70만원 이상100만원 미만100만원 이상LTE모바일5,000원10,...\n",
      "메타데이터: {'name': 'CLUB SK 카드', 'fee_domestic': '6,000', 'brand': '하나카드', 'fee_global': '25,000', 'card_schemes': 'VISA, Mastercard, AMEX, UnionPay, JCB'}\n",
      "\n",
      "📌 결과 4\n",
      "유사도 점수 (낮을수록 유사): 0.8466\n",
      "문서 내용:\n",
      "KMVNO 알뜰폰 카드\n",
      "통신: KMVNO 알뜰폰 통신요금 자동이체 할인 서비스\n",
      "- 전월 이용실적 1구간(30만원 이상): 월 할인금액(통합한도) 12,000원\n",
      "- 전월 이용실적 2구간(70만원 이상): 월 할인금액(통합한도) 17,000원\n",
      "- KMVNO(한국알뜰통신사업자협회)란 국민의 통신비 부담 해소를 위하여 알뜰폰 (MVNO)사업을 하는 회원사들이 모여...\n",
      "메타데이터: {'brand': 'KB국민카드', 'fee_global': '15,000', 'name': 'KMVNO 알뜰폰 카드', 'card_schemes': 'Mastercard, JCB', 'fee_domestic': '15,000'}\n",
      "\n",
      "📌 결과 5\n",
      "유사도 점수 (낮을수록 유사): 0.8478\n",
      "문서 내용:\n",
      "점번호로 승인처리 되는 PG(결제대행)업체 또는 일부 간편결제(pay) 이용 시 할인 대상에서 제외 될 수 있습니다.\n",
      "- KB국민 KMVNO 알뜰폰 카드는 본인 회원 기준으로 월간 할인 한도가 제공되며 적용 기간은 매월 1일~말일까지 (승인시점 기준)입니다.\n",
      "- 이용 순서대로 월간 한도 내 할인이 적용되며, 월간 잔여 할인한도는 이월되지 않습니다.\n",
      "- 할인...\n",
      "메타데이터: {'fee_domestic': '15,000', 'name': 'KMVNO 알뜰폰 카드', 'card_schemes': 'Mastercard, JCB', 'brand': 'KB국민카드', 'fee_global': '15,000'}\n"
     ]
    }
   ],
   "source": [
    "# 결과 출력\n",
    "for i in range(len(results[\"documents\"][0])):\n",
    "    print(f\"\\n📌 결과 {i+1}\")\n",
    "    print(f\"유사도 점수 (낮을수록 유사): {results['distances'][0][i]:.4f}\")\n",
    "    print(f\"문서 내용:\\n{results['documents'][0][i][:200]}...\")\n",
    "    print(f\"메타데이터: {results['metadatas'][0][i]}\")\n"
   ]
  },
  {
   "cell_type": "code",
   "execution_count": null,
   "id": "3c0bd286",
   "metadata": {},
   "outputs": [],
   "source": [
    "llm = ChatOpenAI(model=\"gpt-4o-mini\")"
   ]
  },
  {
   "cell_type": "code",
   "execution_count": 21,
   "id": "6c84abf3",
   "metadata": {},
   "outputs": [],
   "source": [
    "def extract_filters(user_query):\n",
    "    filters = {}\n",
    "    \n",
    "    # 1. 카드사 추출\n",
    "    for brand in [\"롯데카드\", \"신한카드\", \"하나카드\", \"KB국민카드\", \"삼성카드\", \"우리카드\"]:\n",
    "        if brand in user_query:\n",
    "            filters[\"brand\"] = brand\n",
    "            user_query = user_query.replace(brand, \"\")\n",
    "    \n",
    "    # 2. 카드 브랜드\n",
    "    for scheme in [\"Visa\", \"Mastercard\", \"AMEX\", \"JCB\", \"UnionPay\"]:\n",
    "        if scheme.lower() in user_query.lower():\n",
    "            filters[\"card_schemes\"] = scheme\n",
    "            user_query = re.sub(scheme, \"\", user_query, flags=re.IGNORECASE)\n",
    "\n",
    "    # 3. 연회비 조건\n",
    "    m = re.search(r\"연회비\\s*(\\d{1,3}[,]?\\d{3})\\s*원\\s*이하\", user_query)\n",
    "    if m:\n",
    "        max_fee = m.group(1).replace(\",\", \"\")\n",
    "        filters[\"fee_global\"] = max_fee \n",
    "\n",
    "    return user_query.strip(), filters"
   ]
  },
  {
   "cell_type": "code",
   "execution_count": 22,
   "id": "ebfbec8a",
   "metadata": {},
   "outputs": [],
   "source": [
    "query = \"배달앱 혜택 있는 카드 추천해줘\"\n",
    "query_text, filter_meta = extract_filters(query)"
   ]
  },
  {
   "cell_type": "code",
   "execution_count": null,
   "id": "f7308b2b",
   "metadata": {},
   "outputs": [],
   "source": [
    "retriever = chroma.as_retriever(\n",
    "    search_kwargs={\n",
    "        \"k\": 5,\n",
    "        **({\"filter\": filter_meta} if filter_meta else {})\n",
    "    }\n",
    ")\n",
    "retrieved_docs = retriever.get_relevant_documents(query)\n",
    "\n",
    "contexts = [doc.page_content for doc in retrieved_docs]"
   ]
  },
  {
   "cell_type": "code",
   "execution_count": 24,
   "id": "695d40f7",
   "metadata": {},
   "outputs": [],
   "source": [
    "prompt = PromptTemplate.from_template(\"\"\"\n",
    "당신은 신용카드 혜택을 분석하여 사용자에게 가장 적합한 카드를 추천하는 전문 상담 챗봇입니다.\n",
    "\n",
    "아래 Context에는 카드 이름, 카드사, 연회비, 주요 혜택 정보가 정리되어 있습니다.  \n",
    "사용자의 질문을 바탕으로 조건에 부합하는 카드를 3개 추천해주세요.\n",
    "\n",
    "반드시 지켜야 할 지침:\n",
    "\n",
    "- 답변은 **반드시 context 안의 정보만** 기반으로 작성하세요.  \n",
    "- 문서에 없는 정보를 추가하거나 추론하지 마세요.\n",
    "- 카드별로 최소 3줄 이상의 설명을 포함해야 합니다:\n",
    "  - 1줄: 카드 이름 및 브랜드\n",
    "  - 2줄: 주요 혜택 요약 (카테고리 중심)\n",
    "  - 3줄: 혜택 사용 조건, 예외사항 또는 한도 설명 등\n",
    "- 조건에 맞는 카드가 없다면 **\"조건에 맞는 카드를 찾을 수 없습니다.\"** 라고 답하세요.\n",
    "\n",
    "출력 형식 예시:\n",
    "\n",
    "1. **롯데쇼핑카드** - 롯데카드  \n",
    "   - 온라인 쇼핑, 네이버페이, 쿠팡 등에서 10% 청구할인 혜택이 제공됩니다.  \n",
    "   - 월 최대 1만원까지 할인되며, 전월 실적 30만원 이상 시 적용됩니다.\n",
    "\n",
    "2. **신한배달카드** - 신한카드  \n",
    "   - 배달앱(배달의 민족, 요기요, 쿠팡이츠)과 편의점(GS25, CU)에서 각각 10% 할인 혜택이 있습니다.  \n",
    "   - 할인 한도는 항목별로 월 5천원이며, 전월 실적 40만원 이상이 필요합니다.\n",
    "\n",
    "---\n",
    "\n",
    "사용자 질문:\n",
    "{question}\n",
    "\n",
    "카드 정보(Context):\n",
    "{context}\n",
    "\"\"\")"
   ]
  },
  {
   "cell_type": "code",
   "execution_count": 25,
   "id": "229c8f49",
   "metadata": {},
   "outputs": [],
   "source": [
    "qa_chain = RetrievalQA.from_chain_type(\n",
    "    llm=llm,\n",
    "    retriever=retriever,\n",
    "    chain_type=\"stuff\",\n",
    "    chain_type_kwargs={\"prompt\": prompt}\n",
    ")"
   ]
  },
  {
   "cell_type": "code",
   "execution_count": 26,
   "id": "eaafe8aa",
   "metadata": {},
   "outputs": [
    {
     "name": "stdout",
     "output_type": "stream",
     "text": [
      "배달앱 혜택 있는 카드 추천해줘\n",
      "1. **요기요 삼성카드** - 삼성카드  \n",
      "   - 요기요에서 10% 결제일할인 혜택을 제공합니다. 전월 이용금액에 따라 할인 한도가 달라지며, 30만원 이상 시 월 최대 6,000원, 60만원 이상 시 12,000원, 90만원 이상 시 20,000원까지 할인됩니다.  \n",
      "   - 할인은 전월 이용금액 30만원 이상 시 제공되며, 발급월 + 1개월까지는 30만원 미만 실적 구간에서도 혜택이 제공됩니다. 또한, 공식 홈페이지나 앱을 통한 결제에만 적용됩니다.\n",
      "\n",
      "2. **MY WAY 카드** - 삼성카드  \n",
      "   - 대중교통에서 건당 300원 할인 혜택이 제공되며, 커피, 편의점 등에서도 유사한 혜택이 있습니다. 대중교통 이용 시, 전월 실적에 따라 최대 30건까지 할인 받을 수 있습니다.  \n",
      "   - 대중교통 할인은 시내버스 및 지하철에만 적용되며, 시외버스와 고속버스는 제외됩니다. 할인은 전월 이용금액에 따라 달라지며, 커피나 편의점에서도 동일한 할인 혜택이 제공됩니다.\n",
      "\n",
      "3. **부릉 삼성카드 BIZ** - 삼성카드  \n",
      "   - 커피, 이동통신, 주유 등에서 1~3%의 빅포인트 적립 혜택이 제공됩니다. 주유소에서는 1% 적립, 커피 전문점에서는 3% 적립이 가능합니다.  \n",
      "   - 적립 한도는 업종에 따라 다르며, 이동통신의 경우 자동납부건에서만 적립이 가능합니다. 적립 제외 대상에는 대중교통과 무이자할부 등이 포함되어 있습니다.\n"
     ]
    }
   ],
   "source": [
    "response = qa_chain.invoke({\"query\": query})\n",
    "print(response['query'])\n",
    "print(response[\"result\"])"
   ]
  },
  {
   "cell_type": "code",
   "execution_count": 27,
   "id": "44602260",
   "metadata": {},
   "outputs": [
    {
     "name": "stdout",
     "output_type": "stream",
     "text": [
      "✅ 유사도 점수: 0.051\n",
      "요기요 삼성카드\n",
      "배달앱: 서비스안내\n",
      "- 요기요 10% 결제일할인\n",
      "할인기준\n",
      "- 전월 이용금액 30만원 이상: 월 할인한도 6,000원\n",
      "- 전월 이용금액 60만원 이상: 월 할인한도 12,000원\n",
      "- 전월 이용금액 90만원 이상: 월 할인한도 20,000원\n",
      "이용조건\n",
      "- 전월 이용금액 30만원 이상 시 제공\n",
      "- 발급월+1개월까지는 전월 이용금액 30만원 미만 시에도 30만원 이상~60만원 미만 실적구간 혜택 제공(전월 이용금액 60만원 이상 시에는 해당 실적구간 혜택 제공)\n",
      "할인 제외 대상\n",
      "- 무이자할부, 삼성카드 할인이 적용된 일시불 \n",
      "✅ 유사도 점수: 0.046\n",
      "e플래티넘 롯데카드\n",
      "바우처: 스페셜 기프트 - 매년 2만원 캐시백\n",
      "- 발급 첫 해 : 연간 이용금액 10만원 이상 이용 시 2만원 캐시백\n",
      "- 다음해부터 : 연간 이용금액 300만원 이상 및 스마일페이 가맹점 1회 이상 이용 시 2만원 캐시백\n",
      "* 연회비 정상 납부 시 제공\n",
      "* 신청방법: 고객센터 1588-8100 또는 홈페이지(www.lottecard.co.kr) 신청\n",
      "* 이 서비스는 최초 발급월 기준으로 신청조건 충족 시 연 1회 신청 가능하며, 연회비 면제 회원 및 가족카드 회원은 제외됩니다.\n",
      "* 이 서비스의 이용금액은 카드 발급\n",
      "✅ 유사도 점수: 0.034\n",
      "#MY WAY 카드\n",
      "대중교통: 대중교통 건당 300원 할인\n",
      "할인 대상 가맹점\n",
      "- 버스, 지하철\n",
      "지난달 실적별 월 할인 건 수\n",
      "- 20만원 이상: 10건\n",
      "- 60만원 이상: 20건\n",
      "- 100만원 이상: 30건\n",
      "제공 서비스별 건당 결제 조건\n",
      "- 대중교통: 3백원 이상\n",
      "※ 대중교통 할인 안내\n",
      "- 대중교통 할인의 경우 월 1회 대중교통요금 청구 시 할인 건 수 적용하여 할인\n",
      "- 대중교통 이용건 수 산정방식: 월 합산 대중교통요금 청구금액/ 1,200원(소수점 이하 절사)\n",
      "- 대중교통 이용건 수 산정방식에 따라 산출된 이용건 수당 300원씩\n",
      "✅ 유사도 점수: 0.028\n",
      "카카오뱅크 삼성카드\n",
      "할인: 전제가맹점\n",
      "- 국내외 온오프라인 가맹점 0.5% 할인\n",
      "할인 가맹점 제외 대상 안내\n",
      "- 무이자할부, 삼성카드 할인이 적용된 일시불 및 할부 이용금액\n",
      "- 건강보험/국민연금/고용보험/산재보험 및 장애인 고용부담금, 국세/지방세/공과금\n",
      "- 초·중·고등학교 학교납입금, 대학 등록금\n",
      "- 대중교통, 택시, 고속버스(차내 단말기 및 고속버스 앱 결제), 고속도로 통행요금\n",
      "- 기프트/선불카드(포인트, 사이버머니 등 전자지급수단 포함) 구매 및 충전, 상품권 구매, 문자알림서비스, 스마트오토서비스 이용금액, 부동산 임대료\n",
      "\n",
      "✅ 유사도 점수: 0.017\n",
      "부릉 삼성카드 BIZ\n",
      "적립: 커피, 이동통신, 주유 등 1~3% 빅포인트 적립\n",
      "적립률업종적립 대상점통합 월 적립한도3%커피/제과스타벅스, 커피빈, 카페베네, 할리스커피, 배스킨라빈스, 파리바게뜨, 뚜레쥬르, 던킨도너츠 등5,000P편의점CU, 세븐일레븐, GS25, 미니스톱2%이동통신SKT, KT, LG U+ 자동납부건5,000P병원양방 병원(내과/외과/치과/피부과 포함)해외해외 가맹점 및 해외 직접구매 이용건(해외겸용카드)1%주유모든 주유소(LPG 충전소 제외)-할인점이마트, 이마트 트레이더스, 롯데마트, 홈플러스음식점한식, 양식\n"
     ]
    }
   ],
   "source": [
    "query_vector = embedder.embed_query(query)\n",
    "\n",
    "results = chroma._collection.query(\n",
    "    query_embeddings=[query_vector],\n",
    "    n_results=5,\n",
    "    include=[\"documents\", \"metadatas\", \"distances\"]\n",
    ")\n",
    "\n",
    "for doc, dist in zip(results[\"documents\"][0], results[\"distances\"][0]):\n",
    "    print(f\"✅ 유사도 점수: {1 - dist:.3f}\")  # 코사인 거리 → 유사도 = 1 - 거리\n",
    "    print(doc[:300])"
   ]
  },
  {
   "cell_type": "code",
   "execution_count": null,
   "id": "63b3ba13",
   "metadata": {},
   "outputs": [],
   "source": [
    "from ragas.metrics import answer_relevancy, faithfulness\n",
    "from ragas.evaluation import evaluate\n",
    "import pandas as pd\n",
    "from datasets import Dataset\n",
    "\n",
    "# 평가용 데이터 구성\n",
    "df = pd.DataFrame([{\n",
    "    \"question\": \"연회비 1만원 이하에 스타벅스 할인되는 카드\",\n",
    "    \"answer\": response[\"result\"],\n",
    "    \"contexts\": contexts \n",
    "}])\n",
    "\n",
    "# DataFrame → Dataset 변환\n",
    "ragas_dataset = Dataset.from_pandas(df)\n",
    "\n",
    "# 평가 실행\n",
    "results = evaluate(\n",
    "    ragas_dataset,\n",
    "    metrics=[answer_relevancy, faithfulness]\n",
    ")\n",
    "\n",
    "results"
   ]
  }
 ],
 "metadata": {
  "kernelspec": {
   "display_name": "lang_ev",
   "language": "python",
   "name": "python3"
  },
  "language_info": {
   "codemirror_mode": {
    "name": "ipython",
    "version": 3
   },
   "file_extension": ".py",
   "mimetype": "text/x-python",
   "name": "python",
   "nbconvert_exporter": "python",
   "pygments_lexer": "ipython3",
   "version": "3.12.9"
  }
 },
 "nbformat": 4,
 "nbformat_minor": 5
}
