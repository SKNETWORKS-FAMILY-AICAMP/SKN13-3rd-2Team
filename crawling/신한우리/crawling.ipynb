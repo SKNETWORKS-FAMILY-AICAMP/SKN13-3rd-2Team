{
 "cells": [
  {
   "cell_type": "code",
   "execution_count": null,
   "id": "145e331e",
   "metadata": {},
   "outputs": [],
   "source": [
    "from selenium import webdriver\n",
    "from selenium.webdriver.chrome.service import Service\n",
    "from selenium.webdriver.common.by import By\n",
    "from selenium.webdriver.common.action_chains import ActionChains\n",
    "from bs4 import BeautifulSoup\n",
    "import time\n",
    "\n",
    "url_1 = \"https://www.card-gorilla.com/chart/corp?sub=2&term=monthly&date=2025-05-25\" # 신한\n",
    "url_2 = \"https://www.card-gorilla.com/chart/corp?sub=8&term=monthly&date=2025-05-25\" # 우리\n",
    "\n",
    "def get_card_urls_selenium():\n",
    "    driver = webdriver.Chrome()\n",
    "    driver.get(url=url_2)\n",
    "    time.sleep(5)\n",
    "\n",
    "    soup = BeautifulSoup(driver.page_source, 'html.parser')\n",
    "\n",
    "    anchors = soup.select(\".num1_card .con_area a[href^='/card/detail/'], .inner .con_area a[href^='/card/detail/']\")\n",
    "\n",
    "    card_urls = {\"https://www.card-gorilla.com\" + a['href'] for a in anchors}\n",
    "    driver.quit()\n",
    "    return list(card_urls)"
   ]
  },
  {
   "cell_type": "code",
   "execution_count": 7,
   "id": "7f162641",
   "metadata": {},
   "outputs": [
    {
     "ename": "AttributeError",
     "evalue": "'str' object has no attribute 'capabilities'",
     "output_type": "error",
     "traceback": [
      "\u001b[31m---------------------------------------------------------------------------\u001b[39m",
      "\u001b[31mAttributeError\u001b[39m                            Traceback (most recent call last)",
      "\u001b[36mCell\u001b[39m\u001b[36m \u001b[39m\u001b[32mIn[7]\u001b[39m\u001b[32m, line 1\u001b[39m\n\u001b[32m----> \u001b[39m\u001b[32m1\u001b[39m res = \u001b[43mget_card_urls_selenium\u001b[49m\u001b[43m(\u001b[49m\u001b[43m)\u001b[49m\n\u001b[32m      2\u001b[39m res\n",
      "\u001b[36mCell\u001b[39m\u001b[36m \u001b[39m\u001b[32mIn[6]\u001b[39m\u001b[32m, line 12\u001b[39m, in \u001b[36mget_card_urls_selenium\u001b[39m\u001b[34m()\u001b[39m\n\u001b[32m     11\u001b[39m \u001b[38;5;28;01mdef\u001b[39;00m \u001b[34mget_card_urls_selenium\u001b[39m():\n\u001b[32m---> \u001b[39m\u001b[32m12\u001b[39m     driver = \u001b[43mwebdriver\u001b[49m\u001b[43m.\u001b[49m\u001b[43mChrome\u001b[49m\u001b[43m(\u001b[49m\u001b[43murl_2\u001b[49m\u001b[43m)\u001b[49m\n\u001b[32m     13\u001b[39m     driver.get()\n\u001b[32m     14\u001b[39m     time.sleep(\u001b[32m5\u001b[39m)\n",
      "\u001b[36mFile \u001b[39m\u001b[32m~/miniconda3/lib/python3.12/site-packages/selenium/webdriver/chrome/webdriver.py:47\u001b[39m, in \u001b[36mWebDriver.__init__\u001b[39m\u001b[34m(self, options, service, keep_alive)\u001b[39m\n\u001b[32m     44\u001b[39m service = service \u001b[38;5;28;01mif\u001b[39;00m service \u001b[38;5;28;01melse\u001b[39;00m Service()\n\u001b[32m     45\u001b[39m options = options \u001b[38;5;28;01mif\u001b[39;00m options \u001b[38;5;28;01melse\u001b[39;00m Options()\n\u001b[32m---> \u001b[39m\u001b[32m47\u001b[39m \u001b[38;5;28;43msuper\u001b[39;49m\u001b[43m(\u001b[49m\u001b[43m)\u001b[49m\u001b[43m.\u001b[49m\u001b[34;43m__init__\u001b[39;49m\u001b[43m(\u001b[49m\n\u001b[32m     48\u001b[39m \u001b[43m    \u001b[49m\u001b[43mbrowser_name\u001b[49m\u001b[43m=\u001b[49m\u001b[43mDesiredCapabilities\u001b[49m\u001b[43m.\u001b[49m\u001b[43mCHROME\u001b[49m\u001b[43m[\u001b[49m\u001b[33;43m\"\u001b[39;49m\u001b[33;43mbrowserName\u001b[39;49m\u001b[33;43m\"\u001b[39;49m\u001b[43m]\u001b[49m\u001b[43m,\u001b[49m\n\u001b[32m     49\u001b[39m \u001b[43m    \u001b[49m\u001b[43mvendor_prefix\u001b[49m\u001b[43m=\u001b[49m\u001b[33;43m\"\u001b[39;49m\u001b[33;43mgoog\u001b[39;49m\u001b[33;43m\"\u001b[39;49m\u001b[43m,\u001b[49m\n\u001b[32m     50\u001b[39m \u001b[43m    \u001b[49m\u001b[43moptions\u001b[49m\u001b[43m=\u001b[49m\u001b[43moptions\u001b[49m\u001b[43m,\u001b[49m\n\u001b[32m     51\u001b[39m \u001b[43m    \u001b[49m\u001b[43mservice\u001b[49m\u001b[43m=\u001b[49m\u001b[43mservice\u001b[49m\u001b[43m,\u001b[49m\n\u001b[32m     52\u001b[39m \u001b[43m    \u001b[49m\u001b[43mkeep_alive\u001b[49m\u001b[43m=\u001b[49m\u001b[43mkeep_alive\u001b[49m\u001b[43m,\u001b[49m\n\u001b[32m     53\u001b[39m \u001b[43m\u001b[49m\u001b[43m)\u001b[49m\n",
      "\u001b[36mFile \u001b[39m\u001b[32m~/miniconda3/lib/python3.12/site-packages/selenium/webdriver/chromium/webdriver.py:53\u001b[39m, in \u001b[36mChromiumDriver.__init__\u001b[39m\u001b[34m(self, browser_name, vendor_prefix, options, service, keep_alive)\u001b[39m\n\u001b[32m     50\u001b[39m \u001b[38;5;28mself\u001b[39m.service = service\n\u001b[32m     52\u001b[39m finder = DriverFinder(\u001b[38;5;28mself\u001b[39m.service, options)\n\u001b[32m---> \u001b[39m\u001b[32m53\u001b[39m \u001b[38;5;28;01mif\u001b[39;00m \u001b[43mfinder\u001b[49m\u001b[43m.\u001b[49m\u001b[43mget_browser_path\u001b[49m\u001b[43m(\u001b[49m\u001b[43m)\u001b[49m:\n\u001b[32m     54\u001b[39m     options.binary_location = finder.get_browser_path()\n\u001b[32m     55\u001b[39m     options.browser_version = \u001b[38;5;28;01mNone\u001b[39;00m\n",
      "\u001b[36mFile \u001b[39m\u001b[32m~/miniconda3/lib/python3.12/site-packages/selenium/webdriver/common/driver_finder.py:47\u001b[39m, in \u001b[36mDriverFinder.get_browser_path\u001b[39m\u001b[34m(self)\u001b[39m\n\u001b[32m     46\u001b[39m \u001b[38;5;28;01mdef\u001b[39;00m \u001b[34mget_browser_path\u001b[39m(\u001b[38;5;28mself\u001b[39m) -> \u001b[38;5;28mstr\u001b[39m:\n\u001b[32m---> \u001b[39m\u001b[32m47\u001b[39m     \u001b[38;5;28;01mreturn\u001b[39;00m \u001b[38;5;28;43mself\u001b[39;49m\u001b[43m.\u001b[49m\u001b[43m_binary_paths\u001b[49m\u001b[43m(\u001b[49m\u001b[43m)\u001b[49m[\u001b[33m\"\u001b[39m\u001b[33mbrowser_path\u001b[39m\u001b[33m\"\u001b[39m]\n",
      "\u001b[36mFile \u001b[39m\u001b[32m~/miniconda3/lib/python3.12/site-packages/selenium/webdriver/common/driver_finder.py:56\u001b[39m, in \u001b[36mDriverFinder._binary_paths\u001b[39m\u001b[34m(self)\u001b[39m\n\u001b[32m     53\u001b[39m \u001b[38;5;28;01mif\u001b[39;00m \u001b[38;5;28mself\u001b[39m._paths[\u001b[33m\"\u001b[39m\u001b[33mdriver_path\u001b[39m\u001b[33m\"\u001b[39m]:\n\u001b[32m     54\u001b[39m     \u001b[38;5;28;01mreturn\u001b[39;00m \u001b[38;5;28mself\u001b[39m._paths\n\u001b[32m---> \u001b[39m\u001b[32m56\u001b[39m browser = \u001b[38;5;28;43mself\u001b[39;49m\u001b[43m.\u001b[49m\u001b[43m_options\u001b[49m\u001b[43m.\u001b[49m\u001b[43mcapabilities\u001b[49m[\u001b[33m\"\u001b[39m\u001b[33mbrowserName\u001b[39m\u001b[33m\"\u001b[39m]\n\u001b[32m     57\u001b[39m \u001b[38;5;28;01mtry\u001b[39;00m:\n\u001b[32m     58\u001b[39m     path = \u001b[38;5;28mself\u001b[39m._service.path\n",
      "\u001b[31mAttributeError\u001b[39m: 'str' object has no attribute 'capabilities'"
     ]
    }
   ],
   "source": [
    "res = get_card_urls_selenium()\n",
    "res"
   ]
  },
  {
   "cell_type": "code",
   "execution_count": 2,
   "id": "74675b27",
   "metadata": {},
   "outputs": [],
   "source": [
    "def parse_card_detail(url):\n",
    "    driver = webdriver.Chrome()\n",
    "    driver.get(url)\n",
    "    time.sleep(3)\n",
    "\n",
    "    dt_elements = driver.find_elements(By.CSS_SELECTOR, \".lst.bene_area dl dt\")\n",
    "    for dt in dt_elements:\n",
    "        try:\n",
    "            driver.execute_script(\"arguments[0].scrollIntoView(true);\", dt)\n",
    "            driver.execute_script(\"arguments[0].click();\", dt)\n",
    "            time.sleep(0.2)\n",
    "        except Exception as e:\n",
    "            print(f\"클릭 실패: {e}\")\n",
    "\n",
    "    soup = BeautifulSoup(driver.page_source, 'html.parser')\n",
    "    driver.quit()\n",
    "\n",
    "    # 기본 정보\n",
    "    name = soup.select_one(\".data_area .tit .card\").get_text(strip=True)\n",
    "    brand = soup.select_one(\".data_area .tit .brand\").get_text(strip=True)\n",
    "    c_brand = soup.select_one(\".c_brand span\").get_text(strip=True)\n",
    "    fee_domestic, fee_global = \"\", \"\"\n",
    "    for span in soup.select(\".in_out span\"):\n",
    "        text = span.get_text()\n",
    "        fee = span.select_one(\"b\")\n",
    "        if not fee:\n",
    "            continue\n",
    "        fee_value = fee.get_text(strip=True)\n",
    "        if \"국내\" in text:\n",
    "            fee_domestic = fee_value\n",
    "        elif \"해외\" in text:\n",
    "            fee_global = fee_value\n",
    "    \n",
    "    # 혜택 정보\n",
    "    benefits = []\n",
    "    for dl in soup.select(\".lst.bene_area dl\"):\n",
    "        dt = dl.select_one(\"dt\")\n",
    "        dd = dl.select_one(\"dd\")\n",
    "        \n",
    "        category_tag = dt.select_one(\"p\") if dt else None\n",
    "        short_desc_tag = dt.select_one(\"i\") if dt else None\n",
    "        category = category_tag.get_text(strip=True) if category_tag else \"기타\"\n",
    "        if category.startswith(\"유의사항\") or category.startswith(\"꼭 확인\"):\n",
    "            continue\n",
    "\n",
    "        short_description = short_desc_tag.get_text(strip=True) if short_desc_tag else \"\"\n",
    "        detail_description = dd.get_text(strip=True) if dd else \"\"\n",
    "\n",
    "        benefits.append({\n",
    "            \"category\": category,\n",
    "            \"short_description\": short_description,\n",
    "            \"detail_description\": detail_description\n",
    "        })\n",
    "\n",
    "    return {\n",
    "        \"name\": name,                        # 카드명 (예: '쿠팡 와우카드')\n",
    "        \"brand\": brand,                      # 카드사 이름 (예: '신한카드')\n",
    "        \"c_brand\": c_brand,                  # 국제 브랜드 (예: 'VISA', 'MasterCard')\n",
    "        \"fee_domestic\": fee_domestic,        # 국내 전용 연회비\n",
    "        \"fee_global\": fee_global,            # 해외 겸용 연회비\n",
    "        \"benefits\": benefits,                # 혜택 정보\n",
    "        \"url\": url                           # 카드 상세 페이지 URL\n",
    "    }"
   ]
  },
  {
   "cell_type": "code",
   "execution_count": 3,
   "id": "985d290e",
   "metadata": {},
   "outputs": [
    {
     "name": "stdout",
     "output_type": "stream",
     "text": [
      "Processing card 1/10: Fetching https://www.card-gorilla.com/card/detail/2759\n",
      "Processing card 2/10: Fetching https://www.card-gorilla.com/card/detail/13\n",
      "Processing card 3/10: Fetching https://www.card-gorilla.com/card/detail/16\n",
      "Processing card 4/10: Fetching https://www.card-gorilla.com/card/detail/39\n",
      "Processing card 5/10: Fetching https://www.card-gorilla.com/card/detail/466\n",
      "Processing card 6/10: Fetching https://www.card-gorilla.com/card/detail/41\n",
      "Processing card 7/10: Fetching https://www.card-gorilla.com/card/detail/37\n",
      "Processing card 8/10: Fetching https://www.card-gorilla.com/card/detail/716\n",
      "Processing card 9/10: Fetching https://www.card-gorilla.com/card/detail/2666\n",
      "Processing card 10/10: Fetching https://www.card-gorilla.com/card/detail/2690\n"
     ]
    }
   ],
   "source": [
    "import time\n",
    "import json\n",
    "\n",
    "card_urls = get_card_urls_selenium()\n",
    "all_cards = []\n",
    "\n",
    "for i, url in enumerate(card_urls):\n",
    "    print(f\"Processing card {i + 1}/{len(card_urls)}: Fetching {url}\")\n",
    "    card = parse_card_detail(url)\n",
    "    if card:\n",
    "        all_cards.append(card)\n",
    "    time.sleep(1)\n",
    "\n",
    "# JSON 파일로 저장\n",
    "with open(\"cards_info.json\", \"w\", encoding=\"utf-8\") as f:\n",
    "    json.dump(all_cards, f, ensure_ascii=False, indent=2)"
   ]
  },
  {
   "cell_type": "code",
   "execution_count": null,
   "id": "27b307a2",
   "metadata": {},
   "outputs": [],
   "source": []
  }
 ],
 "metadata": {
  "kernelspec": {
   "display_name": "base",
   "language": "python",
   "name": "python3"
  },
  "language_info": {
   "codemirror_mode": {
    "name": "ipython",
    "version": 3
   },
   "file_extension": ".py",
   "mimetype": "text/x-python",
   "name": "python",
   "nbconvert_exporter": "python",
   "pygments_lexer": "ipython3",
   "version": "3.12.9"
  }
 },
 "nbformat": 4,
 "nbformat_minor": 5
}
