{
 "cells": [
  {
   "cell_type": "code",
   "execution_count": 4,
   "id": "145e331e",
   "metadata": {},
   "outputs": [],
   "source": [
    "from selenium import webdriver\n",
    "from selenium.webdriver.chrome.service import Service\n",
    "from selenium.webdriver.common.by import By\n",
    "from selenium.webdriver.common.action_chains import ActionChains\n",
    "from bs4 import BeautifulSoup\n",
    "import time\n",
    "\n",
    "url_1 = \"https://www.card-gorilla.com/chart/corp?sub=2&term=monthly&date=2025-05-25\" # 신한\n",
    "url_2 = \"https://www.card-gorilla.com/chart/corp?sub=8&term=monthly&date=2025-05-25\" # 우리\n",
    "url_3 = \"https://www.card-gorilla.com/chart/corp?sub=8&term=monthly&date=2025-05-26\" # 하나\n",
    "\n",
    "def get_card_urls_selenium():\n",
    "    driver = webdriver.Chrome()\n",
    "    driver.get(url=url_3) # 하나\n",
    "    time.sleep(5)\n",
    "\n",
    "    soup = BeautifulSoup(driver.page_source, 'html.parser')\n",
    "\n",
    "    anchors = soup.select(\".num1_card .con_area a[href^='/card/detail/'], .inner .con_area a[href^='/card/detail/']\")\n",
    "\n",
    "    card_urls = {\"https://www.card-gorilla.com\" + a['href'] for a in anchors}\n",
    "    driver.quit()\n",
    "    return list(card_urls)"
   ]
  },
  {
   "cell_type": "code",
   "execution_count": 2,
   "id": "7f162641",
   "metadata": {},
   "outputs": [
    {
     "data": {
      "text/plain": [
       "['https://www.card-gorilla.com/card/detail/2529',\n",
       " 'https://www.card-gorilla.com/card/detail/227',\n",
       " 'https://www.card-gorilla.com/card/detail/2821',\n",
       " 'https://www.card-gorilla.com/card/detail/2657',\n",
       " 'https://www.card-gorilla.com/card/detail/2446',\n",
       " 'https://www.card-gorilla.com/card/detail/2703',\n",
       " 'https://www.card-gorilla.com/card/detail/2237',\n",
       " 'https://www.card-gorilla.com/card/detail/2654',\n",
       " 'https://www.card-gorilla.com/card/detail/2406',\n",
       " 'https://www.card-gorilla.com/card/detail/2705']"
      ]
     },
     "execution_count": 2,
     "metadata": {},
     "output_type": "execute_result"
    }
   ],
   "source": [
    "res = get_card_urls_selenium()\n",
    "res"
   ]
  },
  {
   "cell_type": "code",
   "execution_count": 3,
   "id": "74675b27",
   "metadata": {},
   "outputs": [],
   "source": [
    "def parse_card_detail(url):\n",
    "    driver = webdriver.Chrome()\n",
    "    driver.get(url)\n",
    "    time.sleep(3)\n",
    "\n",
    "    dt_elements = driver.find_elements(By.CSS_SELECTOR, \".lst.bene_area dl dt\")\n",
    "    for dt in dt_elements:\n",
    "        try:\n",
    "            driver.execute_script(\"arguments[0].scrollIntoView(true);\", dt)\n",
    "            driver.execute_script(\"arguments[0].click();\", dt)\n",
    "            time.sleep(0.2)\n",
    "        except Exception as e:\n",
    "            print(f\"클릭 실패: {e}\")\n",
    "\n",
    "    soup = BeautifulSoup(driver.page_source, 'html.parser')\n",
    "    driver.quit()\n",
    "\n",
    "    # 기본 정보\n",
    "    name = soup.select_one(\".data_area .tit .card\").get_text(strip=True)\n",
    "    brand = soup.select_one(\".data_area .tit .brand\").get_text(strip=True)\n",
    "    c_brand = soup.select_one(\".c_brand span\").get_text(strip=True)\n",
    "    fee_domestic, fee_global = \"\", \"\"\n",
    "    for span in soup.select(\".in_out span\"):\n",
    "        text = span.get_text()\n",
    "        fee = span.select_one(\"b\")\n",
    "        if not fee:\n",
    "            continue\n",
    "        fee_value = fee.get_text(strip=True)\n",
    "        if \"국내\" in text:\n",
    "            fee_domestic = fee_value\n",
    "        elif \"해외\" in text:\n",
    "            fee_global = fee_value\n",
    "    \n",
    "    # 혜택 정보\n",
    "    benefits = []\n",
    "    for dl in soup.select(\".lst.bene_area dl\"):\n",
    "        dt = dl.select_one(\"dt\")\n",
    "        dd = dl.select_one(\"dd\")\n",
    "        \n",
    "        category_tag = dt.select_one(\"p\") if dt else None\n",
    "        short_desc_tag = dt.select_one(\"i\") if dt else None\n",
    "        category = category_tag.get_text(strip=True) if category_tag else \"기타\"\n",
    "        if category.startswith(\"유의사항\") or category.startswith(\"꼭 확인\"):\n",
    "            continue\n",
    "\n",
    "        short_description = short_desc_tag.get_text(strip=True) if short_desc_tag else \"\"\n",
    "        detail_description = dd.get_text(strip=True) if dd else \"\"\n",
    "\n",
    "        benefits.append({\n",
    "            \"category\": category,\n",
    "            \"short_description\": short_description,\n",
    "            \"detail_description\": detail_description\n",
    "        })\n",
    "\n",
    "    return {\n",
    "        \"name\": name,                        # 카드명 (예: '쿠팡 와우카드')\n",
    "        \"brand\": brand,                      # 카드사 이름 (예: '신한카드')\n",
    "        \"c_brand\": c_brand,                  # 국제 브랜드 (예: 'VISA', 'MasterCard')\n",
    "        \"fee_domestic\": fee_domestic,        # 국내 전용 연회비\n",
    "        \"fee_global\": fee_global,            # 해외 겸용 연회비\n",
    "        \"benefits\": benefits,                # 혜택 정보\n",
    "        \"url\": url                           # 카드 상세 페이지 URL\n",
    "    }"
   ]
  },
  {
   "cell_type": "code",
   "execution_count": 7,
   "id": "985d290e",
   "metadata": {},
   "outputs": [
    {
     "name": "stdout",
     "output_type": "stream",
     "text": [
      "Processing card 1/10: Fetching https://www.card-gorilla.com/card/detail/2529\n",
      "Processing card 2/10: Fetching https://www.card-gorilla.com/card/detail/227\n",
      "Processing card 3/10: Fetching https://www.card-gorilla.com/card/detail/2821\n",
      "Processing card 4/10: Fetching https://www.card-gorilla.com/card/detail/2657\n",
      "Processing card 5/10: Fetching https://www.card-gorilla.com/card/detail/2446\n",
      "Processing card 6/10: Fetching https://www.card-gorilla.com/card/detail/2703\n",
      "Processing card 7/10: Fetching https://www.card-gorilla.com/card/detail/2237\n",
      "Processing card 8/10: Fetching https://www.card-gorilla.com/card/detail/2654\n",
      "Processing card 9/10: Fetching https://www.card-gorilla.com/card/detail/2406\n",
      "Processing card 10/10: Fetching https://www.card-gorilla.com/card/detail/2705\n"
     ]
    }
   ],
   "source": [
    "import time\n",
    "import json\n",
    "\n",
    "card_urls = get_card_urls_selenium()\n",
    "all_cards = []\n",
    "\n",
    "for i, url in enumerate(card_urls):\n",
    "    print(f\"Processing card {i + 1}/{len(card_urls)}: Fetching {url}\")\n",
    "    card = parse_card_detail(url)\n",
    "    if card:\n",
    "        all_cards.append(card)\n",
    "    time.sleep(1)\n",
    "\n",
    "# JSON 파일로 저장\n",
    "with open(\"하나.json\", \"w\", encoding=\"utf-8\") as f:\n",
    "    json.dump(all_cards, f, ensure_ascii=False, indent=2)"
   ]
  },
  {
   "cell_type": "code",
   "execution_count": null,
   "id": "27b307a2",
   "metadata": {},
   "outputs": [],
   "source": []
  }
 ],
 "metadata": {
  "kernelspec": {
   "display_name": "base",
   "language": "python",
   "name": "python3"
  },
  "language_info": {
   "codemirror_mode": {
    "name": "ipython",
    "version": 3
   },
   "file_extension": ".py",
   "mimetype": "text/x-python",
   "name": "python",
   "nbconvert_exporter": "python",
   "pygments_lexer": "ipython3",
   "version": "3.12.7"
  }
 },
 "nbformat": 4,
 "nbformat_minor": 5
}
