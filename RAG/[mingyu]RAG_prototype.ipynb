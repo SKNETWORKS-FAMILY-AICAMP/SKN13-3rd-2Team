{
 "cells": [
  {
   "cell_type": "code",
   "execution_count": 2,
   "id": "2d27db65",
   "metadata": {},
   "outputs": [],
   "source": [
    "# JSON 파일 로드\n",
    "with open(\"card_infos_short.json\", \"r\", encoding=\"utf-8\") as f:\n",
    "    card_data = json.load(f)"
   ]
  },
  {
   "cell_type": "code",
   "execution_count": 4,
   "id": "e8b28207",
   "metadata": {},
   "outputs": [],
   "source": [
    "from langchain.docstore.document import Document\n",
    "from langchain.text_splitter import RecursiveCharacterTextSplitter\n",
    "import json\n",
    "\n",
    "documents = []\n",
    "\n",
    "for card in card_data:\n",
    "    content_blocks = []\n",
    "\n",
    "    # 카드 기본 정보 추가\n",
    "    content_blocks.append(f\"카드이름: {card['카드이름']}\")\n",
    "    content_blocks.append(f\"카드사: {card['카드사']}\")\n",
    "    content_blocks.append(f\"카드브랜드: {card['카드브랜드']}\")\n",
    "    content_blocks.append(f\"국내연회비: {card['국내연회비']}원\")\n",
    "    content_blocks.append(f\"해외연회비: {card['해외연회비']}원\")\n",
    "    # content_blocks.append(f\"카드 URL: {card['카드_url']}\")\n",
    "\n",
    "    # 주요 혜택 (유의사항 제외)\n",
    "    benefit_texts = []\n",
    "    for section, content in card[\"주요혜택\"].items():\n",
    "        if section.strip() != \"유의사항\":\n",
    "            benefit_texts.append(f\"[{section}] {content}\")\n",
    "\n",
    "    if benefit_texts:\n",
    "        content_blocks.append(\"\\n\\n\".join(benefit_texts))\n",
    "\n",
    "    # 최종 page_content\n",
    "    final_text = \"\\n\\n\".join(content_blocks).replace(\"\\n\", \" \")\n",
    "\n",
    "    # Document 생성\n",
    "    doc = Document(\n",
    "        page_content=final_text,\n",
    "        metadata={\n",
    "            # \"카드_url\": card[\"카드_url\"],\n",
    "            \"카드이름\": card[\"카드이름\"],\n",
    "            \"카드사\": card[\"카드사\"],\n",
    "            \"카드브랜드\": card[\"카드브랜드\"],\n",
    "            \"국내연회비\": card[\"국내연회비\"],\n",
    "            \"해외연회비\": card[\"해외연회비\"],\n",
    "            \"원본_전체_혜택\": json.dumps(card[\"주요혜택\"], ensure_ascii=False)\n",
    "        }\n",
    "    )\n",
    "\n",
    "    documents.append(doc)\n"
   ]
  },
  {
   "cell_type": "code",
   "execution_count": 6,
   "id": "08c29e61",
   "metadata": {},
   "outputs": [
    {
     "data": {
      "text/plain": [
       "{'카드이름': '신한카드 B.Big(삑)',\n",
       " '카드사': '신한카드',\n",
       " '카드브랜드': 'VISA',\n",
       " '국내연회비': 0,\n",
       " '해외연회비': 10000,\n",
       " '원본_전체_혜택': '{\"대중교통\": \"버스, 지하철 후불 교통 이용 금액 일 200원 ~ 일 600원 할인\", \"택시\": \"택시/KTX 이용 금액 10% 할인\", \"백화점\": \"4대 백화점 5% 할인\", \"카페\": \"커피전문점 10% 할인\", \"편의점\": \"편의점 5% 할인\", \"통신\": \"이동통신요금 5% 할인\", \"영화\": \"CGV, 메가박스\", \"캐시백\": \"전기요금, 통신요금, 해외이용금액 5% 캐시백 제공\", \"유의사항\": \"- 본 카드의 서비스 내용은 당사 및 제휴사 사정에 따라 사전 고지 후 변경 또는 중단될 수 있으며, 카드 이용금액에 따라 제한될 수 있습니다.- 별도의 이벤트를 진행하지 않는 한 타 쿠폰 및 타 카드(신용카드, 통신계 카드 등) 타 할인혜택의 중복 사용은 불가합니다.- 계약 체결 전 상품에 관한 사항은 상품설명서 및 약관을 읽어보시기 바랍니다.※ 카드이용시 제공되는 포인트 및 할인혜택 등의 부가서비스는 카드 신규출시(2020.11.10) 이후 3년 이상 축소, 폐지 없이 유지됩니다.※ 상기에도 불구하고, 다음과 같은 사유가 발생한 경우 카드사는 부가서비스를 변경할 수 있습니다.     ① 카드사의 휴업·파산·경영상의 위기 등에 따른 불가피한 경우     ② 제휴업체의 휴업•파산•경영상의 위기로 인해 불가피하게 부가서비스를 축소•변경하는 경우로서 다른 제휴업체를 통해 동종의 유사한 부가서비스 제공이 불가한 경우     ③ 제휴업체가 카드사의 의사에 반하여 해당 부가서비스를 축소하거나 변경 시, 당초 부가서비스에 상응하는 다른 부가서비스를 제공하는 경우     ④ 부가서비스를 3년 이상 제공한 상태에서 해당 부가서비스로 인해 카드의 수익성이 현저히 낮아진 경우※ 카드사가 부가서비스를 변경하는 경우에는 부가서비스 변경 사유, 변경 내용 등을 사유발생 즉시 아래 고지방법 중 2가지 이상의 방법으로 고지해 드립니다. 특히 부가서비스를 3년 이상 제공한 상태에서 해당 부가서비스로 인해 카드의 수익성이 현저히 낮아져 부가서비스를 변경하는 경우에는 6개월 전부터 아래 고지방법 중2가지 이상의 방법으로 매월 고지해 드립니다.- 고지 방법 : 서면 교부, 우편 또는 전자우편, 전화 또는 팩스, 휴대폰 메시지 또는 이에 준하는 전자적 의사표시\"}'}"
      ]
     },
     "execution_count": 6,
     "metadata": {},
     "output_type": "execute_result"
    }
   ],
   "source": [
    "documents[1].metadata"
   ]
  },
  {
   "cell_type": "code",
   "execution_count": 8,
   "id": "38925b3a",
   "metadata": {},
   "outputs": [
    {
     "data": {
      "text/plain": [
       "'카드이름: 삼성 iD ON 카드  카드사: 삼성카드  카드브랜드: Mastercard  국내연회비: 20000원  해외연회비: 20000원  [할인] 온라인 간편결제·해외 3%·1% 할인  [생활] 교통·이동통신·스트리밍 10% 할인  [선택형] 내 마음대로 고르는 디자인- 다양한 스타일로 새롭게 선보이는 삼성 iD 카드를 소개합니다.'"
      ]
     },
     "execution_count": 8,
     "metadata": {},
     "output_type": "execute_result"
    }
   ],
   "source": [
    "documents[1187].page_content"
   ]
  },
  {
   "cell_type": "code",
   "execution_count": 45,
   "id": "b7562128",
   "metadata": {},
   "outputs": [
    {
     "name": "stdout",
     "output_type": "stream",
     "text": [
      "총 토큰 수: 356478\n"
     ]
    }
   ],
   "source": [
    "import tiktoken\n",
    "\n",
    "# 사용할 모델의 토크나이저 로드\n",
    "enc = tiktoken.encoding_for_model(\"text-embedding-3-small\")\n",
    "\n",
    "def count_tokens(text):\n",
    "    tokens = enc.encode(text)\n",
    "    return len(tokens)\n",
    "\n",
    "# documents는 langchain Document 객체 리스트라고 가정\n",
    "total_tokens = sum(count_tokens(doc.page_content) for doc in documents)\n",
    "print(f\"총 토큰 수: {total_tokens}\")\n",
    "\n",
    "# 총 토큰 수: 5675318\n",
    "# 총 토큰 수: 3558221\n",
    "# 총 토큰 수: 411322"
   ]
  },
  {
   "cell_type": "code",
   "execution_count": 9,
   "id": "dac37f1f",
   "metadata": {},
   "outputs": [
    {
     "data": {
      "text/plain": [
       "[Document(metadata={'카드이름': '신한카드 The CLASSIC-Y', '카드사': '신한카드', '카드브랜드': 'VISA', '국내연회비': 0, '해외연회비': 100000, '원본_전체_혜택': '{\"선택형\": \"Gift Option Service - 매년 1회 옵션 품목 중 한 가지를 선택하여 이용\", \"모든가맹점\": \"일시불/할부 이용금액의 0.7% 마이신한포인트 적립\\\\n해외, 명품 아울렛(신세계/롯데), 면세점, 골프 업종 이용 시 5% 마이신한포인트 적립\", \"주유소\": \"GS칼텍스 주유 시 리터당 60원 결제일 할인 \", \"생활\": \"커피/제과/택시/화장품/영화 5% 할인 \", \"면세점\": \"제주 JDC 면세점 이용 시 8% 할인\", \"진에어\": \"진에어 국제선 항공권 결제일 할인\", \"공연/전시\": \"오디오 가이드 및 오페라 글라스 무료 이용 서비스\", \"프리미엄\": \"국제브랜드사 서비스 공통사항 안내\", \"유의사항\": \"- 계약 체결 전 상품에 관한 사항은 상품설명서 및 약관을 읽어보시기 바랍니다.※ 카드이용시 제공되는 포인트 및 할인혜택 등의 부가서비스는 카드 신규출시(2014.10.31) 이후 3년 이상 축소, 폐지 없이 유지됩니다.※ 상기에도 불구하고, 다음과 같은 사유가 발생한 경우 카드사는 부가서비스를 변경할 수 있습니다.     ① 카드사의 휴업·파산·경영상의 위기 등에 따른 불가피한 경우     ② 제휴업체의 휴업•파산•경영상의 위기로 인해 불가피하게 부가서비스를 축소•변경하는 경우로서 다른 제휴업체를 통해 동종의 유사한 부가서비스 제공이 불가한 경우     ③ 제휴업체가 카드사의 의사에 반하여 해당 부가서비스를 축소하거나 변경 시, 당초 부가서비스에 상응하는 다른 부가서비스를 제공하는 경우     ④ 부가서비스를 3년 이상 제공한 상태에서 해당 부가서비스로 인해 카드의 수익성이 현저히 낮아진 경우※ 카드사가 부가서비스를 변경하는 경우에는 부가서비스 변경 사유, 변경 내용 등을 사유발생 즉시 아래 고지방법 중 2가지 이상의 방법으로 고지해 드립니다. 특히 부가서비스를 3년 이상 제공한 상태에서 해당 부가서비스로 인해 카드의 수익성이 현저히 낮아져 부가서비스를 변경하는 경우에는 6개월 전부터 아래 고지방법 중2가지 이상의 방법으로 매월 고지해 드립니다.- 고지 방법 : 서면 교부, 우편 또는 전자우편, 전화 또는 팩스, 휴대폰 메시지 또는 이에 준하는 전자적 의사표시\"}'}, page_content='카드이름: 신한카드 The CLASSIC-Y  카드사: 신한카드  카드브랜드: VISA  국내연회비: 0원  해외연회비: 100000원  [선택형] Gift Option Service - 매년 1회 옵션 품목 중 한 가지를 선택하여 이용  [모든가맹점] 일시불/할부 이용금액의 0.7% 마이신한포인트 적립 해외, 명품 아울렛(신세계/롯데), 면세점, 골프 업종 이용 시 5% 마이신한포인트 적립  [주유소] GS칼텍스 주유 시 리터당 60원 결제일 할인   [생활] 커피/제과/택시/화장품/영화 5% 할인   [면세점] 제주 JDC 면세점 이용 시 8% 할인  [진에어] 진에어 국제선 항공권 결제일 할인  [공연/전시] 오디오 가이드 및 오페라 글라스 무료 이용 서비스  [프리미엄] 국제브랜드사 서비스 공통사항 안내'),\n",
       " Document(metadata={'카드이름': '신한카드 B.Big(삑)', '카드사': '신한카드', '카드브랜드': 'VISA', '국내연회비': 0, '해외연회비': 10000, '원본_전체_혜택': '{\"대중교통\": \"버스, 지하철 후불 교통 이용 금액 일 200원 ~ 일 600원 할인\", \"택시\": \"택시/KTX 이용 금액 10% 할인\", \"백화점\": \"4대 백화점 5% 할인\", \"카페\": \"커피전문점 10% 할인\", \"편의점\": \"편의점 5% 할인\", \"통신\": \"이동통신요금 5% 할인\", \"영화\": \"CGV, 메가박스\", \"캐시백\": \"전기요금, 통신요금, 해외이용금액 5% 캐시백 제공\", \"유의사항\": \"- 본 카드의 서비스 내용은 당사 및 제휴사 사정에 따라 사전 고지 후 변경 또는 중단될 수 있으며, 카드 이용금액에 따라 제한될 수 있습니다.- 별도의 이벤트를 진행하지 않는 한 타 쿠폰 및 타 카드(신용카드, 통신계 카드 등) 타 할인혜택의 중복 사용은 불가합니다.- 계약 체결 전 상품에 관한 사항은 상품설명서 및 약관을 읽어보시기 바랍니다.※ 카드이용시 제공되는 포인트 및 할인혜택 등의 부가서비스는 카드 신규출시(2020.11.10) 이후 3년 이상 축소, 폐지 없이 유지됩니다.※ 상기에도 불구하고, 다음과 같은 사유가 발생한 경우 카드사는 부가서비스를 변경할 수 있습니다.     ① 카드사의 휴업·파산·경영상의 위기 등에 따른 불가피한 경우     ② 제휴업체의 휴업•파산•경영상의 위기로 인해 불가피하게 부가서비스를 축소•변경하는 경우로서 다른 제휴업체를 통해 동종의 유사한 부가서비스 제공이 불가한 경우     ③ 제휴업체가 카드사의 의사에 반하여 해당 부가서비스를 축소하거나 변경 시, 당초 부가서비스에 상응하는 다른 부가서비스를 제공하는 경우     ④ 부가서비스를 3년 이상 제공한 상태에서 해당 부가서비스로 인해 카드의 수익성이 현저히 낮아진 경우※ 카드사가 부가서비스를 변경하는 경우에는 부가서비스 변경 사유, 변경 내용 등을 사유발생 즉시 아래 고지방법 중 2가지 이상의 방법으로 고지해 드립니다. 특히 부가서비스를 3년 이상 제공한 상태에서 해당 부가서비스로 인해 카드의 수익성이 현저히 낮아져 부가서비스를 변경하는 경우에는 6개월 전부터 아래 고지방법 중2가지 이상의 방법으로 매월 고지해 드립니다.- 고지 방법 : 서면 교부, 우편 또는 전자우편, 전화 또는 팩스, 휴대폰 메시지 또는 이에 준하는 전자적 의사표시\"}'}, page_content='카드이름: 신한카드 B.Big(삑)  카드사: 신한카드  카드브랜드: VISA  국내연회비: 0원  해외연회비: 10000원  [대중교통] 버스, 지하철 후불 교통 이용 금액 일 200원 ~ 일 600원 할인  [택시] 택시/KTX 이용 금액 10% 할인  [백화점] 4대 백화점 5% 할인  [카페] 커피전문점 10% 할인  [편의점] 편의점 5% 할인  [통신] 이동통신요금 5% 할인  [영화] CGV, 메가박스  [캐시백] 전기요금, 통신요금, 해외이용금액 5% 캐시백 제공')]"
      ]
     },
     "execution_count": 9,
     "metadata": {},
     "output_type": "execute_result"
    }
   ],
   "source": [
    "documents[:2]"
   ]
  },
  {
   "cell_type": "code",
   "execution_count": 15,
   "id": "d1310cb3",
   "metadata": {},
   "outputs": [
    {
     "name": "stdout",
     "output_type": "stream",
     "text": [
      "Requirement already satisfied: langchain-chroma in c:\\users\\playdata\\miniconda3\\envs\\lang_env\\lib\\site-packages (0.2.4)\n",
      "Requirement already satisfied: langchain-core>=0.3.60 in c:\\users\\playdata\\miniconda3\\envs\\lang_env\\lib\\site-packages (from langchain-chroma) (0.3.66)\n",
      "Requirement already satisfied: numpy>=1.26.0 in c:\\users\\playdata\\miniconda3\\envs\\lang_env\\lib\\site-packages (from langchain-chroma) (2.2.6)\n",
      "Requirement already satisfied: chromadb>=1.0.9 in c:\\users\\playdata\\miniconda3\\envs\\lang_env\\lib\\site-packages (from langchain-chroma) (1.0.12)\n",
      "Requirement already satisfied: build>=1.0.3 in c:\\users\\playdata\\miniconda3\\envs\\lang_env\\lib\\site-packages (from chromadb>=1.0.9->langchain-chroma) (1.2.2.post1)\n",
      "Requirement already satisfied: pydantic>=1.9 in c:\\users\\playdata\\miniconda3\\envs\\lang_env\\lib\\site-packages (from chromadb>=1.0.9->langchain-chroma) (2.11.5)\n",
      "Requirement already satisfied: fastapi==0.115.9 in c:\\users\\playdata\\miniconda3\\envs\\lang_env\\lib\\site-packages (from chromadb>=1.0.9->langchain-chroma) (0.115.9)\n",
      "Requirement already satisfied: uvicorn>=0.18.3 in c:\\users\\playdata\\miniconda3\\envs\\lang_env\\lib\\site-packages (from uvicorn[standard]>=0.18.3->chromadb>=1.0.9->langchain-chroma) (0.34.3)\n",
      "Requirement already satisfied: posthog>=2.4.0 in c:\\users\\playdata\\miniconda3\\envs\\lang_env\\lib\\site-packages (from chromadb>=1.0.9->langchain-chroma) (4.10.0)\n",
      "Requirement already satisfied: typing-extensions>=4.5.0 in c:\\users\\playdata\\miniconda3\\envs\\lang_env\\lib\\site-packages (from chromadb>=1.0.9->langchain-chroma) (4.13.2)\n",
      "Requirement already satisfied: onnxruntime>=1.14.1 in c:\\users\\playdata\\miniconda3\\envs\\lang_env\\lib\\site-packages (from chromadb>=1.0.9->langchain-chroma) (1.19.2)\n",
      "Requirement already satisfied: opentelemetry-api>=1.2.0 in c:\\users\\playdata\\miniconda3\\envs\\lang_env\\lib\\site-packages (from chromadb>=1.0.9->langchain-chroma) (1.34.1)\n",
      "Requirement already satisfied: opentelemetry-exporter-otlp-proto-grpc>=1.2.0 in c:\\users\\playdata\\miniconda3\\envs\\lang_env\\lib\\site-packages (from chromadb>=1.0.9->langchain-chroma) (1.34.1)\n",
      "Requirement already satisfied: opentelemetry-instrumentation-fastapi>=0.41b0 in c:\\users\\playdata\\miniconda3\\envs\\lang_env\\lib\\site-packages (from chromadb>=1.0.9->langchain-chroma) (0.55b1)\n",
      "Requirement already satisfied: opentelemetry-sdk>=1.2.0 in c:\\users\\playdata\\miniconda3\\envs\\lang_env\\lib\\site-packages (from chromadb>=1.0.9->langchain-chroma) (1.34.1)\n",
      "Requirement already satisfied: tokenizers>=0.13.2 in c:\\users\\playdata\\miniconda3\\envs\\lang_env\\lib\\site-packages (from chromadb>=1.0.9->langchain-chroma) (0.21.1)\n",
      "Requirement already satisfied: pypika>=0.48.9 in c:\\users\\playdata\\miniconda3\\envs\\lang_env\\lib\\site-packages (from chromadb>=1.0.9->langchain-chroma) (0.48.9)\n",
      "Requirement already satisfied: tqdm>=4.65.0 in c:\\users\\playdata\\miniconda3\\envs\\lang_env\\lib\\site-packages (from chromadb>=1.0.9->langchain-chroma) (4.67.1)\n",
      "Requirement already satisfied: overrides>=7.3.1 in c:\\users\\playdata\\miniconda3\\envs\\lang_env\\lib\\site-packages (from chromadb>=1.0.9->langchain-chroma) (7.7.0)\n",
      "Requirement already satisfied: importlib-resources in c:\\users\\playdata\\miniconda3\\envs\\lang_env\\lib\\site-packages (from chromadb>=1.0.9->langchain-chroma) (6.5.2)\n",
      "Requirement already satisfied: grpcio>=1.58.0 in c:\\users\\playdata\\miniconda3\\envs\\lang_env\\lib\\site-packages (from chromadb>=1.0.9->langchain-chroma) (1.72.1)\n",
      "Requirement already satisfied: bcrypt>=4.0.1 in c:\\users\\playdata\\miniconda3\\envs\\lang_env\\lib\\site-packages (from chromadb>=1.0.9->langchain-chroma) (4.3.0)\n",
      "Requirement already satisfied: typer>=0.9.0 in c:\\users\\playdata\\miniconda3\\envs\\lang_env\\lib\\site-packages (from chromadb>=1.0.9->langchain-chroma) (0.16.0)\n",
      "Requirement already satisfied: kubernetes>=28.1.0 in c:\\users\\playdata\\miniconda3\\envs\\lang_env\\lib\\site-packages (from chromadb>=1.0.9->langchain-chroma) (33.1.0)\n",
      "Requirement already satisfied: tenacity>=8.2.3 in c:\\users\\playdata\\miniconda3\\envs\\lang_env\\lib\\site-packages (from chromadb>=1.0.9->langchain-chroma) (9.1.2)\n",
      "Requirement already satisfied: pyyaml>=6.0.0 in c:\\users\\playdata\\miniconda3\\envs\\lang_env\\lib\\site-packages (from chromadb>=1.0.9->langchain-chroma) (6.0.2)\n",
      "Requirement already satisfied: mmh3>=4.0.1 in c:\\users\\playdata\\miniconda3\\envs\\lang_env\\lib\\site-packages (from chromadb>=1.0.9->langchain-chroma) (5.1.0)\n",
      "Requirement already satisfied: orjson>=3.9.12 in c:\\users\\playdata\\miniconda3\\envs\\lang_env\\lib\\site-packages (from chromadb>=1.0.9->langchain-chroma) (3.10.18)\n",
      "Requirement already satisfied: httpx>=0.27.0 in c:\\users\\playdata\\miniconda3\\envs\\lang_env\\lib\\site-packages (from chromadb>=1.0.9->langchain-chroma) (0.28.1)\n",
      "Requirement already satisfied: rich>=10.11.0 in c:\\users\\playdata\\miniconda3\\envs\\lang_env\\lib\\site-packages (from chromadb>=1.0.9->langchain-chroma) (14.0.0)\n",
      "Requirement already satisfied: jsonschema>=4.19.0 in c:\\users\\playdata\\miniconda3\\envs\\lang_env\\lib\\site-packages (from chromadb>=1.0.9->langchain-chroma) (4.24.0)\n",
      "Requirement already satisfied: starlette<0.46.0,>=0.40.0 in c:\\users\\playdata\\miniconda3\\envs\\lang_env\\lib\\site-packages (from fastapi==0.115.9->chromadb>=1.0.9->langchain-chroma) (0.45.3)\n",
      "Requirement already satisfied: annotated-types>=0.6.0 in c:\\users\\playdata\\miniconda3\\envs\\lang_env\\lib\\site-packages (from pydantic>=1.9->chromadb>=1.0.9->langchain-chroma) (0.7.0)\n",
      "Requirement already satisfied: pydantic-core==2.33.2 in c:\\users\\playdata\\miniconda3\\envs\\lang_env\\lib\\site-packages (from pydantic>=1.9->chromadb>=1.0.9->langchain-chroma) (2.33.2)\n",
      "Requirement already satisfied: typing-inspection>=0.4.0 in c:\\users\\playdata\\miniconda3\\envs\\lang_env\\lib\\site-packages (from pydantic>=1.9->chromadb>=1.0.9->langchain-chroma) (0.4.1)\n",
      "Requirement already satisfied: anyio<5,>=3.6.2 in c:\\users\\playdata\\miniconda3\\envs\\lang_env\\lib\\site-packages (from starlette<0.46.0,>=0.40.0->fastapi==0.115.9->chromadb>=1.0.9->langchain-chroma) (4.9.0)\n",
      "Requirement already satisfied: idna>=2.8 in c:\\users\\playdata\\miniconda3\\envs\\lang_env\\lib\\site-packages (from anyio<5,>=3.6.2->starlette<0.46.0,>=0.40.0->fastapi==0.115.9->chromadb>=1.0.9->langchain-chroma) (3.10)\n",
      "Requirement already satisfied: sniffio>=1.1 in c:\\users\\playdata\\miniconda3\\envs\\lang_env\\lib\\site-packages (from anyio<5,>=3.6.2->starlette<0.46.0,>=0.40.0->fastapi==0.115.9->chromadb>=1.0.9->langchain-chroma) (1.3.1)\n",
      "Requirement already satisfied: packaging>=19.1 in c:\\users\\playdata\\miniconda3\\envs\\lang_env\\lib\\site-packages (from build>=1.0.3->chromadb>=1.0.9->langchain-chroma) (24.2)\n",
      "Requirement already satisfied: pyproject_hooks in c:\\users\\playdata\\miniconda3\\envs\\lang_env\\lib\\site-packages (from build>=1.0.3->chromadb>=1.0.9->langchain-chroma) (1.2.0)\n",
      "Requirement already satisfied: colorama in c:\\users\\playdata\\miniconda3\\envs\\lang_env\\lib\\site-packages (from build>=1.0.3->chromadb>=1.0.9->langchain-chroma) (0.4.6)\n",
      "Requirement already satisfied: certifi in c:\\users\\playdata\\miniconda3\\envs\\lang_env\\lib\\site-packages (from httpx>=0.27.0->chromadb>=1.0.9->langchain-chroma) (2025.4.26)\n",
      "Requirement already satisfied: httpcore==1.* in c:\\users\\playdata\\miniconda3\\envs\\lang_env\\lib\\site-packages (from httpx>=0.27.0->chromadb>=1.0.9->langchain-chroma) (1.0.9)\n",
      "Requirement already satisfied: h11>=0.16 in c:\\users\\playdata\\miniconda3\\envs\\lang_env\\lib\\site-packages (from httpcore==1.*->httpx>=0.27.0->chromadb>=1.0.9->langchain-chroma) (0.16.0)\n",
      "Requirement already satisfied: attrs>=22.2.0 in c:\\users\\playdata\\miniconda3\\envs\\lang_env\\lib\\site-packages (from jsonschema>=4.19.0->chromadb>=1.0.9->langchain-chroma) (25.3.0)\n",
      "Requirement already satisfied: jsonschema-specifications>=2023.03.6 in c:\\users\\playdata\\miniconda3\\envs\\lang_env\\lib\\site-packages (from jsonschema>=4.19.0->chromadb>=1.0.9->langchain-chroma) (2025.4.1)\n",
      "Requirement already satisfied: referencing>=0.28.4 in c:\\users\\playdata\\miniconda3\\envs\\lang_env\\lib\\site-packages (from jsonschema>=4.19.0->chromadb>=1.0.9->langchain-chroma) (0.36.2)\n",
      "Requirement already satisfied: rpds-py>=0.7.1 in c:\\users\\playdata\\miniconda3\\envs\\lang_env\\lib\\site-packages (from jsonschema>=4.19.0->chromadb>=1.0.9->langchain-chroma) (0.25.1)\n",
      "Requirement already satisfied: six>=1.9.0 in c:\\users\\playdata\\miniconda3\\envs\\lang_env\\lib\\site-packages (from kubernetes>=28.1.0->chromadb>=1.0.9->langchain-chroma) (1.17.0)\n",
      "Requirement already satisfied: python-dateutil>=2.5.3 in c:\\users\\playdata\\miniconda3\\envs\\lang_env\\lib\\site-packages (from kubernetes>=28.1.0->chromadb>=1.0.9->langchain-chroma) (2.9.0.post0)\n",
      "Requirement already satisfied: google-auth>=1.0.1 in c:\\users\\playdata\\miniconda3\\envs\\lang_env\\lib\\site-packages (from kubernetes>=28.1.0->chromadb>=1.0.9->langchain-chroma) (2.40.3)\n",
      "Requirement already satisfied: websocket-client!=0.40.0,!=0.41.*,!=0.42.*,>=0.32.0 in c:\\users\\playdata\\miniconda3\\envs\\lang_env\\lib\\site-packages (from kubernetes>=28.1.0->chromadb>=1.0.9->langchain-chroma) (1.8.0)\n",
      "Requirement already satisfied: requests in c:\\users\\playdata\\miniconda3\\envs\\lang_env\\lib\\site-packages (from kubernetes>=28.1.0->chromadb>=1.0.9->langchain-chroma) (2.32.3)\n",
      "Requirement already satisfied: requests-oauthlib in c:\\users\\playdata\\miniconda3\\envs\\lang_env\\lib\\site-packages (from kubernetes>=28.1.0->chromadb>=1.0.9->langchain-chroma) (2.0.0)\n",
      "Requirement already satisfied: oauthlib>=3.2.2 in c:\\users\\playdata\\miniconda3\\envs\\lang_env\\lib\\site-packages (from kubernetes>=28.1.0->chromadb>=1.0.9->langchain-chroma) (3.2.2)\n",
      "Requirement already satisfied: urllib3>=1.24.2 in c:\\users\\playdata\\miniconda3\\envs\\lang_env\\lib\\site-packages (from kubernetes>=28.1.0->chromadb>=1.0.9->langchain-chroma) (2.4.0)\n",
      "Requirement already satisfied: durationpy>=0.7 in c:\\users\\playdata\\miniconda3\\envs\\lang_env\\lib\\site-packages (from kubernetes>=28.1.0->chromadb>=1.0.9->langchain-chroma) (0.10)\n",
      "Requirement already satisfied: cachetools<6.0,>=2.0.0 in c:\\users\\playdata\\miniconda3\\envs\\lang_env\\lib\\site-packages (from google-auth>=1.0.1->kubernetes>=28.1.0->chromadb>=1.0.9->langchain-chroma) (5.5.2)\n",
      "Requirement already satisfied: pyasn1-modules>=0.2.1 in c:\\users\\playdata\\miniconda3\\envs\\lang_env\\lib\\site-packages (from google-auth>=1.0.1->kubernetes>=28.1.0->chromadb>=1.0.9->langchain-chroma) (0.4.2)\n",
      "Requirement already satisfied: rsa<5,>=3.1.4 in c:\\users\\playdata\\miniconda3\\envs\\lang_env\\lib\\site-packages (from google-auth>=1.0.1->kubernetes>=28.1.0->chromadb>=1.0.9->langchain-chroma) (4.9.1)\n",
      "Requirement already satisfied: pyasn1>=0.1.3 in c:\\users\\playdata\\miniconda3\\envs\\lang_env\\lib\\site-packages (from rsa<5,>=3.1.4->google-auth>=1.0.1->kubernetes>=28.1.0->chromadb>=1.0.9->langchain-chroma) (0.6.1)\n",
      "Requirement already satisfied: langsmith>=0.3.45 in c:\\users\\playdata\\miniconda3\\envs\\lang_env\\lib\\site-packages (from langchain-core>=0.3.60->langchain-chroma) (0.4.1)\n",
      "Requirement already satisfied: jsonpatch<2.0,>=1.33 in c:\\users\\playdata\\miniconda3\\envs\\lang_env\\lib\\site-packages (from langchain-core>=0.3.60->langchain-chroma) (1.33)\n",
      "Requirement already satisfied: jsonpointer>=1.9 in c:\\users\\playdata\\miniconda3\\envs\\lang_env\\lib\\site-packages (from jsonpatch<2.0,>=1.33->langchain-core>=0.3.60->langchain-chroma) (3.0.0)\n",
      "Requirement already satisfied: requests-toolbelt<2.0.0,>=1.0.0 in c:\\users\\playdata\\miniconda3\\envs\\lang_env\\lib\\site-packages (from langsmith>=0.3.45->langchain-core>=0.3.60->langchain-chroma) (1.0.0)\n",
      "Requirement already satisfied: zstandard<0.24.0,>=0.23.0 in c:\\users\\playdata\\miniconda3\\envs\\lang_env\\lib\\site-packages (from langsmith>=0.3.45->langchain-core>=0.3.60->langchain-chroma) (0.23.0)\n",
      "Requirement already satisfied: charset-normalizer<4,>=2 in c:\\users\\playdata\\miniconda3\\envs\\lang_env\\lib\\site-packages (from requests->kubernetes>=28.1.0->chromadb>=1.0.9->langchain-chroma) (3.4.2)\n",
      "Requirement already satisfied: coloredlogs in c:\\users\\playdata\\miniconda3\\envs\\lang_env\\lib\\site-packages (from onnxruntime>=1.14.1->chromadb>=1.0.9->langchain-chroma) (15.0.1)\n",
      "Requirement already satisfied: flatbuffers in c:\\users\\playdata\\miniconda3\\envs\\lang_env\\lib\\site-packages (from onnxruntime>=1.14.1->chromadb>=1.0.9->langchain-chroma) (25.2.10)\n",
      "Requirement already satisfied: protobuf in c:\\users\\playdata\\miniconda3\\envs\\lang_env\\lib\\site-packages (from onnxruntime>=1.14.1->chromadb>=1.0.9->langchain-chroma) (5.29.5)\n",
      "Requirement already satisfied: sympy in c:\\users\\playdata\\miniconda3\\envs\\lang_env\\lib\\site-packages (from onnxruntime>=1.14.1->chromadb>=1.0.9->langchain-chroma) (1.14.0)\n",
      "Requirement already satisfied: importlib-metadata<8.8.0,>=6.0 in c:\\users\\playdata\\miniconda3\\envs\\lang_env\\lib\\site-packages (from opentelemetry-api>=1.2.0->chromadb>=1.0.9->langchain-chroma) (8.7.0)\n",
      "Requirement already satisfied: zipp>=3.20 in c:\\users\\playdata\\miniconda3\\envs\\lang_env\\lib\\site-packages (from importlib-metadata<8.8.0,>=6.0->opentelemetry-api>=1.2.0->chromadb>=1.0.9->langchain-chroma) (3.23.0)\n",
      "Requirement already satisfied: googleapis-common-protos~=1.52 in c:\\users\\playdata\\miniconda3\\envs\\lang_env\\lib\\site-packages (from opentelemetry-exporter-otlp-proto-grpc>=1.2.0->chromadb>=1.0.9->langchain-chroma) (1.70.0)\n",
      "Requirement already satisfied: opentelemetry-exporter-otlp-proto-common==1.34.1 in c:\\users\\playdata\\miniconda3\\envs\\lang_env\\lib\\site-packages (from opentelemetry-exporter-otlp-proto-grpc>=1.2.0->chromadb>=1.0.9->langchain-chroma) (1.34.1)\n",
      "Requirement already satisfied: opentelemetry-proto==1.34.1 in c:\\users\\playdata\\miniconda3\\envs\\lang_env\\lib\\site-packages (from opentelemetry-exporter-otlp-proto-grpc>=1.2.0->chromadb>=1.0.9->langchain-chroma) (1.34.1)\n",
      "Requirement already satisfied: opentelemetry-semantic-conventions==0.55b1 in c:\\users\\playdata\\miniconda3\\envs\\lang_env\\lib\\site-packages (from opentelemetry-sdk>=1.2.0->chromadb>=1.0.9->langchain-chroma) (0.55b1)\n",
      "Requirement already satisfied: opentelemetry-instrumentation-asgi==0.55b1 in c:\\users\\playdata\\miniconda3\\envs\\lang_env\\lib\\site-packages (from opentelemetry-instrumentation-fastapi>=0.41b0->chromadb>=1.0.9->langchain-chroma) (0.55b1)\n",
      "Requirement already satisfied: opentelemetry-instrumentation==0.55b1 in c:\\users\\playdata\\miniconda3\\envs\\lang_env\\lib\\site-packages (from opentelemetry-instrumentation-fastapi>=0.41b0->chromadb>=1.0.9->langchain-chroma) (0.55b1)\n",
      "Requirement already satisfied: opentelemetry-util-http==0.55b1 in c:\\users\\playdata\\miniconda3\\envs\\lang_env\\lib\\site-packages (from opentelemetry-instrumentation-fastapi>=0.41b0->chromadb>=1.0.9->langchain-chroma) (0.55b1)\n",
      "Requirement already satisfied: wrapt<2.0.0,>=1.0.0 in c:\\users\\playdata\\miniconda3\\envs\\lang_env\\lib\\site-packages (from opentelemetry-instrumentation==0.55b1->opentelemetry-instrumentation-fastapi>=0.41b0->chromadb>=1.0.9->langchain-chroma) (1.17.2)\n",
      "Requirement already satisfied: asgiref~=3.0 in c:\\users\\playdata\\miniconda3\\envs\\lang_env\\lib\\site-packages (from opentelemetry-instrumentation-asgi==0.55b1->opentelemetry-instrumentation-fastapi>=0.41b0->chromadb>=1.0.9->langchain-chroma) (3.8.1)\n",
      "Requirement already satisfied: backoff>=1.10.0 in c:\\users\\playdata\\miniconda3\\envs\\lang_env\\lib\\site-packages (from posthog>=2.4.0->chromadb>=1.0.9->langchain-chroma) (2.2.1)\n",
      "Requirement already satisfied: distro>=1.5.0 in c:\\users\\playdata\\miniconda3\\envs\\lang_env\\lib\\site-packages (from posthog>=2.4.0->chromadb>=1.0.9->langchain-chroma) (1.9.0)\n",
      "Requirement already satisfied: markdown-it-py>=2.2.0 in c:\\users\\playdata\\miniconda3\\envs\\lang_env\\lib\\site-packages (from rich>=10.11.0->chromadb>=1.0.9->langchain-chroma) (3.0.0)\n",
      "Requirement already satisfied: pygments<3.0.0,>=2.13.0 in c:\\users\\playdata\\miniconda3\\envs\\lang_env\\lib\\site-packages (from rich>=10.11.0->chromadb>=1.0.9->langchain-chroma) (2.19.1)\n",
      "Requirement already satisfied: mdurl~=0.1 in c:\\users\\playdata\\miniconda3\\envs\\lang_env\\lib\\site-packages (from markdown-it-py>=2.2.0->rich>=10.11.0->chromadb>=1.0.9->langchain-chroma) (0.1.2)\n",
      "Requirement already satisfied: huggingface-hub<1.0,>=0.16.4 in c:\\users\\playdata\\miniconda3\\envs\\lang_env\\lib\\site-packages (from tokenizers>=0.13.2->chromadb>=1.0.9->langchain-chroma) (0.32.4)\n",
      "Requirement already satisfied: filelock in c:\\users\\playdata\\miniconda3\\envs\\lang_env\\lib\\site-packages (from huggingface-hub<1.0,>=0.16.4->tokenizers>=0.13.2->chromadb>=1.0.9->langchain-chroma) (3.18.0)\n",
      "Requirement already satisfied: fsspec>=2023.5.0 in c:\\users\\playdata\\miniconda3\\envs\\lang_env\\lib\\site-packages (from huggingface-hub<1.0,>=0.16.4->tokenizers>=0.13.2->chromadb>=1.0.9->langchain-chroma) (2025.3.0)\n",
      "Requirement already satisfied: click>=8.0.0 in c:\\users\\playdata\\miniconda3\\envs\\lang_env\\lib\\site-packages (from typer>=0.9.0->chromadb>=1.0.9->langchain-chroma) (8.2.1)\n",
      "Requirement already satisfied: shellingham>=1.3.0 in c:\\users\\playdata\\miniconda3\\envs\\lang_env\\lib\\site-packages (from typer>=0.9.0->chromadb>=1.0.9->langchain-chroma) (1.5.4)\n",
      "Requirement already satisfied: httptools>=0.6.3 in c:\\users\\playdata\\miniconda3\\envs\\lang_env\\lib\\site-packages (from uvicorn[standard]>=0.18.3->chromadb>=1.0.9->langchain-chroma) (0.6.4)\n",
      "Requirement already satisfied: python-dotenv>=0.13 in c:\\users\\playdata\\miniconda3\\envs\\lang_env\\lib\\site-packages (from uvicorn[standard]>=0.18.3->chromadb>=1.0.9->langchain-chroma) (1.1.0)\n",
      "Requirement already satisfied: watchfiles>=0.13 in c:\\users\\playdata\\miniconda3\\envs\\lang_env\\lib\\site-packages (from uvicorn[standard]>=0.18.3->chromadb>=1.0.9->langchain-chroma) (1.1.0)\n",
      "Requirement already satisfied: websockets>=10.4 in c:\\users\\playdata\\miniconda3\\envs\\lang_env\\lib\\site-packages (from uvicorn[standard]>=0.18.3->chromadb>=1.0.9->langchain-chroma) (15.0.1)\n",
      "Requirement already satisfied: humanfriendly>=9.1 in c:\\users\\playdata\\miniconda3\\envs\\lang_env\\lib\\site-packages (from coloredlogs->onnxruntime>=1.14.1->chromadb>=1.0.9->langchain-chroma) (10.0)\n",
      "Requirement already satisfied: pyreadline3 in c:\\users\\playdata\\miniconda3\\envs\\lang_env\\lib\\site-packages (from humanfriendly>=9.1->coloredlogs->onnxruntime>=1.14.1->chromadb>=1.0.9->langchain-chroma) (3.5.4)\n",
      "Requirement already satisfied: mpmath<1.4,>=1.1.0 in c:\\users\\playdata\\miniconda3\\envs\\lang_env\\lib\\site-packages (from sympy->onnxruntime>=1.14.1->chromadb>=1.0.9->langchain-chroma) (1.3.0)\n"
     ]
    }
   ],
   "source": [
    "!pip install -U langchain-chroma"
   ]
  },
  {
   "cell_type": "code",
   "execution_count": 10,
   "id": "9e518187",
   "metadata": {},
   "outputs": [
    {
     "data": {
      "text/plain": [
       "True"
      ]
     },
     "execution_count": 10,
     "metadata": {},
     "output_type": "execute_result"
    }
   ],
   "source": [
    "from langchain_openai import OpenAIEmbeddings  # 또는 HuggingFaceEmbeddings\n",
    "from langchain_chroma import Chroma\n",
    "from dotenv import load_dotenv\n",
    "load_dotenv()"
   ]
  },
  {
   "cell_type": "code",
   "execution_count": 8,
   "id": "a55bbaab",
   "metadata": {},
   "outputs": [],
   "source": [
    "embedding_model = OpenAIEmbeddings(model = \"text-embedding-3-large\")\n",
    "\n",
    "# Chroma 벡터스토어 만들기\n",
    "vectorstore = Chroma.from_documents(\n",
    "    documents,\n",
    "    embedding_model,\n",
    "    persist_directory=\"chroma_card_db\"  # 저장 경로\n",
    ")"
   ]
  },
  {
   "cell_type": "code",
   "execution_count": 11,
   "id": "ad59fee9",
   "metadata": {},
   "outputs": [],
   "source": [
    "# 저장된 Chroma 벡터스토어 불러오기\n",
    "vectorstore = Chroma(\n",
    "    persist_directory=\"chroma_card_db\",\n",
    "    embedding_function=embedding_model\n",
    ")"
   ]
  },
  {
   "cell_type": "code",
   "execution_count": 36,
   "id": "a1f46eac",
   "metadata": {},
   "outputs": [],
   "source": [
    "query = \"삼성카드의 연회비 조건이 좋은 카드를 알려주세요.\"\n",
    "retrieved_docs = vectorstore.similarity_search_with_score(query, k=5)"
   ]
  },
  {
   "cell_type": "code",
   "execution_count": 42,
   "id": "f94edff2",
   "metadata": {},
   "outputs": [
    {
     "data": {
      "text/plain": [
       "(Document(id='92343a2d-478f-4905-89bd-edcfcfd56c2a', metadata={'카드사': '삼성카드', '카드이름': 'KDB SAMSUNGCARD 4', '국내연회비': 5000, '해외연회비': 0, '카드브랜드': '없음', '원본_전체_혜택': '{\"모든가맹점\": \"0.7% 결제일할인(청구할인)\", \"영화\": \"모든 영화관 2,500원 결제일할인\", \"은행사\": \"KDB산업은행 금융/여행/생활 서비스\", \"프리미엄\": \"American Express Selects 서비스\", \"경기관람\": \"프로스포츠 프로모션 서비스\", \"유의사항\": \"유의사항- 본 카드의 서비스 내용은 당사 및 제휴사 사정에 따라 사전 고지 후 변경 또는 중단될 수 있으며, 카드 이용금액에 따라 제한될 수 있습니다.- 별도의 이벤트를 진행하지 않는 한 타 쿠폰 및 타 카드(신용카드, 통신계 카드 등) 타 할인혜택의 중복 사용은 불가합니다.- 계약 체결 전 상품에 관한 사항은 상품설명서 및 약관을 읽어보시기 바랍니다.- 카드 이용 시 제공되는 포인트 및 할인혜택 등의 부가서비스는 카드 신규출시 이후 3년 이상 축소·폐지 없이 유지 됩니다.- 상기에도 불구하고, 다음과 같은 사유가 발생한 경우 카드사는 부가서비스를 변경할 수 있습니다.  ① 카드사 또는 부가서비스 관련 제휴업체의 휴업·도산·경영위기, 천재지변, 금융환경 급변 또는 그 밖에 이에 준하는 사유의 발생  ② 카드사의 노력에도 제휴업체가 일방적으로 부가서비스 변경을 통보(단, 다른 제휴업체를 통해 동종의 유사한 부가서비스 제공이 가능한 경우 제외)  ③ 카드 신규출시 이후 3년 이상 경과했고, 해당 카드의 수익성 유지가 어려운 경우- 카드사가 부가서비스를 변경하는 경우에는 부가서비스 변경 사유, 변경 내용 등을 사유발생 즉시 홈페이지에 게시하고, 개별 고지해 드립니다. 특히 카드 신규 출시 이후 3년 이상 경과했고, 해당 카드의 수익성 유지가 어려워져 부가서비스를 변경하는 경우에는 6개월 전부터 매월 개별고지 해 드립니다.  * 개별고지 방법 : 카드대금청구서, 우편, 이메일, 휴대폰 문자메세지 중 하나\"}'}, page_content='카드이름: KDB SAMSUNGCARD 4  카드사: 삼성카드  카드브랜드: 없음  국내연회비: 5000원  해외연회비: 0원  [모든가맹점] 0.7% 결제일할인(청구할인)  [영화] 모든 영화관 2,500원 결제일할인  [은행사] KDB산업은행 금융/여행/생활 서비스  [프리미엄] American Express Selects 서비스  [경기관람] 프로스포츠 프로모션 서비스'),\n",
       " 0.742131233215332)"
      ]
     },
     "execution_count": 42,
     "metadata": {},
     "output_type": "execute_result"
    }
   ],
   "source": [
    "retrieved_docs[0]"
   ]
  },
  {
   "cell_type": "code",
   "execution_count": 12,
   "id": "eb4cca11",
   "metadata": {},
   "outputs": [],
   "source": [
    "# Retriever 생성\n",
    "retriever = vectorstore.as_retriever(\n",
    "    search_kwargs={\"k\": 3}  # Top 3 유사 Document 가져오게 설정\n",
    ")"
   ]
  },
  {
   "cell_type": "code",
   "execution_count": 13,
   "id": "f0db79e2",
   "metadata": {},
   "outputs": [
    {
     "data": {
      "text/plain": [
       "[Document(id='bbfdda9a-a62d-47bb-a1ad-46c1f25771fe', metadata={'국내연회비': 20000, '해외연회비': 20000, '카드이름': '(심의용) 삼성카드 신규상품1', '카드브랜드': 'Mastercard', '원본_전체_혜택': '{\"적립\": \"생활 필수 영역 0.5% KTX 마일리지 포인트 추가 적립\", \"기타\": \"특수 소재 카드\", \"유의사항\": \"KTX 마일리지 포인트 안내 - KTX 마일리지 포인트는 KTX 삼성카드 이용 시 적립되는 포인트- KTX 마일리지 포인트는 ‘KTX 마일리지’로 자동 전환 후 한국철도공사 홈페이지 또는 코레일톡 앱에서 조회 및 사용 가능- ‘KTX 마일리지’로 전환된 KTX 마일리지 포인트는 전환 취소 불가 (1 KTX 마일리지 포인트 = 1 KTX 마일리지의 가치) - 매월 1일~말일까지의 매출전표 접수건에 대해 적립된 KTX 마일리지 포인트는 다음달 20일까지 접수된 매출전표 취소건을 반영하여 다음달 25일에 ‘KTX 마일리지’로 자동 전환되며, 아래의 경우 해당월 전환 불가* 코레일멤버십 회원이 아닌 경우 - 코레일멤버십 회원 자격을 상실한 경우 - 적립된 KTX 마일리지 포인트가 0 포인트 이하인 경우* ‘KTX 마일리지’ 전환 시점에 통신 장애가 발생한 경우 * ‘KTX 마일리지’로 전환되지 않은 KTX 마일리지 포인트는 전환조건 충족 시 다음달 25일에 전환- 삼성카드의 다른 포인트와 합산하여 사용 불가 * KTX 마일리지 포인트의 유효기간은 5년으로, 유효기간 만료 시 월 단위로 자동 소멸 - KTX 마일리지 포인트 적립에 대한 자세한 내용은 삼성카드 홈페이지(PC) 또는 앱에서 확인 - ‘KTX 마일리지’로 전환된 이후, 해당 결제건 취소 시 자세한 내용은 ‘안내사항’에서 확인 KTX 마일리지 안내- ‘KTX 마일리지’란 철도승차권 구매 시 사용할 수 있는 결제 수단으로, 한국철도공사 홈페이지 또는 코레일톡 앱에서 코레일멤버십 가입 후 적립 및 사용 가능- ‘KTX 마일리지’는 다른 사람에게 양도 및 선물 불가 * ‘KTX 마일리지’ 사용 관련 자세한 내용은 한국철도공사 홈페이지 (www.korail.com) 또는 코레일톡 앱에서 확인 가능 - ‘KTX 마일리지’는 한국철도공사가 운영/관리하며, 한국철도공사가 지정한 사용처에서 사용 가능(1 KTX 마일리지 = 1원의 가치) 전월 이용금액 기준 매월 1일부터 말일까지 이용한 일시불 및 할부 이용금액(단기카드 대출(현금서비스), 장기카드대출(카드론), 각종 수수료 및 이자 (할부수수료, 카드대출 이자 등), 연체료, 연회비 납부건은 일시불 및 할부 이용금액에 해당되지 않음) 전월 이용금액 제외 대상 - ‘한국철도공사 5% KTX 마일리지 포인트 추가 적립’ 대상 가맹점 이용금액 - 건강보험/국민연금/고용보험/산재보험 및 장애인 고용부담금, 국세/지방세/공과금 납부건 - 아파트관리비, 부동산 임대료 납부건 - 유치원 납입금, 초/중/고등학교 학교납입금, 대학 등록금 납부건 - 대중교통(후불교통기능/모바일교통기능 결제건), 택시 이용금액 - 기프트/선불카드(포인트, 사이버머니 등 전자지급수단 포함) 구매 및 충전, 상품권 구매건적립 제외 대상 - 무이자할부 이용금액 - 삼성카드 할인이 적용된 일시불 및 할부 이용금액 - 건강보험/국민연금/고용보험/산재보험 및 장애인 고용부담금, 국세/지방세/공과금 납부건 - 부동산 임대료 납부건 - 유치원 납입금, 초/중/고등학교 학교 납입금, 대학 등록금 납부건 - 대중교통(후불교통기능/모바일교통기능 결제건), 고속버스(차내 단말기 및 고속버스 앱 결제), 고속도로 통행요금 납부건 - 기프트/선불카드(포인트, 사이버머니 등 전자지급수단 포함) 구매 및 충전, 상품권 구매건 - 문자알림서비스, 스마트오토서비스 이용금액 - 삼성카드와 구매캐시백 포인트 제공 계약을 체결한 일부 가맹점 의약품/유류 구매한도 대금결제건기타 - 적립 혜택은 매출전표 접수 시점 순으로 적용 - 전월 이용금액 산정은 승인일 기준으로 적용.다만, 해외 결제건 및 무승인 결제건(예 : 대중교통, 이동통신 등 정기결제건 등)은 매출전표 접수일 기준으로 적용- 자체 가맹점번호로 승인 처리되는 일부 결제건(간편결제, 키오스크 등)은 적립 대상에서 제외안내사항- 삼성카드 가맹점 업종 분류 기준에 의한 등록 가맹점에 한함 - 삼성카드는 아래 항목을 공과금으로 분류함* 전기요금, 사회보험료(건강보험/국민연금/고용보험/산재보험), 우편요금, 도시가스요금, 여권 발급비용, 상하수도요금, 과태료, 범칙금, 벌금, 국가/공공기관/공공단체(지방자치단체, 공공조합, 영조물, 공재단)에서 개설한 가맹점 이용금액- 결제 취소금액은 매출취소전표가 삼성카드에 접수된 달의 이용금액에서 차감* 혜택이 적용된 결제건이 취소될 경우, 할인, 포인트 적립 등의 횟수 및 한도는 매출취소전표가 접수된 이후에 복원* 포인트가 적립된 결제건이 취소될 경우, 해당 포인트는 보유 포인트 에서 자동 차감되며, 포인트 부족 시 카드 결제계좌에서 자동 출금유의사항-결제계좌 개설 기관의 영업 마감시간(평일 16:00) 이후 결제대금 입금 시, 해당 기관의 사정에 따라 입금 당일에 출금되지 않으면 연체료가 발생할 수 있습니다. - 즉시결제, 가상계좌, 무통장입금을 이용하시면 위의 영업 마감시간 이후에도 당일 입출금이 가능합니다.*이용방법· 홈페이지(PC) → 전체메뉴 → 마이 → 카드대금 결제 → 즉시결제 또는 가상계좌· 앱 → 전체메뉴 → 대금결제 → 즉시결제 또는 가상계좌 * 카드를 이용하는 경우 제공되는 포인트 및 할인혜택 등의 부가서비스는 카드 신규 출시(2025년 4월 28일) 이후 다음 사유 중 어느 하나에 해당하는 경우 외에는 변경할 수 없습니다.(단, 회원의 권익을 증진하거나 부담을 완화하는 경우는 제외) 카드사가 부가서비스를 변경하는 경우에는 변경사유, 변경 내용 등을 다음에서 정하는 기간에 따라 서면교부, 우편 또는 전자우편, 전화 또는 팩스, 휴대폰 메시지 또는 이에 준하는 전자적 의사표시 중 서로 다른 2가지 이상의 방법으로 고지하여 드립니다.① 카드사의 휴업·파산·경영상의 위기 등에 따른 불가피한 경우 : 사유발생 즉시② 제휴업체의 휴업·파산·경영상의 위기로 인해 불가피하게 부가서비스를 축소·변경하는 경우로서 다른 제휴업체를 통해 동종의 유사한 부가서비스 제공이 불가한 경우 : 사유발생 즉시③ 제휴업체가 카드사의 의사에 반하여 해당 부가서비스를 축소하거나 변경 시, 당초 부가서비스에 상응하는 다른 부가서비스를 제공하는 경우 : 사유발생 즉시④ 부가서비스를 3년 이상 제공한 상태에서 해당 부가서비스로 인해 상품의 수익성이 현저히 낮아진 경우 : 부가서비스 변경일 6개월 전부터 매월- 해외에서 카드 결제 시, 현지 통화가 아닌 원화로 결제하는 경우 해외원화결제 서비스(DCC) 수수료가 추가로 발생할 수 있으므로 유의하시기 바랍니다.* 해외원화결제서비스(DCC) 차단방법 : 홈페이지(PC) 또는 앱 → 전체메뉴 → 고객센터 → 해외 이용 → 해외 이용 잠금 서비스- 해외 이용 시(해외 사이트 거래 포함) 미화(USD) 기준 거래미화금액에 접수일의 우리은행 최초 고시 전신환매도율을 적용한 후, 국제브랜드사가 부과하는 브랜드사수수료(Mastercard 1.0%)와 삼성카드가 부과하는 해외이용수수료 (0.2%)를 합산하여 원화로 청구됩니다. - 해외 이용 시 청구금액 산출방법은 아래와 같습니다.*해외 이용 시 청구금액=(거래미화금액×전신환매도율①) +브랜드사수수료②+해외이용수수료③① 전신환매도율 : 접수일의 우리은행 최초 고시 전신환매도율② 브랜드사수수료=(거래미화금액×국제브랜드 이용 수수료율 1.0%) ×전신환매도율③ 해외이용수수료=(거래미화금액×해외서비스 수수료율 0.2%) ×전신환매도율\"}', '카드사': '삼성카드'}, page_content='카드이름: (심의용) 삼성카드 신규상품1  카드사: 삼성카드  카드브랜드: Mastercard  국내연회비: 20000원  해외연회비: 20000원  [적립] 생활 필수 영역 0.5% KTX 마일리지 포인트 추가 적립  [기타] 특수 소재 카드'),\n",
       " Document(id='92343a2d-478f-4905-89bd-edcfcfd56c2a', metadata={'원본_전체_혜택': '{\"모든가맹점\": \"0.7% 결제일할인(청구할인)\", \"영화\": \"모든 영화관 2,500원 결제일할인\", \"은행사\": \"KDB산업은행 금융/여행/생활 서비스\", \"프리미엄\": \"American Express Selects 서비스\", \"경기관람\": \"프로스포츠 프로모션 서비스\", \"유의사항\": \"유의사항- 본 카드의 서비스 내용은 당사 및 제휴사 사정에 따라 사전 고지 후 변경 또는 중단될 수 있으며, 카드 이용금액에 따라 제한될 수 있습니다.- 별도의 이벤트를 진행하지 않는 한 타 쿠폰 및 타 카드(신용카드, 통신계 카드 등) 타 할인혜택의 중복 사용은 불가합니다.- 계약 체결 전 상품에 관한 사항은 상품설명서 및 약관을 읽어보시기 바랍니다.- 카드 이용 시 제공되는 포인트 및 할인혜택 등의 부가서비스는 카드 신규출시 이후 3년 이상 축소·폐지 없이 유지 됩니다.- 상기에도 불구하고, 다음과 같은 사유가 발생한 경우 카드사는 부가서비스를 변경할 수 있습니다.  ① 카드사 또는 부가서비스 관련 제휴업체의 휴업·도산·경영위기, 천재지변, 금융환경 급변 또는 그 밖에 이에 준하는 사유의 발생  ② 카드사의 노력에도 제휴업체가 일방적으로 부가서비스 변경을 통보(단, 다른 제휴업체를 통해 동종의 유사한 부가서비스 제공이 가능한 경우 제외)  ③ 카드 신규출시 이후 3년 이상 경과했고, 해당 카드의 수익성 유지가 어려운 경우- 카드사가 부가서비스를 변경하는 경우에는 부가서비스 변경 사유, 변경 내용 등을 사유발생 즉시 홈페이지에 게시하고, 개별 고지해 드립니다. 특히 카드 신규 출시 이후 3년 이상 경과했고, 해당 카드의 수익성 유지가 어려워져 부가서비스를 변경하는 경우에는 6개월 전부터 매월 개별고지 해 드립니다.  * 개별고지 방법 : 카드대금청구서, 우편, 이메일, 휴대폰 문자메세지 중 하나\"}', '카드이름': 'KDB SAMSUNGCARD 4', '카드사': '삼성카드', '국내연회비': 5000, '카드브랜드': '없음', '해외연회비': 0}, page_content='카드이름: KDB SAMSUNGCARD 4  카드사: 삼성카드  카드브랜드: 없음  국내연회비: 5000원  해외연회비: 0원  [모든가맹점] 0.7% 결제일할인(청구할인)  [영화] 모든 영화관 2,500원 결제일할인  [은행사] KDB산업은행 금융/여행/생활 서비스  [프리미엄] American Express Selects 서비스  [경기관람] 프로스포츠 프로모션 서비스'),\n",
       " Document(id='b564e984-4214-4ae3-8f1f-4495aaf30b98', metadata={'해외연회비': 12000, '카드이름': '새마을금고 삼성애니패스포인트카드', '카드사': '삼성카드', '원본_전체_혜택': '{\"모든가맹점\": \"0.2%~0.8% 빅포인트 적립\", \"주유\": \"S-OIL 리터당 40 보너스포인트 적립\", \"금융\": \"새마을금고 현금카드 기능\", \"경기관람\": \"프로스포츠 경기 할인\", \"푸드\": \"아웃백, 스타벅스 할인\", \"테마파크\": \"주요 놀이공원 입장권 및 자유이용권 할인\", \"OTT/영화/문화\": \"영화 할인\", \"정비\": \"닥터카서비스\", \"유의사항\": \"- 연회비는 카드 발급일(발급 첫 해에는 카드 사용등록일)을 기준으로 매년 청구됩니다.- 예외기준  * 카드 발급일(발급 첫 해에는 카드 사용등록일)에 연회비가 청구되지 않은 경우 최초 이용일자 기준으로 해당 결제일에 청구됩니다.  * 매년 카드 발급일을 기준으로 직전 1년 이내 실적이 없는 경우 연회비가 청구되지 않습니다.  * 재발급, 갱신 시에는 이전 카드의 카드 발급일을 기준으로 연회비가 청구됩니다.- 연회비는 기본 연회비와 제휴 연회비로 구분되며 기본 연회비는 보유 카드 매수에 관계없이 연 1회만 청구되고, 제휴 연회비는 보유하신 카드별로 청구됩니다.- 카드 중도 해지 시, 연회비 반환 금액은 회원이 카드사와 계약을 해지한 날부터 일 단위로 나누어 계산하여 반환됩니다. 카드의 발행, 배송 등 카드 발급에 소요된 비용(신규 가입연도에 해당)은 반환 금액에서 제외되며, 제휴 연회비가 있는 경우에는 카드 이용 시 제공되는 추가적인 혜택 등 부가 서비스 제공에 소요된 비용이 추가적으로 반환 금액에서 제외됩니다.- 연회비 반환 금액은 계약을 해지한 날로부터 10일(영업일 기준) 이내에 반환해 드립니다. 부가 서비스 제공 내역 확인에 시간이 소요되는 등 불가피한 사유가 있을 때에는 계약을 해지한 날로부터 3개월 이내에 반환됩니다.- 보너스포인트로 연회비를 결제할 수 있습니다.- 카드사 및 제휴사의 사정으로 변경·중단될 수 있으며, 그 내용을 사전에 알려 드립니다.부가서비스 변경 가능 사유- 카드 이용 시 제공되는 포인트 및 할인 혜택 등의 부가 서비스는 카드 신규 출시 이후 1년 이상 축소, 폐지 없이 유지됩니다.- 부가 서비스 제공과 관련된 제휴 업체의 일방적인 제휴 조건 변경·도산, 천재지변, 금융환경의 급변, 카드 업자의 경영위기 및 그 밖에 이에 준하는 사유에 따른 불가피한 변경의 경우 즉시 홈페이지에 게시하고, 개별 고지해 드립니다.- 카드 신규 출시 이후 1년 이상 경과했고, 해당 카드의 수익성 유지가 어려워 부가 서비스를 변경하는 경우는 홈페이지에 게시하고, 6- 개월 전부터 매월 개별 고지해 드립니다.    * 개별고지방법 : 이용대금 명세서, 우편, 이메일, 휴대전화 문자메시지 중 하나\"}', '카드브랜드': '없음', '국내연회비': 0}, page_content='카드이름: 새마을금고 삼성애니패스포인트카드  카드사: 삼성카드  카드브랜드: 없음  국내연회비: 0원  해외연회비: 12000원  [모든가맹점] 0.2%~0.8% 빅포인트 적립  [주유] S-OIL 리터당 40 보너스포인트 적립  [금융] 새마을금고 현금카드 기능  [경기관람] 프로스포츠 경기 할인  [푸드] 아웃백, 스타벅스 할인  [테마파크] 주요 놀이공원 입장권 및 자유이용권 할인  [OTT/영화/문화] 영화 할인  [정비] 닥터카서비스')]"
      ]
     },
     "execution_count": 13,
     "metadata": {},
     "output_type": "execute_result"
    }
   ],
   "source": [
    "retriever.invoke(\"삼성카드를 추천해줘\")"
   ]
  },
  {
   "cell_type": "code",
   "execution_count": 14,
   "id": "9830005f",
   "metadata": {},
   "outputs": [],
   "source": [
    "from langchain.retrievers import ContextualCompressionRetriever\n",
    "from langchain.retrievers.document_compressors import CrossEncoderReranker\n",
    "from langchain_community.cross_encoders import HuggingFaceCrossEncoder"
   ]
  },
  {
   "cell_type": "code",
   "execution_count": 15,
   "id": "088f42f9",
   "metadata": {},
   "outputs": [],
   "source": [
    "# cross encoder (embedding) model이 필요행! - cohere : embedding쪽이 성능이 좋음. 근데 오픈소스 없삼\n",
    "reranker_model_id = \"BAAI/bge-reranker-v2-m3\"\n",
    "\n",
    "retriever = vectorstore.as_retriever(\n",
    "    search_kwargs={\"k\": 3}  # Top 3 유사 Document 가져오게 설정\n",
    ")\n",
    "reranker = HuggingFaceCrossEncoder(model_name = reranker_model_id)\n",
    "compressor = CrossEncoderReranker(model = reranker, top_n= 5)\t\t# 압축방식 객체 생성 <- crossencoder 객체\n",
    "reranker_retriever = ContextualCompressionRetriever(\n",
    "    base_retriever=retriever,\t# 처음 문서를 조회할 retriever\n",
    "    base_compressor=compressor,\t# base retriever가 검색한 문서를 압축하는 알고리즘, (Reranker)\n",
    ")"
   ]
  },
  {
   "cell_type": "code",
   "execution_count": null,
   "id": "04bb3fcd",
   "metadata": {},
   "outputs": [],
   "source": [
    "query = \"삼성카드의 연회비 조건이 좋은 카드를 알려주세요.\"\n",
    "base_result = retriever.invoke(query)\n",
    "rerank_result = reranker_retriever.invoke(query)\n",
    "base_result_str = [d.page_content for d in base_result]\n",
    "rerank_result_str = [d.page_content for d in rerank_result]"
   ]
  },
  {
   "cell_type": "code",
   "execution_count": 18,
   "id": "3fdad4b4",
   "metadata": {},
   "outputs": [
    {
     "data": {
      "text/plain": [
       "['카드이름: KDB SAMSUNGCARD 4  카드사: 삼성카드  카드브랜드: 없음  국내연회비: 5000원  해외연회비: 0원  [모든가맹점] 0.7% 결제일할인(청구할인)  [영화] 모든 영화관 2,500원 결제일할인  [은행사] KDB산업은행 금융/여행/생활 서비스  [프리미엄] American Express Selects 서비스  [경기관람] 프로스포츠 프로모션 서비스',\n",
       " '카드이름: 삼성 BIZ iD BENEFIT카드  카드사: 삼성카드  카드브랜드: Mastercard  국내연회비: 30000원  해외연회비: 30000원  [비즈니스] 4대 사회보험, 도시가스요금, 전기요금, 할인점, 온라인쇼핑몰, 식자재몰, 해외 1.5% 결제 할인  [모든가맹점] 국내 가맹점 0.5% 결제일할인  [생활] 주유·전기차 충전요금·이동통신·인터넷/유선통신·렌탈·보안·방역 3% 결제일할인  [공과금/렌탈] 세무지원 서비스  [선택형] 원하는 플레이트 디자인 선택 가능',\n",
       " '카드이름: 신세계인터내셔날 삼성카드  카드사: 삼성카드  카드브랜드: Mastercard  국내연회비: 25000원  해외연회비: 25000원  [쇼핑] 신세계인터내셔날 브랜드·신세계백화점 1%·2% 결제일할인  [카페] 스타벅스 20% 결제일할인  [간편결제] 온라인 간편결제 1% 결제일할인  [해외] 해외 1.5% 결제일할인  [기타] 신세계백화점 제휴 서비스  [프리미엄 서비스] Mastercard 프리미엄 서비스  [공항라운지] 인천·김포·김해공항 라운지 본인 이용 무료']"
      ]
     },
     "execution_count": 18,
     "metadata": {},
     "output_type": "execute_result"
    }
   ],
   "source": [
    "base_result_str"
   ]
  },
  {
   "cell_type": "code",
   "execution_count": 19,
   "id": "84799ec2",
   "metadata": {},
   "outputs": [
    {
     "data": {
      "text/plain": [
       "['카드이름: 삼성 BIZ iD BENEFIT카드  카드사: 삼성카드  카드브랜드: Mastercard  국내연회비: 30000원  해외연회비: 30000원  [비즈니스] 4대 사회보험, 도시가스요금, 전기요금, 할인점, 온라인쇼핑몰, 식자재몰, 해외 1.5% 결제 할인  [모든가맹점] 국내 가맹점 0.5% 결제일할인  [생활] 주유·전기차 충전요금·이동통신·인터넷/유선통신·렌탈·보안·방역 3% 결제일할인  [공과금/렌탈] 세무지원 서비스  [선택형] 원하는 플레이트 디자인 선택 가능',\n",
       " '카드이름: 신세계인터내셔날 삼성카드  카드사: 삼성카드  카드브랜드: Mastercard  국내연회비: 25000원  해외연회비: 25000원  [쇼핑] 신세계인터내셔날 브랜드·신세계백화점 1%·2% 결제일할인  [카페] 스타벅스 20% 결제일할인  [간편결제] 온라인 간편결제 1% 결제일할인  [해외] 해외 1.5% 결제일할인  [기타] 신세계백화점 제휴 서비스  [프리미엄 서비스] Mastercard 프리미엄 서비스  [공항라운지] 인천·김포·김해공항 라운지 본인 이용 무료',\n",
       " '카드이름: KDB SAMSUNGCARD 4  카드사: 삼성카드  카드브랜드: 없음  국내연회비: 5000원  해외연회비: 0원  [모든가맹점] 0.7% 결제일할인(청구할인)  [영화] 모든 영화관 2,500원 결제일할인  [은행사] KDB산업은행 금융/여행/생활 서비스  [프리미엄] American Express Selects 서비스  [경기관람] 프로스포츠 프로모션 서비스']"
      ]
     },
     "execution_count": 19,
     "metadata": {},
     "output_type": "execute_result"
    }
   ],
   "source": [
    "rerank_result_str"
   ]
  },
  {
   "cell_type": "code",
   "execution_count": 20,
   "id": "110e6f7e",
   "metadata": {},
   "outputs": [],
   "source": [
    "from langchain.prompts import PromptTemplate\n",
    "from langchain_core.output_parsers import StrOutputParser\n",
    "# RAG용 prompt template : \"답변을 context 기반으로 해야한다\"라는 system message가 들어가야함.\n",
    "template = \"\"\"\n",
    "# Instruction:\n",
    "당신은 정확한 정보 제공을 우선시하는 인공지능 어시스턴트입니다.\n",
    "주어진 Context에 포함된 정보만 사용해서 질문에 답변하세요.\n",
    "Context에 질문에 대한 명확한 정보가 있는 경우 그 내용을 바탕으로 답변하세요.\n",
    "Context에 질문에 대한 명확한 정보없을 경우 \"정보가 부족해서 답을 알 수 없습니다.\" 라고 대답합니다.\n",
    "절대 Context에 없는 내용을 추측하거나 일반 상식을 이용해 답을 만들어서 대답하지 않습니다.\n",
    "\n",
    "Context:\n",
    "{context}\n",
    "\n",
    "질문:\n",
    "{query}\n",
    "\"\"\"\n",
    "prompt_template = PromptTemplate(template=template)"
   ]
  },
  {
   "cell_type": "code",
   "execution_count": 27,
   "id": "7c03e972",
   "metadata": {},
   "outputs": [],
   "source": [
    "from langchain_openai import ChatOpenAI\n",
    "\n",
    "# rerank, prompt 다듬기 해보기\n",
    "llm_model = ChatOpenAI(model_name = \"gpt-4.1\")\n",
    "\n",
    "from langchain_core.runnables import chain\n",
    "@chain\n",
    "def RAG_Rerank_chain(query : str):\n",
    "    docs = reranker_retriever.get_relevant_documents(query)\n",
    "    page_contents = [doc.page_content for doc in docs]\n",
    "    prompt = prompt_template.invoke({\"context\" : page_contents, \"query\" : query})\n",
    "    result = llm_model.invoke(prompt)\n",
    "    return StrOutputParser().invoke(result)"
   ]
  },
  {
   "cell_type": "code",
   "execution_count": 28,
   "id": "994007ea",
   "metadata": {},
   "outputs": [],
   "source": [
    "result = RAG_Rerank_chain.invoke(\"삼성카드의 교통 혜택이 좋은 카드를 추천해줘\")"
   ]
  },
  {
   "cell_type": "code",
   "execution_count": 30,
   "id": "f78435c6",
   "metadata": {},
   "outputs": [
    {
     "name": "stdout",
     "output_type": "stream",
     "text": [
      "Context에 따르면, 교통 혜택이 좋은 삼성카드로는 다음 두 가지가 있습니다.\n",
      "\n",
      "1. iD MOVE카드: 대중교통·택시 10% 결제일 할인 혜택이 있습니다.\n",
      "2. SC제일은행 삼성체크카드 YOUNG: 대중교통 이용금액의 10% 캐시백 혜택과, 후불교통카드 기능을 제공합니다.\n",
      "\n",
      "따라서, 대중교통 관련 혜택이 좋은 삼성카드를 원한다면 위 두 카드가 적합합니다.\n"
     ]
    }
   ],
   "source": [
    "print(result)"
   ]
  },
  {
   "cell_type": "code",
   "execution_count": 44,
   "id": "7a66a445",
   "metadata": {},
   "outputs": [
    {
     "data": {
      "application/vnd.jupyter.widget-view+json": {
       "model_id": "3476d4399a104f689ffa6a744dd2fabb",
       "version_major": 2,
       "version_minor": 0
      },
      "text/plain": [
       "Evaluating:   0%|          | 0/4 [00:00<?, ?it/s]"
      ]
     },
     "metadata": {},
     "output_type": "display_data"
    },
    {
     "name": "stderr",
     "output_type": "stream",
     "text": [
      "The LLM did not return a valid classification.\n"
     ]
    },
    {
     "name": "stdout",
     "output_type": "stream",
     "text": [
      "{'faithfulness': 0.7143, 'answer_relevancy': 0.8281, 'context_precision': 1.0000, 'context_recall': nan}\n"
     ]
    }
   ],
   "source": [
    "from ragas.metrics import faithfulness, answer_relevancy, context_precision, context_recall\n",
    "from ragas import evaluate\n",
    "from datasets import Dataset\n",
    "\n",
    "# 1. 체인 실행해서 답변 얻기\n",
    "query = \"해외 수수료 우대되는 카드 추천해줘\"\n",
    "docs = reranker_retriever.get_relevant_documents(query)\n",
    "contexts = [doc.page_content for doc in docs]\n",
    "\n",
    "# 기존 RAG 답변\n",
    "prompt = prompt_template.invoke({\"context\": contexts, \"query\": query})\n",
    "answer = llm_model.invoke(prompt).content\n",
    "\n",
    "# 2. 평가용 데이터셋 생성\n",
    "rag_eval_data = Dataset.from_dict({\n",
    "    \"question\": [query],\n",
    "    \"contexts\": [contexts],\n",
    "    \"answer\": [answer],\n",
    "    \"ground_truth\": [\"여기에 정답 텍스트 넣기 (없으면 그냥 빈 문자열 '')\"]\n",
    "})\n",
    "\n",
    "# 3. RAGAS 평가 실행\n",
    "result = evaluate(\n",
    "    rag_eval_data,\n",
    "    metrics=[\n",
    "        faithfulness,\n",
    "        answer_relevancy,\n",
    "        context_precision,\n",
    "        context_recall\n",
    "    ]\n",
    ")\n",
    "\n",
    "print(result)\n"
   ]
  },
  {
   "cell_type": "markdown",
   "id": "9ed1f113",
   "metadata": {},
   "source": [
    "## 모든 세부 혜택 크롤링한 data로 진행하던 흔적"
   ]
  },
  {
   "cell_type": "code",
   "execution_count": null,
   "id": "e9d8b445",
   "metadata": {},
   "outputs": [
    {
     "name": "stderr",
     "output_type": "stream",
     "text": [
      "100%|██████████| 2857/2857 [05:23<00:00,  8.84it/s]\n"
     ]
    }
   ],
   "source": [
    "# 신규발급중지, 브랜드 추가\n",
    "import requests\n",
    "import re\n",
    "import json\n",
    "import pandas as pd\n",
    "from bs4 import BeautifulSoup\n",
    "from tqdm import tqdm\n",
    "\n",
    "def extract_card_info(card_id):\n",
    "    url = f\"https://api.card-gorilla.com:8080/v1/cards/{card_id}\"\n",
    "    headers = {\"User-Agent\": \"Mozilla/5.0\"}\n",
    "    res = requests.get(url, headers=headers)\n",
    "\n",
    "    if res.status_code != 200:\n",
    "        return None\n",
    "\n",
    "    data = res.json()\n",
    "\n",
    "    # 카드 기본 정보\n",
    "    card_idx = data.get(\"idx\")\n",
    "    card_name = data.get(\"name\")\n",
    "\n",
    "    # 신규 발급 중단 여부\n",
    "    is_discon = data.get(\"is_discon\", False)\n",
    "    if is_discon:\n",
    "        return None\n",
    "\n",
    "    card_company = data.get(\"corp\", {}).get(\"name\")\n",
    "\n",
    "    # 카드 브랜드\n",
    "    brands = data.get(\"brand\", [])\n",
    "    card_brand = brands[0][\"name\"] if brands else \"없음\"\n",
    "\n",
    "    # 국내/해외 연회비 추출\n",
    "    annual_fee_detail = data.get(\"annual_fee_detail\") or \"\"\n",
    "    domestic_fee = re.search(r'국내.*?([0-9,]+)원', annual_fee_detail)\n",
    "    domestic_fee = int(domestic_fee.group(1).replace(\",\", \"\")) if domestic_fee else 0\n",
    "    foreign_fee = re.search(r'해외.*?([0-9,]+)원', annual_fee_detail)\n",
    "    foreign_fee = int(foreign_fee.group(1).replace(\",\", \"\")) if foreign_fee else 0\n",
    "\n",
    "    # 카드 혜택\n",
    "    benefits_dict = {}\n",
    "    key_benefit = data.get(\"key_benefit\", [])\n",
    "    for benefit in key_benefit:\n",
    "        title = benefit.get(\"title\")\n",
    "        comment = benefit.get(\"comment\") or \"\"\n",
    "        info = benefit.get(\"info\") or \"\"\n",
    "        \n",
    "        # 전체 내용 추출 (혜택 제목 + 세부 정보 모두)\n",
    "        if comment:\n",
    "            if info:\n",
    "                soup = BeautifulSoup(info, \"html.parser\")\n",
    "                desc = soup.get_text().strip().replace('\\xa0', ' ')  # 줄바꿈을 공백으로 대체\n",
    "                \n",
    "            elif comment:\n",
    "                desc = comment\n",
    "            else:\n",
    "                desc = \"내용 없음\"\n",
    "     \n",
    "        benefits_dict[title] = desc\n",
    "\n",
    "    return {\n",
    "        \"카드_url\": \"https://www.card-gorilla.com/card/detail/\" + str(card_idx),\n",
    "        \"카드이름\": card_name,\n",
    "        \"카드사\": card_company,\n",
    "        \"카드브랜드\": card_brand,\n",
    "        \"국내연회비\": domestic_fee,\n",
    "        \"해외연회비\": foreign_fee,\n",
    "        \"주요혜택\": benefits_dict\n",
    "    }\n",
    "\n",
    "# 수집할 카드 ID 범위 지정 (예: 1~2857)\n",
    "card_infos = []\n",
    "for card_id in tqdm(range(1, 2858)):\n",
    "    info = extract_card_info(card_id)\n",
    "    if info:\n",
    "        card_infos.append(info)"
   ]
  },
  {
   "cell_type": "code",
   "execution_count": 66,
   "id": "b94a8d92",
   "metadata": {},
   "outputs": [],
   "source": [
    "with open(\"card_infos.json\", \"w\", encoding=\"utf-8\") as f:\n",
    "    json.dump(card_infos, f, ensure_ascii=False, indent=4)"
   ]
  },
  {
   "cell_type": "code",
   "execution_count": 95,
   "id": "f4625861",
   "metadata": {},
   "outputs": [],
   "source": [
    "# CSV로 저장\n",
    "df = pd.DataFrame(card_infos)\n",
    "df.to_csv(\"card_info.csv\", index=False, encoding=\"utf-8-sig\")"
   ]
  },
  {
   "cell_type": "code",
   "execution_count": 78,
   "id": "47c151da",
   "metadata": {},
   "outputs": [
    {
     "data": {
      "text/plain": [
       "list"
      ]
     },
     "execution_count": 78,
     "metadata": {},
     "output_type": "execute_result"
    }
   ],
   "source": [
    "type(card_data)"
   ]
  },
  {
   "cell_type": "code",
   "execution_count": 118,
   "id": "7561e011",
   "metadata": {},
   "outputs": [],
   "source": [
    "from langchain_core.documents import Document\n",
    "\n",
    "def make_documents(card_json_list):\n",
    "    documents = []\n",
    "    for card in card_json_list:\n",
    "        metadata = {\n",
    "            \"카드이름\": card.get(\"카드이름\"),\n",
    "            \"카드사\": card.get(\"카드사\"),\n",
    "            \"카드브랜드\": card.get(\"카드브랜드\"),\n",
    "            \"국내연회비\": card.get(\"국내연회비\"),\n",
    "            \"해외연회비\": card.get(\"해외연회비\"),\n",
    "            # \"카드_url\": card.get(\"카드_url\")  # 필요 시 URL도 메타에 넣기\n",
    "        }\n",
    "\n",
    "        # 주요혜택 내용을 긴 텍스트로 합치기\n",
    "        content_parts = []\n",
    "        혜택_dict = card.get(\"주요혜택\", {})\n",
    "        for category, desc in 혜택_dict.items():\n",
    "            if desc:\n",
    "                content_parts.append(f\"[{category}]\\n{desc.strip()}\\n\")\n",
    "        content = \"\\n\".join(content_parts)\n",
    "\n",
    "        # Document 객체 생성\n",
    "        doc = Document(\n",
    "            page_content=content,\n",
    "            metadata=metadata\n",
    "        )\n",
    "        documents.append(doc)\n",
    "\n",
    "    return documents\n",
    "\n",
    "# JSON 파일 로드\n",
    "with open(\"card_infos.json\", \"r\", encoding=\"utf-8\") as f:\n",
    "    card_data = json.load(f)\n",
    "\n",
    "documents = make_documents(card_data)"
   ]
  },
  {
   "cell_type": "code",
   "execution_count": 119,
   "id": "3e7e9d7e",
   "metadata": {},
   "outputs": [
    {
     "data": {
      "text/plain": [
       "'[선택형]\\nGift Option 서비스는 매년 1회 아래 품목 중 한 가지를 선택하여 이용하실 수 있습니다.- 포인트 : 마이신한포인트 적립(7만점) / 1년1회- 문화 : 문화상품권(8만원) / 1년1회- 요식 : 패밀리 레스토랑 11만원 이용권 / 1년1회- 호텔 : 호텔 애프터눈 티 SET 이용권 / 1년2회Gift Option 서비스 이용방법- 연회비 청구 기준으로 1년간 Gift Option 중 택 1하여 지정된 서비스에 한해 신청 가능하며, 신청기간 경과 이후 미사용 건에 대해서는 소급 신청이 불가합니다.- Gift Option 서비스는 The CLASSIC-Y 카드 발급 초년도의 경우 연회비 납부 및 카드 일시불+할부 이용금액 20만원 이상이용 시 신청 가능하며,  2차년도부터는 연회비 납부 및 전년도 카드 일시불+할부 이용금액 300만원 이상 이용 시 신청 가능합니다.- 서비스 신청 시 본인이 수령을 원하는 자택 또는 청구지 주소로 이용권 또는 신청 물품을 수령하시고 사용하시면 됩니다. (Option 수령 기간 : 약 10일)- Gift Option 서비스는 액면에 기재되어 있는 기간에 한하여 사용이 가능합니다.- Gift Option 서비스 취소 및 변경은 신청 당일에 한하여 가능합니다.- Gift Option 서비스는 가족카드 회원에게는 제공되지 않습니다.Option 1. 마이신한포인트 적립(7만점)- 사용방법(자세한 내용은 신한카드 홈페이지 : www.shinhancard.com에서 확인 가능합니다.)  * 1) 1Point 이상 : 마이신한포인트 가맹점, MY신한몰, 연회비 결제, 포인트 기부, 지방세 납부, 기프트카드 구매  * 2) 200Point 이상 : SMS 수수료 결제  * 3) 10,000Point 이상 : 포인트 캐시백- 적립기간 : 적립일 기준으로 5년- 사용제한 : 카드 해지 등의 사유로 거래정지가 된 경우- 유효기간 및 소멸 : 적립된 마이신한포인트의 유효기간은 적립일로부터 60개월이며, 유효기간이 경과된 마이신한포인트는 월 단위로 자동 소멸됩니다.- 카드정지, 해지 시 유효기간 내 포인트는 소멸되지 않습니다.- 마이신한포인트는 신청 즉시 적립되며, 사용 이후에는 취소가 불가능 합니다.- 사용가능 포인트는 가맹점 제휴사정에 따라 특정 금액 이상 포인트 사용 조건이 적용될 수 있습니다.Option 2. 문화상품권(8만원)- 문의 및 신청 : 신한카드 고객센터 1544-7000 / 평일 09:00 ~ 18:00- 사용매장 : 문화상품권 사용처  * 전국 서점, 극장 등에서 사용 가능하며 자세한 사용처 및 사용방법 안내는 컬쳐랜드(www.cultureland.co.kr)를 참조하여 주시기 바랍니다.- 이용가능기간 : 발행일로부터 5년- 본 상품권은 우편으로만 발송됩니다.(모바일 발송 불가)- 본 상품권은 도난, 분실, 유효기간 경과 시 재발행 및 사용이 불가합니다.- 사용할 상품권 금액이 1만원 이하는 80% 이상과 1만원 초과 시 60% 이상을 사용해야 잔액 환불 가능합니다.(단, 온라인 사용에 대한 잔액 환불은 컬쳐랜드/컬쳐캐쉬 약관을 준수합니다.)Option 3. 패밀리 레스토랑 11만원 이용권- 사용매장 : 전국 제휴 패밀리 레스토랑  * 제휴 매장 현황은 http://www.familyvoucher.com에서 확인 가능하며, 업체의 사정에 의해 변경되거나 중단될 수 있습니다.- 이용가능기간 : 발행일로부터 1년- 본 이용권은 별도의 교환절차 없이 전국 제휴 패밀리 레스토랑에서 즉시 사용 가능합니다.- 본 이용권은 우편으로만 수령이 가능하며, 1만원권 11장으로 지급되어 1회 최대 10만원까지 복수의 매장에서 여러 번 나누어 사용하실 수 있습니다.- 현금교환 및 잔액환불은 불가합니다.- 지류 이용권은 도난/분실 및 유효기간 경과 시 재발행 및 사용 불가합니다.- 본 이용권 사용 시 추가금액은 The CLASSIC-Y카드로 결제하셔야 하며, 타 쿠폰 사용 및 중복 할인 불가합니다.Option 4. 호텔 애프터눈 티 SET 이용권- 대상호텔 : 롯데호텔(소공/월드/부산), 인터컨티넨탈 서울 코엑스, 파라다이스 부산- 유의사항  * 1) 호텔 통합 연 2회 제공됩니다.  * 2) 호텔 애프터눈 티 이용 시 원하시는 호텔로 사전예약 후 이용하시기 바랍니다.(사전예약 필수)  * 3) 호텔에서 애프터눈 티 이용권과 회원님의 The CLASSIC-Y카드로 정상 인증이 완료되어야 서비스가 제공됩니다.  * 4) 호텔에서 애프터눈 티 이용권을 제외한 추가 서비스 이용 시 The CLASSIC-Y카드로 현장 결제하셔야 합니다.  * 5) 호텔 애프터눈 티 이용권 1회 이용 후 기타 다른 Gift 옵션으로 변경은 불가합니다.  * 6) 호텔 애프터눈 티 메뉴 구성 및 이용기준은 호텔규정에 따라 상이하게 운영되므로, 제공되는 음료 및 디저트 메뉴는 사전예약 시 확인하여 주시기 바랍니다.  * 롯데호텔(소공) : 1층 로비라운지 / 02-317-7131  * 롯데호텔(월드) : 1층 로비라운지 / 02-411-7751   * 롯데호텔(부산) : 1층 로비라운지 / 051-810-6430  * 인터컨티넨탈 서울 코엑스 : 1층 로비라운지 / 02-3430-8603  * 파라다이스부산 : 1층 로비라운지 / 051-749-2230\\n\\n[모든가맹점]\\n[마이신한포인트 적립]기본적립- 전 가맹점 일시불/할부 이용금액의 0.7% 마이신한포인트 적립특별적립- 해외, 명품아울렛(신세계/롯데), 면세점, 골프 업종 이용 시 기본적립 포함 총 5% 마이신한포인트 적립  * 예시)면세점에서 5만원 이용 시 2,500P적립 : 350P(기본적립0.7%) + 2,150P(특별적립4.3%)유의사항- 특별적립은 이용금액 기준 월 최대 5만 포인트까지 제공됩니다.(본인+가족 합산)- 명품 아울렛 : 롯데(파주, 김해, 이천), 신세계(여주, 파주, 부산)- 롯데/신세계 일반 아울렛 및 온라인 면세점은 특별 적립이 제공되지 않습니다.(기본 적립만 제공)- 업종 구분은 해당 가맹점의 신한카드 등록 내용에 따르며, 일부 실제와 상이할 수 있습니다.- 포인트는 신용카드 이용대금 결제일(결제일이 은행 휴무일인 경우 익영업일)에 적립됩니다.- 적립된 마이신한포인트의 유효기간은 적립일로부터 60개월이며, 유효기간이 경과된 마이신한포인트는 월 단위로 자동 소멸됩니다. 카드정지, 해지 시 유효기간 내 포인트는 소멸되지 않습니다.마이신한포인트 적립 제외 대상- 무이자 할부 이용금액, 할인 적용된 이용금액, 단기카드대출(현금서비스), 연회비, 장기카드대출(카드론), 포인트 사용액, 선불카드 충전금액, Gift카드 구매금액, 상품권 구매금액, 할부수수료, 연체이자 등 각종 수수료 및 이자 공과금 및 지방세, 수도요금 등\\n\\n[주유소]\\nGS칼텍스 주유 시 리터당 60원 결제일 할인- 할인 적용 전 이용 금액 월 30만원까지 할인 적용됩니다.- 서비스 이용전월 The CLASSIC-Y 카드로 일시불+할부 이용금액이 30만원 이상 시 제공되며, 신규 발급 회원의 경우 카드 사용 등록 월의 다음 달 말일까지(등록 월+1개월)이용실적에 관계없이 제공됩니다.유의사항- 전월 이용실적 및 할인한도는 본인, 가족카드 각각 산정됩니다.- 휘발유, 경유, 등유에 한하며 LPG는 제외됩니다. (할인금액은 정유사가 통보한 휘발유 표준 고시유가 기준 적용)- 전월 이용 실적은 전월 1일부터 말일까지의 거래시점 실적으로 반영되며, 교통카드 이용 실적은 전전월 사용실적으로, 해외 이용 실적은 당사에 접수된 일자 기준 실적으로 반영됩니다.- 전월 이용 실적에서 단기카드대출(현금서비스)/장기카드대출(카드론)/각종 수수료/이자/거래 취소금액 등은 제외됩니다.Powered by Froala Editor\\n\\n[생활]\\nThe CLASSIC-Y 카드로 지정 가맹점 이용 시 5% 할인 혜택 제공- 할인액 기준 제공처 통합 월 2만원까지 제공됩니다.- 서비스 이용 전월 The CLASSIC-Y 카드로 일시불+할부 이용금액이 30만원 이상 시 제공되며, 신규 발급 회원의 경우 카드사용 등록 월의 다음 달 말일까지(등록 월+1개월) 이용실적에 관계없이 제공됩니다.지정 가맹점- 커피 : 스타벅스, 커피빈- 제과 : 파리바게뜨, 던킨도너츠, 뚜레쥬르- 택시 : 택시업종- 화장품 : 올리브영, 아리따움- 영화 : CGV, 롯데시네마유의사항- 전월 이용 실적 및 할인한도는 본인, 가족카드 합산으로 제공됩니다.- 백화점, 대형할인점 입점 매장 및 상품권 구매 시에는 서비스 제공이 제한될 수 있습니다.- 업종 구분은 해당 가맹점의 신한카드 등록 내용에 따르며, 일부 실제와 상이할 수 있습니다.- 전월 이용 실적은 전월 1일부터 말일까지의 거래시점 실적으로 반영되며, 교통카드 이용 실적은 전전월 사용실적으로, 해외 이용 실적은 당사에 접수된 일자 기준 실적으로 반영됩니다.- 전월 이용 실적에서 단기카드대출(현금서비스)/장기카드대출(카드론)/각종 수수료/이자/거래 취소금액 등은 제외됩니다.Powered by Froala Editor\\n\\n[면세점]\\n제주 JDC 면세점 8% 결제일 할인- 서비스 이용 전월 (1일~말일) The CLASSIC-Y 카드 일시불+할부 이용금액에 따라 할인한도가 적용됩니다.- 서비스 이용 전월 The CLASSIC-Y 카드로 일시불+할부 이용금액이 30만원 이상 시 제공되며, 신규 발급 회원의 경우 카드 사용 등록 월의 다음 달 말일까지(등록 월 + 1개월) 이용실적에 관계없이 월 8천원까지 할인이 제공됩니다.  * 전월 이용액 30만원이상~60만원미만 : 월 할인한도 8천원  * 전월 이용액 60만원 이상 : 월 할인한도 3만2천원유의사항- 전월 이용실적은 전월 1일부터 말일까지의 거래시점 실적으로 반영되며, 교통카드 이용실적은 전전월 사용실적으로, 해외 이용실적은 당사에 접수된 일자 기준 실적으로 반영됩니다.- 전월 이용실적에서 단기카드대출(현금서비스)/장기카드대출(카드론)/각종 수수료/이자/거래 취소금액은 제외됩니다.Powered by Froala Editor\\n\\n[진에어]\\n진에어 국제선 항공권 결제일 할인- The CLASSIC-Y VISA PLATINUM(Young Premium) 카드 신청 시 서비스가 제공됩니다.  * The CLASSIC-Y MASTER PLATINUM, UPI PLATINUM 카드에는 서비스가 제공되지 않습니다.- 진에어 국제선 항공권을 온라인에서 구매 시 15% 결제일 할인 혜택이 제공됩니다.  * 국내선 항공권 구매 시 해당 할인이 적용되지 않습니다.- 진에어 홈페이지 및 모바일(www.jinair.com)에서 예약/결제 시에만 할인 적용됩니다.- 할인 적용 전 이용 금액 월 40만원까지 할인 적용됩니다. (할인액 기준 월 최대 6만원까지 할인 제공)- 서비스 이용 전월 The CLASSIC-Y카드로 일시불+할부 이용 금액이 30만원 이상 시 제공되며, 신규 발급 회원의 경우 카드 사용 등록월의 익월 말일까지(등록월+1개월) 이용실적에 관계없이 제공됩니다.유의사항- 전월 이용실적 및 할인한도는 본인, 가족카드 합산으로 제공됩니다.- 전월 이용실적은 전월 1일부터 말일까지의 거래시점 실적으로 반영되며, 교통카드 이용실적은 전전월 사용실적으로, 해외 이용실적은 당사에 접수된 일자 기준 실적으로 반영됩니다.- 전월 이용실적에서 단기카드대출(현금서비스)/장기카드대출(카드론)/각종 수수료/이자/거래 취소금액 등은 제외됩니다.Powered by Froala Editor\\n\\n[공연/전시]\\n오디오 가이드 및 오페라 글라스 무료 이용 서비스- 제공대상  * 오디오 가이드 : 예술의 전당, 서울시립미술관(서소문본관/북서울미술관/남서울생활미술관), 세종문화회관, 국립현대미술관(서울관)  * 오페라 글라스 : LG아트센터, 세종문화회관- 제공처 통합 월 1회, 연 4회 제공됩니다.- 서비스 이용 전월 The CLASSIC-Y카드로 일시불+할부 이용금액이 30만원 이상 시 제공됩니다.- 신규로 카드를 발급 받으신 경우 전월 실적이 존재하지 않음에 따라 해당 발급월에는 서비스가 적용되지 않습니다.유의사항- The CLASSIC-Y카드를 제시 후 무료 제공 요청 시 이용 가능여부 확인 후 제공됩니다.- 오페라 글라스 서비스 이용 시, 원활한 서비스 이용을 위해 공연 30분 전까지 해당 서비스를 요청하시기 바랍니다.- 일부 공연 및 전시회에 따라 서비스 제공이 제한될 수 있으며, 재고 소진 시 서비스 이용이 불가할 수 있습니다.- 전월 이용 실적 및 이용횟수는 본인, 가족카드 합산 기준입니다.- 전월 이용 실적은 전월 1일부터 말일까지의 거래시점 실적으로 반영되며, 교통카드 이용 실적은 전월 사용실적으로 해외 이용 실적은 당사에 접수된 일자 기준 실적으로 반영됩니다.- 전월 이용 실적에서 단기카드대출(현금서비스)/장기카드대출(카드론)/각종 수수료/이자/거래 취소금액 등은 제외됩니다.Powered by Froala Editor\\n\\n[프리미엄]\\n국제브랜드사 서비스 공통사항 안내- 국제브랜드사 서비스에 대하여 보다 상세한 안내를 원하시는 고객님께서는 국제브랜드사별 홈페이지를 참조해 주시기 바랍니다.  * 비자 홈페이지 : www.visakorea.com  * 마스터카드 홈페이지 : www.mastercard.co.kr  * 아멕스 홈페이지 : www.americanexpress.co.kr  * JCB(URS) 홈페이지 : www.jcbcard.kr  * UPI 홈페이지 : www.unionpayintl.com/kr- 브랜드사 선택서비스는 각 브랜드사별 홈페이지 안내사항과 제공 내용이 상이할 수 있어, 신한카드에서 제공되는 서비스가이드북 안내(제공처, 제공횟수 및 전월실적 조건 등)를 확인하시기 바랍니다.  * 브랜드사 홈페이지에 안내된 제공처라 하더라도 신한카드에서 안내된 제공처가 아닌 경우 서비스가 제공되지 않습니다.- 브랜드사별 홈페이지 서비스 안내사항 중 대상 등급 서비스가 아닌 경우 서비스 제공이 제한될 수 있습니다.\\n\\n[유의사항]\\n- 계약 체결 전 상품에 관한 사항은 상품설명서 및 약관을 읽어보시기 바랍니다.※ 카드이용시 제공되는 포인트 및 할인혜택 등의 부가서비스는 카드 신규출시(2014.10.31) 이후 3년 이상 축소, 폐지 없이 유지됩니다.※ 상기에도 불구하고, 다음과 같은 사유가 발생한 경우 카드사는 부가서비스를 변경할 수 있습니다.     ① 카드사의 휴업·파산·경영상의 위기 등에 따른 불가피한 경우     ② 제휴업체의 휴업•파산•경영상의 위기로 인해 불가피하게 부가서비스를 축소•변경하는 경우로서 다른 제휴업체를 통해 동종의 유사한 부가서비스 제공이 불가한 경우     ③ 제휴업체가 카드사의 의사에 반하여 해당 부가서비스를 축소하거나 변경 시, 당초 부가서비스에 상응하는 다른 부가서비스를 제공하는 경우     ④ 부가서비스를 3년 이상 제공한 상태에서 해당 부가서비스로 인해 카드의 수익성이 현저히 낮아진 경우※ 카드사가 부가서비스를 변경하는 경우에는 부가서비스 변경 사유, 변경 내용 등을 사유발생 즉시 아래 고지방법 중 2가지 이상의 방법으로 고지해 드립니다. 특히 부가서비스를 3년 이상 제공한 상태에서 해당 부가서비스로 인해 카드의 수익성이 현저히 낮아져 부가서비스를 변경하는 경우에는 6개월 전부터 아래 고지방법 중2가지 이상의 방법으로 매월 고지해 드립니다.- 고지 방법 : 서면 교부, 우편 또는 전자우편, 전화 또는 팩스, 휴대폰 메시지 또는 이에 준하는 전자적 의사표시\\n'"
      ]
     },
     "execution_count": 119,
     "metadata": {},
     "output_type": "execute_result"
    }
   ],
   "source": [
    "documents[0].page_content"
   ]
  },
  {
   "cell_type": "code",
   "execution_count": 121,
   "id": "e1b0223d",
   "metadata": {},
   "outputs": [],
   "source": [
    "from langchain.docstore.document import Document\n",
    "from langchain.text_splitter import RecursiveCharacterTextSplitter\n",
    "\n",
    "documents = []\n",
    "\n",
    "for card in card_infos:\n",
    "    benefit_texts = []\n",
    "\n",
    "    for section, content in card[\"주요혜택\"].items():\n",
    "        # 딱 key가 \"유의사항\"인 것만 제외\n",
    "        if section.strip() != \"유의사항\":\n",
    "            benefit_texts.append(f\"[{section}] {content}\")\n",
    "\n",
    "    final_text = \"\\n\\n\".join(benefit_texts)\n",
    "\n",
    "    doc = Document(\n",
    "        page_content=final_text,\n",
    "        metadata={\n",
    "            \"카드이름\": card[\"카드이름\"],\n",
    "            \"카드사\": card[\"카드사\"],\n",
    "            \"카드브랜드\": card[\"카드브랜드\"],\n",
    "            \"국내연회비\": card[\"국내연회비\"],\n",
    "            \"해외연회비\": card[\"해외연회비\"],\n",
    "            \"원본_전체_혜택\": json.dumps(card[\"주요혜택\"], ensure_ascii=False)  # 최종 출력용\n",
    "        }\n",
    "    )\n",
    "\n",
    "    documents.append(doc)"
   ]
  },
  {
   "cell_type": "code",
   "execution_count": 113,
   "id": "301484ba",
   "metadata": {},
   "outputs": [
    {
     "name": "stdout",
     "output_type": "stream",
     "text": [
      "page_content='[선택형] Gift Option 서비스는 매년 1회 아래 품목 중 한 가지를 선택하여 이용하실 수 있습니다.- 포인트 : 마이신한포인트 적립(7만점) / 1년1회- 문화 : 문화상품권(8만원) / 1년1회- 요식 : 패밀리 레스토랑 11만원 이용권 / 1년1회- 호텔 : 호텔 애프터눈 티 SET 이용권 / 1년2회Gift Option 서비스 이용방법- 연회비 청구 기준으로 1년간 Gift Option 중 택 1하여 지정된 서비스에 한해 신청 가능하며, 신청기간 경과 이후 미사용 건에 대해서는 소급 신청이 불가합니다.- Gift Option 서비스는 The CLASSIC-Y 카드 발급 초년도의 경우 연회비 납부 및 카드 일시불+할부 이용금액 20만원 이상이용 시 신청 가능하며,  2차년도부터는 연회비 납부 및 전년도 카드 일시불+할부 이용금액 300만원 이상 이용 시 신청 가능합니다.- 서비스 신청 시 본인이 수령을 원하는 자택 또는 청구지 주소로 이용권 또는 신청 물품을 수령하시고 사용하시면 됩니다. (Option 수령 기간 : 약 10일)- Gift Option 서비스는 액면에 기재되어 있는 기간에 한하여 사용이 가능합니다.- Gift Option 서비스 취소 및 변경은 신청 당일에 한하여 가능합니다.- Gift Option 서비스는 가족카드 회원에게는 제공되지 않습니다.Option 1. 마이신한포인트 적립(7만점)- 사용방법(자세한 내용은 신한카드 홈페이지 : www.shinhancard.com에서 확인 가능합니다.)  * 1) 1Point 이상 : 마이신한포인트 가맹점, MY신한몰, 연회비 결제, 포인트 기부, 지방세 납부, 기프트카드 구매  * 2) 200Point 이상 : SMS 수수료 결제  * 3) 10,000Point 이상 : 포인트 캐시백- 적립기간 : 적립일 기준으로 5년- 사용제한 : 카드 해지 등의 사유로 거래정지가 된 경우- 유효기간 및 소멸 : 적립된 마이신한포인트의 유효기간은 적립일로부터 60개월이며, 유효기간이 경과된 마이신한포인트는 월 단위로 자동 소멸됩니다.- 카드정지, 해지 시 유효기간 내 포인트는 소멸되지 않습니다.- 마이신한포인트는 신청 즉시 적립되며, 사용 이후에는 취소가 불가능 합니다.- 사용가능 포인트는 가맹점 제휴사정에 따라 특정 금액 이상 포인트 사용 조건이 적용될 수 있습니다.Option 2. 문화상품권(8만원)- 문의 및 신청 : 신한카드 고객센터 1544-7000 / 평일 09:00 ~ 18:00- 사용매장 : 문화상품권 사용처  * 전국 서점, 극장 등에서 사용 가능하며 자세한 사용처 및 사용방법 안내는 컬쳐랜드(www.cultureland.co.kr)를 참조하여 주시기 바랍니다.- 이용가능기간 : 발행일로부터 5년- 본 상품권은 우편으로만 발송됩니다.(모바일 발송 불가)- 본 상품권은 도난, 분실, 유효기간 경과 시 재발행 및 사용이 불가합니다.- 사용할 상품권 금액이 1만원 이하는 80% 이상과 1만원 초과 시 60% 이상을 사용해야 잔액 환불 가능합니다.(단, 온라인 사용에 대한 잔액 환불은 컬쳐랜드/컬쳐캐쉬 약관을 준수합니다.)Option 3. 패밀리 레스토랑 11만원 이용권- 사용매장 : 전국 제휴 패밀리 레스토랑  * 제휴 매장 현황은 http://www.familyvoucher.com에서 확인 가능하며, 업체의 사정에 의해 변경되거나 중단될 수 있습니다.- 이용가능기간 : 발행일로부터 1년- 본 이용권은 별도의 교환절차 없이 전국 제휴 패밀리 레스토랑에서 즉시 사용 가능합니다.- 본 이용권은 우편으로만 수령이 가능하며, 1만원권 11장으로 지급되어 1회 최대 10만원까지 복수의 매장에서 여러 번 나누어 사용하실 수 있습니다.- 현금교환 및 잔액환불은 불가합니다.- 지류 이용권은 도난/분실 및 유효기간 경과 시 재발행 및 사용 불가합니다.- 본 이용권 사용 시 추가금액은 The CLASSIC-Y카드로 결제하셔야 하며, 타 쿠폰 사용 및 중복 할인 불가합니다.Option 4. 호텔 애프터눈 티 SET 이용권- 대상호텔 : 롯데호텔(소공/월드/부산), 인터컨티넨탈 서울 코엑스, 파라다이스 부산- 유의사항  * 1) 호텔 통합 연 2회 제공됩니다.  * 2) 호텔 애프터눈 티 이용 시 원하시는 호텔로 사전예약 후 이용하시기 바랍니다.(사전예약 필수)  * 3) 호텔에서 애프터눈 티 이용권과 회원님의 The CLASSIC-Y카드로 정상 인증이 완료되어야 서비스가 제공됩니다.  * 4) 호텔에서 애프터눈 티 이용권을 제외한 추가 서비스 이용 시 The CLASSIC-Y카드로 현장 결제하셔야 합니다.  * 5) 호텔 애프터눈 티 이용권 1회 이용 후 기타 다른 Gift 옵션으로 변경은 불가합니다.  * 6) 호텔 애프터눈 티 메뉴 구성 및 이용기준은 호텔규정에 따라 상이하게 운영되므로, 제공되는 음료 및 디저트 메뉴는 사전예약 시 확인하여 주시기 바랍니다.  * 롯데호텔(소공) : 1층 로비라운지 / 02-317-7131  * 롯데호텔(월드) : 1층 로비라운지 / 02-411-7751   * 롯데호텔(부산) : 1층 로비라운지 / 051-810-6430  * 인터컨티넨탈 서울 코엑스 : 1층 로비라운지 / 02-3430-8603  * 파라다이스부산 : 1층 로비라운지 / 051-749-2230\n",
      "\n",
      "[모든가맹점] [마이신한포인트 적립]기본적립- 전 가맹점 일시불/할부 이용금액의 0.7% 마이신한포인트 적립특별적립- 해외, 명품아울렛(신세계/롯데), 면세점, 골프 업종 이용 시 기본적립 포함 총 5% 마이신한포인트 적립  * 예시)면세점에서 5만원 이용 시 2,500P적립 : 350P(기본적립0.7%) + 2,150P(특별적립4.3%)유의사항- 특별적립은 이용금액 기준 월 최대 5만 포인트까지 제공됩니다.(본인+가족 합산)- 명품 아울렛 : 롯데(파주, 김해, 이천), 신세계(여주, 파주, 부산)- 롯데/신세계 일반 아울렛 및 온라인 면세점은 특별 적립이 제공되지 않습니다.(기본 적립만 제공)- 업종 구분은 해당 가맹점의 신한카드 등록 내용에 따르며, 일부 실제와 상이할 수 있습니다.- 포인트는 신용카드 이용대금 결제일(결제일이 은행 휴무일인 경우 익영업일)에 적립됩니다.- 적립된 마이신한포인트의 유효기간은 적립일로부터 60개월이며, 유효기간이 경과된 마이신한포인트는 월 단위로 자동 소멸됩니다. 카드정지, 해지 시 유효기간 내 포인트는 소멸되지 않습니다.마이신한포인트 적립 제외 대상- 무이자 할부 이용금액, 할인 적용된 이용금액, 단기카드대출(현금서비스), 연회비, 장기카드대출(카드론), 포인트 사용액, 선불카드 충전금액, Gift카드 구매금액, 상품권 구매금액, 할부수수료, 연체이자 등 각종 수수료 및 이자 공과금 및 지방세, 수도요금 등\n",
      "\n",
      "[주유소] GS칼텍스 주유 시 리터당 60원 결제일 할인- 할인 적용 전 이용 금액 월 30만원까지 할인 적용됩니다.- 서비스 이용전월 The CLASSIC-Y 카드로 일시불+할부 이용금액이 30만원 이상 시 제공되며, 신규 발급 회원의 경우 카드 사용 등록 월의 다음 달 말일까지(등록 월+1개월)이용실적에 관계없이 제공됩니다.유의사항- 전월 이용실적 및 할인한도는 본인, 가족카드 각각 산정됩니다.- 휘발유, 경유, 등유에 한하며 LPG는 제외됩니다. (할인금액은 정유사가 통보한 휘발유 표준 고시유가 기준 적용)- 전월 이용 실적은 전월 1일부터 말일까지의 거래시점 실적으로 반영되며, 교통카드 이용 실적은 전전월 사용실적으로, 해외 이용 실적은 당사에 접수된 일자 기준 실적으로 반영됩니다.- 전월 이용 실적에서 단기카드대출(현금서비스)/장기카드대출(카드론)/각종 수수료/이자/거래 취소금액 등은 제외됩니다.Powered by Froala Editor\n",
      "\n",
      "[생활] The CLASSIC-Y 카드로 지정 가맹점 이용 시 5% 할인 혜택 제공- 할인액 기준 제공처 통합 월 2만원까지 제공됩니다.- 서비스 이용 전월 The CLASSIC-Y 카드로 일시불+할부 이용금액이 30만원 이상 시 제공되며, 신규 발급 회원의 경우 카드사용 등록 월의 다음 달 말일까지(등록 월+1개월) 이용실적에 관계없이 제공됩니다.지정 가맹점- 커피 : 스타벅스, 커피빈- 제과 : 파리바게뜨, 던킨도너츠, 뚜레쥬르- 택시 : 택시업종- 화장품 : 올리브영, 아리따움- 영화 : CGV, 롯데시네마유의사항- 전월 이용 실적 및 할인한도는 본인, 가족카드 합산으로 제공됩니다.- 백화점, 대형할인점 입점 매장 및 상품권 구매 시에는 서비스 제공이 제한될 수 있습니다.- 업종 구분은 해당 가맹점의 신한카드 등록 내용에 따르며, 일부 실제와 상이할 수 있습니다.- 전월 이용 실적은 전월 1일부터 말일까지의 거래시점 실적으로 반영되며, 교통카드 이용 실적은 전전월 사용실적으로, 해외 이용 실적은 당사에 접수된 일자 기준 실적으로 반영됩니다.- 전월 이용 실적에서 단기카드대출(현금서비스)/장기카드대출(카드론)/각종 수수료/이자/거래 취소금액 등은 제외됩니다.Powered by Froala Editor\n",
      "\n",
      "[면세점] 제주 JDC 면세점 8% 결제일 할인- 서비스 이용 전월 (1일~말일) The CLASSIC-Y 카드 일시불+할부 이용금액에 따라 할인한도가 적용됩니다.- 서비스 이용 전월 The CLASSIC-Y 카드로 일시불+할부 이용금액이 30만원 이상 시 제공되며, 신규 발급 회원의 경우 카드 사용 등록 월의 다음 달 말일까지(등록 월 + 1개월) 이용실적에 관계없이 월 8천원까지 할인이 제공됩니다.  * 전월 이용액 30만원이상~60만원미만 : 월 할인한도 8천원  * 전월 이용액 60만원 이상 : 월 할인한도 3만2천원유의사항- 전월 이용실적은 전월 1일부터 말일까지의 거래시점 실적으로 반영되며, 교통카드 이용실적은 전전월 사용실적으로, 해외 이용실적은 당사에 접수된 일자 기준 실적으로 반영됩니다.- 전월 이용실적에서 단기카드대출(현금서비스)/장기카드대출(카드론)/각종 수수료/이자/거래 취소금액은 제외됩니다.Powered by Froala Editor\n",
      "\n",
      "[진에어] 진에어 국제선 항공권 결제일 할인- The CLASSIC-Y VISA PLATINUM(Young Premium) 카드 신청 시 서비스가 제공됩니다.  * The CLASSIC-Y MASTER PLATINUM, UPI PLATINUM 카드에는 서비스가 제공되지 않습니다.- 진에어 국제선 항공권을 온라인에서 구매 시 15% 결제일 할인 혜택이 제공됩니다.  * 국내선 항공권 구매 시 해당 할인이 적용되지 않습니다.- 진에어 홈페이지 및 모바일(www.jinair.com)에서 예약/결제 시에만 할인 적용됩니다.- 할인 적용 전 이용 금액 월 40만원까지 할인 적용됩니다. (할인액 기준 월 최대 6만원까지 할인 제공)- 서비스 이용 전월 The CLASSIC-Y카드로 일시불+할부 이용 금액이 30만원 이상 시 제공되며, 신규 발급 회원의 경우 카드 사용 등록월의 익월 말일까지(등록월+1개월) 이용실적에 관계없이 제공됩니다.유의사항- 전월 이용실적 및 할인한도는 본인, 가족카드 합산으로 제공됩니다.- 전월 이용실적은 전월 1일부터 말일까지의 거래시점 실적으로 반영되며, 교통카드 이용실적은 전전월 사용실적으로, 해외 이용실적은 당사에 접수된 일자 기준 실적으로 반영됩니다.- 전월 이용실적에서 단기카드대출(현금서비스)/장기카드대출(카드론)/각종 수수료/이자/거래 취소금액 등은 제외됩니다.Powered by Froala Editor\n",
      "\n",
      "[공연/전시] 오디오 가이드 및 오페라 글라스 무료 이용 서비스- 제공대상  * 오디오 가이드 : 예술의 전당, 서울시립미술관(서소문본관/북서울미술관/남서울생활미술관), 세종문화회관, 국립현대미술관(서울관)  * 오페라 글라스 : LG아트센터, 세종문화회관- 제공처 통합 월 1회, 연 4회 제공됩니다.- 서비스 이용 전월 The CLASSIC-Y카드로 일시불+할부 이용금액이 30만원 이상 시 제공됩니다.- 신규로 카드를 발급 받으신 경우 전월 실적이 존재하지 않음에 따라 해당 발급월에는 서비스가 적용되지 않습니다.유의사항- The CLASSIC-Y카드를 제시 후 무료 제공 요청 시 이용 가능여부 확인 후 제공됩니다.- 오페라 글라스 서비스 이용 시, 원활한 서비스 이용을 위해 공연 30분 전까지 해당 서비스를 요청하시기 바랍니다.- 일부 공연 및 전시회에 따라 서비스 제공이 제한될 수 있으며, 재고 소진 시 서비스 이용이 불가할 수 있습니다.- 전월 이용 실적 및 이용횟수는 본인, 가족카드 합산 기준입니다.- 전월 이용 실적은 전월 1일부터 말일까지의 거래시점 실적으로 반영되며, 교통카드 이용 실적은 전월 사용실적으로 해외 이용 실적은 당사에 접수된 일자 기준 실적으로 반영됩니다.- 전월 이용 실적에서 단기카드대출(현금서비스)/장기카드대출(카드론)/각종 수수료/이자/거래 취소금액 등은 제외됩니다.Powered by Froala Editor\n",
      "\n",
      "[프리미엄] 국제브랜드사 서비스 공통사항 안내- 국제브랜드사 서비스에 대하여 보다 상세한 안내를 원하시는 고객님께서는 국제브랜드사별 홈페이지를 참조해 주시기 바랍니다.  * 비자 홈페이지 : www.visakorea.com  * 마스터카드 홈페이지 : www.mastercard.co.kr  * 아멕스 홈페이지 : www.americanexpress.co.kr  * JCB(URS) 홈페이지 : www.jcbcard.kr  * UPI 홈페이지 : www.unionpayintl.com/kr- 브랜드사 선택서비스는 각 브랜드사별 홈페이지 안내사항과 제공 내용이 상이할 수 있어, 신한카드에서 제공되는 서비스가이드북 안내(제공처, 제공횟수 및 전월실적 조건 등)를 확인하시기 바랍니다.  * 브랜드사 홈페이지에 안내된 제공처라 하더라도 신한카드에서 안내된 제공처가 아닌 경우 서비스가 제공되지 않습니다.- 브랜드사별 홈페이지 서비스 안내사항 중 대상 등급 서비스가 아닌 경우 서비스 제공이 제한될 수 있습니다.' metadata={'카드이름': '신한카드 The CLASSIC-Y', '카드사': '신한카드', '카드브랜드': 'VISA', '국내연회비': 0, '해외연회비': 100000, '원본_전체_혜택': '{\"선택형\": \"Gift Option 서비스는 매년 1회 아래 품목 중 한 가지를 선택하여 이용하실 수 있습니다.- 포인트 : 마이신한포인트 적립(7만점) / 1년1회- 문화 : 문화상품권(8만원) / 1년1회- 요식 : 패밀리 레스토랑 11만원 이용권 / 1년1회- 호텔 : 호텔 애프터눈 티 SET 이용권 / 1년2회Gift Option 서비스 이용방법- 연회비 청구 기준으로 1년간 Gift Option 중 택 1하여 지정된 서비스에 한해 신청 가능하며, 신청기간 경과 이후 미사용 건에 대해서는 소급 신청이 불가합니다.- Gift Option 서비스는 The CLASSIC-Y 카드 발급 초년도의 경우 연회비 납부 및 카드 일시불+할부 이용금액 20만원 이상이용 시 신청 가능하며,  2차년도부터는 연회비 납부 및 전년도 카드 일시불+할부 이용금액 300만원 이상 이용 시 신청 가능합니다.- 서비스 신청 시 본인이 수령을 원하는 자택 또는 청구지 주소로 이용권 또는 신청 물품을 수령하시고 사용하시면 됩니다. (Option 수령 기간 : 약 10일)- Gift Option 서비스는 액면에 기재되어 있는 기간에 한하여 사용이 가능합니다.- Gift Option 서비스 취소 및 변경은 신청 당일에 한하여 가능합니다.- Gift Option 서비스는 가족카드 회원에게는 제공되지 않습니다.Option 1. 마이신한포인트 적립(7만점)- 사용방법(자세한 내용은 신한카드 홈페이지 : www.shinhancard.com에서 확인 가능합니다.)  * 1) 1Point 이상 : 마이신한포인트 가맹점, MY신한몰, 연회비 결제, 포인트 기부, 지방세 납부, 기프트카드 구매  * 2) 200Point 이상 : SMS 수수료 결제  * 3) 10,000Point 이상 : 포인트 캐시백- 적립기간 : 적립일 기준으로 5년- 사용제한 : 카드 해지 등의 사유로 거래정지가 된 경우- 유효기간 및 소멸 : 적립된 마이신한포인트의 유효기간은 적립일로부터 60개월이며, 유효기간이 경과된 마이신한포인트는 월 단위로 자동 소멸됩니다.- 카드정지, 해지 시 유효기간 내 포인트는 소멸되지 않습니다.- 마이신한포인트는 신청 즉시 적립되며, 사용 이후에는 취소가 불가능 합니다.- 사용가능 포인트는 가맹점 제휴사정에 따라 특정 금액 이상 포인트 사용 조건이 적용될 수 있습니다.Option 2. 문화상품권(8만원)- 문의 및 신청 : 신한카드 고객센터 1544-7000 / 평일 09:00 ~ 18:00- 사용매장 : 문화상품권 사용처  * 전국 서점, 극장 등에서 사용 가능하며 자세한 사용처 및 사용방법 안내는 컬쳐랜드(www.cultureland.co.kr)를 참조하여 주시기 바랍니다.- 이용가능기간 : 발행일로부터 5년- 본 상품권은 우편으로만 발송됩니다.(모바일 발송 불가)- 본 상품권은 도난, 분실, 유효기간 경과 시 재발행 및 사용이 불가합니다.- 사용할 상품권 금액이 1만원 이하는 80% 이상과 1만원 초과 시 60% 이상을 사용해야 잔액 환불 가능합니다.(단, 온라인 사용에 대한 잔액 환불은 컬쳐랜드/컬쳐캐쉬 약관을 준수합니다.)Option 3. 패밀리 레스토랑 11만원 이용권- 사용매장 : 전국 제휴 패밀리 레스토랑  * 제휴 매장 현황은 http://www.familyvoucher.com에서 확인 가능하며, 업체의 사정에 의해 변경되거나 중단될 수 있습니다.- 이용가능기간 : 발행일로부터 1년- 본 이용권은 별도의 교환절차 없이 전국 제휴 패밀리 레스토랑에서 즉시 사용 가능합니다.- 본 이용권은 우편으로만 수령이 가능하며, 1만원권 11장으로 지급되어 1회 최대 10만원까지 복수의 매장에서 여러 번 나누어 사용하실 수 있습니다.- 현금교환 및 잔액환불은 불가합니다.- 지류 이용권은 도난/분실 및 유효기간 경과 시 재발행 및 사용 불가합니다.- 본 이용권 사용 시 추가금액은 The CLASSIC-Y카드로 결제하셔야 하며, 타 쿠폰 사용 및 중복 할인 불가합니다.Option 4. 호텔 애프터눈 티 SET 이용권- 대상호텔 : 롯데호텔(소공/월드/부산), 인터컨티넨탈 서울 코엑스, 파라다이스 부산- 유의사항  * 1) 호텔 통합 연 2회 제공됩니다.  * 2) 호텔 애프터눈 티 이용 시 원하시는 호텔로 사전예약 후 이용하시기 바랍니다.(사전예약 필수)  * 3) 호텔에서 애프터눈 티 이용권과 회원님의 The CLASSIC-Y카드로 정상 인증이 완료되어야 서비스가 제공됩니다.  * 4) 호텔에서 애프터눈 티 이용권을 제외한 추가 서비스 이용 시 The CLASSIC-Y카드로 현장 결제하셔야 합니다.  * 5) 호텔 애프터눈 티 이용권 1회 이용 후 기타 다른 Gift 옵션으로 변경은 불가합니다.  * 6) 호텔 애프터눈 티 메뉴 구성 및 이용기준은 호텔규정에 따라 상이하게 운영되므로, 제공되는 음료 및 디저트 메뉴는 사전예약 시 확인하여 주시기 바랍니다.  * 롯데호텔(소공) : 1층 로비라운지 / 02-317-7131  * 롯데호텔(월드) : 1층 로비라운지 / 02-411-7751   * 롯데호텔(부산) : 1층 로비라운지 / 051-810-6430  * 인터컨티넨탈 서울 코엑스 : 1층 로비라운지 / 02-3430-8603  * 파라다이스부산 : 1층 로비라운지 / 051-749-2230\", \"모든가맹점\": \"[마이신한포인트 적립]기본적립- 전 가맹점 일시불/할부 이용금액의 0.7% 마이신한포인트 적립특별적립- 해외, 명품아울렛(신세계/롯데), 면세점, 골프 업종 이용 시 기본적립 포함 총 5% 마이신한포인트 적립  * 예시)면세점에서 5만원 이용 시 2,500P적립 : 350P(기본적립0.7%) + 2,150P(특별적립4.3%)유의사항- 특별적립은 이용금액 기준 월 최대 5만 포인트까지 제공됩니다.(본인+가족 합산)- 명품 아울렛 : 롯데(파주, 김해, 이천), 신세계(여주, 파주, 부산)- 롯데/신세계 일반 아울렛 및 온라인 면세점은 특별 적립이 제공되지 않습니다.(기본 적립만 제공)- 업종 구분은 해당 가맹점의 신한카드 등록 내용에 따르며, 일부 실제와 상이할 수 있습니다.- 포인트는 신용카드 이용대금 결제일(결제일이 은행 휴무일인 경우 익영업일)에 적립됩니다.- 적립된 마이신한포인트의 유효기간은 적립일로부터 60개월이며, 유효기간이 경과된 마이신한포인트는 월 단위로 자동 소멸됩니다. 카드정지, 해지 시 유효기간 내 포인트는 소멸되지 않습니다.마이신한포인트 적립 제외 대상- 무이자 할부 이용금액, 할인 적용된 이용금액, 단기카드대출(현금서비스), 연회비, 장기카드대출(카드론), 포인트 사용액, 선불카드 충전금액, Gift카드 구매금액, 상품권 구매금액, 할부수수료, 연체이자 등 각종 수수료 및 이자 공과금 및 지방세, 수도요금 등\", \"주유소\": \"GS칼텍스 주유 시 리터당 60원 결제일 할인- 할인 적용 전 이용 금액 월 30만원까지 할인 적용됩니다.- 서비스 이용전월 The CLASSIC-Y 카드로 일시불+할부 이용금액이 30만원 이상 시 제공되며, 신규 발급 회원의 경우 카드 사용 등록 월의 다음 달 말일까지(등록 월+1개월)이용실적에 관계없이 제공됩니다.유의사항- 전월 이용실적 및 할인한도는 본인, 가족카드 각각 산정됩니다.- 휘발유, 경유, 등유에 한하며 LPG는 제외됩니다. (할인금액은 정유사가 통보한 휘발유 표준 고시유가 기준 적용)- 전월 이용 실적은 전월 1일부터 말일까지의 거래시점 실적으로 반영되며, 교통카드 이용 실적은 전전월 사용실적으로, 해외 이용 실적은 당사에 접수된 일자 기준 실적으로 반영됩니다.- 전월 이용 실적에서 단기카드대출(현금서비스)/장기카드대출(카드론)/각종 수수료/이자/거래 취소금액 등은 제외됩니다.Powered by Froala Editor\", \"생활\": \"The CLASSIC-Y 카드로 지정 가맹점 이용 시 5% 할인 혜택 제공- 할인액 기준 제공처 통합 월 2만원까지 제공됩니다.- 서비스 이용 전월 The CLASSIC-Y 카드로 일시불+할부 이용금액이 30만원 이상 시 제공되며, 신규 발급 회원의 경우 카드사용 등록 월의 다음 달 말일까지(등록 월+1개월) 이용실적에 관계없이 제공됩니다.지정 가맹점- 커피 : 스타벅스, 커피빈- 제과 : 파리바게뜨, 던킨도너츠, 뚜레쥬르- 택시 : 택시업종- 화장품 : 올리브영, 아리따움- 영화 : CGV, 롯데시네마유의사항- 전월 이용 실적 및 할인한도는 본인, 가족카드 합산으로 제공됩니다.- 백화점, 대형할인점 입점 매장 및 상품권 구매 시에는 서비스 제공이 제한될 수 있습니다.- 업종 구분은 해당 가맹점의 신한카드 등록 내용에 따르며, 일부 실제와 상이할 수 있습니다.- 전월 이용 실적은 전월 1일부터 말일까지의 거래시점 실적으로 반영되며, 교통카드 이용 실적은 전전월 사용실적으로, 해외 이용 실적은 당사에 접수된 일자 기준 실적으로 반영됩니다.- 전월 이용 실적에서 단기카드대출(현금서비스)/장기카드대출(카드론)/각종 수수료/이자/거래 취소금액 등은 제외됩니다.Powered by Froala Editor\", \"면세점\": \"제주 JDC 면세점 8% 결제일 할인- 서비스 이용 전월 (1일~말일) The CLASSIC-Y 카드 일시불+할부 이용금액에 따라 할인한도가 적용됩니다.- 서비스 이용 전월 The CLASSIC-Y 카드로 일시불+할부 이용금액이 30만원 이상 시 제공되며, 신규 발급 회원의 경우 카드 사용 등록 월의 다음 달 말일까지(등록 월 + 1개월) 이용실적에 관계없이 월 8천원까지 할인이 제공됩니다.  * 전월 이용액 30만원이상~60만원미만 : 월 할인한도 8천원  * 전월 이용액 60만원 이상 : 월 할인한도 3만2천원유의사항- 전월 이용실적은 전월 1일부터 말일까지의 거래시점 실적으로 반영되며, 교통카드 이용실적은 전전월 사용실적으로, 해외 이용실적은 당사에 접수된 일자 기준 실적으로 반영됩니다.- 전월 이용실적에서 단기카드대출(현금서비스)/장기카드대출(카드론)/각종 수수료/이자/거래 취소금액은 제외됩니다.Powered by Froala Editor\", \"진에어\": \"진에어 국제선 항공권 결제일 할인- The CLASSIC-Y VISA PLATINUM(Young Premium) 카드 신청 시 서비스가 제공됩니다.  * The CLASSIC-Y MASTER PLATINUM, UPI PLATINUM 카드에는 서비스가 제공되지 않습니다.- 진에어 국제선 항공권을 온라인에서 구매 시 15% 결제일 할인 혜택이 제공됩니다.  * 국내선 항공권 구매 시 해당 할인이 적용되지 않습니다.- 진에어 홈페이지 및 모바일(www.jinair.com)에서 예약/결제 시에만 할인 적용됩니다.- 할인 적용 전 이용 금액 월 40만원까지 할인 적용됩니다. (할인액 기준 월 최대 6만원까지 할인 제공)- 서비스 이용 전월 The CLASSIC-Y카드로 일시불+할부 이용 금액이 30만원 이상 시 제공되며, 신규 발급 회원의 경우 카드 사용 등록월의 익월 말일까지(등록월+1개월) 이용실적에 관계없이 제공됩니다.유의사항- 전월 이용실적 및 할인한도는 본인, 가족카드 합산으로 제공됩니다.- 전월 이용실적은 전월 1일부터 말일까지의 거래시점 실적으로 반영되며, 교통카드 이용실적은 전전월 사용실적으로, 해외 이용실적은 당사에 접수된 일자 기준 실적으로 반영됩니다.- 전월 이용실적에서 단기카드대출(현금서비스)/장기카드대출(카드론)/각종 수수료/이자/거래 취소금액 등은 제외됩니다.Powered by Froala Editor\", \"공연/전시\": \"오디오 가이드 및 오페라 글라스 무료 이용 서비스- 제공대상  * 오디오 가이드 : 예술의 전당, 서울시립미술관(서소문본관/북서울미술관/남서울생활미술관), 세종문화회관, 국립현대미술관(서울관)  * 오페라 글라스 : LG아트센터, 세종문화회관- 제공처 통합 월 1회, 연 4회 제공됩니다.- 서비스 이용 전월 The CLASSIC-Y카드로 일시불+할부 이용금액이 30만원 이상 시 제공됩니다.- 신규로 카드를 발급 받으신 경우 전월 실적이 존재하지 않음에 따라 해당 발급월에는 서비스가 적용되지 않습니다.유의사항- The CLASSIC-Y카드를 제시 후 무료 제공 요청 시 이용 가능여부 확인 후 제공됩니다.- 오페라 글라스 서비스 이용 시, 원활한 서비스 이용을 위해 공연 30분 전까지 해당 서비스를 요청하시기 바랍니다.- 일부 공연 및 전시회에 따라 서비스 제공이 제한될 수 있으며, 재고 소진 시 서비스 이용이 불가할 수 있습니다.- 전월 이용 실적 및 이용횟수는 본인, 가족카드 합산 기준입니다.- 전월 이용 실적은 전월 1일부터 말일까지의 거래시점 실적으로 반영되며, 교통카드 이용 실적은 전월 사용실적으로 해외 이용 실적은 당사에 접수된 일자 기준 실적으로 반영됩니다.- 전월 이용 실적에서 단기카드대출(현금서비스)/장기카드대출(카드론)/각종 수수료/이자/거래 취소금액 등은 제외됩니다.Powered by Froala Editor\", \"프리미엄\": \"국제브랜드사 서비스 공통사항 안내- 국제브랜드사 서비스에 대하여 보다 상세한 안내를 원하시는 고객님께서는 국제브랜드사별 홈페이지를 참조해 주시기 바랍니다.  * 비자 홈페이지 : www.visakorea.com  * 마스터카드 홈페이지 : www.mastercard.co.kr  * 아멕스 홈페이지 : www.americanexpress.co.kr  * JCB(URS) 홈페이지 : www.jcbcard.kr  * UPI 홈페이지 : www.unionpayintl.com/kr- 브랜드사 선택서비스는 각 브랜드사별 홈페이지 안내사항과 제공 내용이 상이할 수 있어, 신한카드에서 제공되는 서비스가이드북 안내(제공처, 제공횟수 및 전월실적 조건 등)를 확인하시기 바랍니다.  * 브랜드사 홈페이지에 안내된 제공처라 하더라도 신한카드에서 안내된 제공처가 아닌 경우 서비스가 제공되지 않습니다.- 브랜드사별 홈페이지 서비스 안내사항 중 대상 등급 서비스가 아닌 경우 서비스 제공이 제한될 수 있습니다.\", \"유의사항\": \"- 계약 체결 전 상품에 관한 사항은 상품설명서 및 약관을 읽어보시기 바랍니다.※ 카드이용시 제공되는 포인트 및 할인혜택 등의 부가서비스는 카드 신규출시(2014.10.31) 이후 3년 이상 축소, 폐지 없이 유지됩니다.※ 상기에도 불구하고, 다음과 같은 사유가 발생한 경우 카드사는 부가서비스를 변경할 수 있습니다.     ① 카드사의 휴업·파산·경영상의 위기 등에 따른 불가피한 경우     ② 제휴업체의 휴업•파산•경영상의 위기로 인해 불가피하게 부가서비스를 축소•변경하는 경우로서 다른 제휴업체를 통해 동종의 유사한 부가서비스 제공이 불가한 경우     ③ 제휴업체가 카드사의 의사에 반하여 해당 부가서비스를 축소하거나 변경 시, 당초 부가서비스에 상응하는 다른 부가서비스를 제공하는 경우     ④ 부가서비스를 3년 이상 제공한 상태에서 해당 부가서비스로 인해 카드의 수익성이 현저히 낮아진 경우※ 카드사가 부가서비스를 변경하는 경우에는 부가서비스 변경 사유, 변경 내용 등을 사유발생 즉시 아래 고지방법 중 2가지 이상의 방법으로 고지해 드립니다. 특히 부가서비스를 3년 이상 제공한 상태에서 해당 부가서비스로 인해 카드의 수익성이 현저히 낮아져 부가서비스를 변경하는 경우에는 6개월 전부터 아래 고지방법 중2가지 이상의 방법으로 매월 고지해 드립니다.- 고지 방법 : 서면 교부, 우편 또는 전자우편, 전화 또는 팩스, 휴대폰 메시지 또는 이에 준하는 전자적 의사표시\"}'}\n"
     ]
    }
   ],
   "source": [
    "print(documents[0])"
   ]
  },
  {
   "cell_type": "code",
   "execution_count": 97,
   "id": "be8efcff",
   "metadata": {},
   "outputs": [
    {
     "data": {
      "text/plain": [
       "True"
      ]
     },
     "execution_count": 97,
     "metadata": {},
     "output_type": "execute_result"
    }
   ],
   "source": [
    "from dotenv import load_dotenv\n",
    "load_dotenv()"
   ]
  },
  {
   "cell_type": "code",
   "execution_count": 122,
   "id": "d92f7ce0",
   "metadata": {},
   "outputs": [
    {
     "name": "stdout",
     "output_type": "stream",
     "text": [
      "총 토큰 수: 3558221\n"
     ]
    }
   ],
   "source": [
    "import tiktoken\n",
    "\n",
    "# 사용할 모델의 토크나이저 로드\n",
    "enc = tiktoken.encoding_for_model(\"text-embedding-3-small\")\n",
    "\n",
    "def count_tokens(text):\n",
    "    tokens = enc.encode(text)\n",
    "    return len(tokens)\n",
    "\n",
    "# documents는 langchain Document 객체 리스트라고 가정\n",
    "total_tokens = sum(count_tokens(doc.page_content) for doc in documents)\n",
    "print(f\"총 토큰 수: {total_tokens}\")\n",
    "\n",
    "# 총 토큰 수: 5675318, \n",
    "# 총 토큰 수: 3558221"
   ]
  },
  {
   "cell_type": "code",
   "execution_count": 114,
   "id": "3b21100c",
   "metadata": {},
   "outputs": [
    {
     "ename": "BadRequestError",
     "evalue": "Error code: 400 - {'error': {'message': 'Requested 2213741 tokens, max 300000 tokens per request', 'type': 'max_tokens_per_request', 'param': None, 'code': 'max_tokens_per_request'}}",
     "output_type": "error",
     "traceback": [
      "\u001b[31m---------------------------------------------------------------------------\u001b[39m",
      "\u001b[31mBadRequestError\u001b[39m                           Traceback (most recent call last)",
      "\u001b[36mCell\u001b[39m\u001b[36m \u001b[39m\u001b[32mIn[114]\u001b[39m\u001b[32m, line 7\u001b[39m\n\u001b[32m      4\u001b[39m embedding_model = OpenAIEmbeddings(model = \u001b[33m\"\u001b[39m\u001b[33mtext-embedding-3-small\u001b[39m\u001b[33m\"\u001b[39m)\n\u001b[32m      6\u001b[39m \u001b[38;5;66;03m# Chroma 벡터스토어 만들기\u001b[39;00m\n\u001b[32m----> \u001b[39m\u001b[32m7\u001b[39m vectorstore = \u001b[43mChroma\u001b[49m\u001b[43m.\u001b[49m\u001b[43mfrom_documents\u001b[49m\u001b[43m(\u001b[49m\n\u001b[32m      8\u001b[39m \u001b[43m    \u001b[49m\u001b[43mdocuments\u001b[49m\u001b[43m,\u001b[49m\n\u001b[32m      9\u001b[39m \u001b[43m    \u001b[49m\u001b[43membedding_model\u001b[49m\u001b[43m,\u001b[49m\n\u001b[32m     10\u001b[39m \u001b[43m    \u001b[49m\u001b[43mpersist_directory\u001b[49m\u001b[43m=\u001b[49m\u001b[33;43m\"\u001b[39;49m\u001b[33;43mchroma_card_db\u001b[39;49m\u001b[33;43m\"\u001b[39;49m\u001b[43m  \u001b[49m\u001b[38;5;66;43;03m# 저장 경로\u001b[39;49;00m\n\u001b[32m     11\u001b[39m \u001b[43m)\u001b[49m\n\u001b[32m     13\u001b[39m \u001b[38;5;66;03m# 실제 저장\u001b[39;00m\n\u001b[32m     14\u001b[39m vectorstore.persist()\n",
      "\u001b[36mFile \u001b[39m\u001b[32mc:\\Users\\Playdata\\miniconda3\\envs\\lang_env\\Lib\\site-packages\\langchain_community\\vectorstores\\chroma.py:887\u001b[39m, in \u001b[36mChroma.from_documents\u001b[39m\u001b[34m(cls, documents, embedding, ids, collection_name, persist_directory, client_settings, client, collection_metadata, **kwargs)\u001b[39m\n\u001b[32m    885\u001b[39m texts = [doc.page_content \u001b[38;5;28;01mfor\u001b[39;00m doc \u001b[38;5;129;01min\u001b[39;00m documents]\n\u001b[32m    886\u001b[39m metadatas = [doc.metadata \u001b[38;5;28;01mfor\u001b[39;00m doc \u001b[38;5;129;01min\u001b[39;00m documents]\n\u001b[32m--> \u001b[39m\u001b[32m887\u001b[39m \u001b[38;5;28;01mreturn\u001b[39;00m \u001b[38;5;28;43mcls\u001b[39;49m\u001b[43m.\u001b[49m\u001b[43mfrom_texts\u001b[49m\u001b[43m(\u001b[49m\n\u001b[32m    888\u001b[39m \u001b[43m    \u001b[49m\u001b[43mtexts\u001b[49m\u001b[43m=\u001b[49m\u001b[43mtexts\u001b[49m\u001b[43m,\u001b[49m\n\u001b[32m    889\u001b[39m \u001b[43m    \u001b[49m\u001b[43membedding\u001b[49m\u001b[43m=\u001b[49m\u001b[43membedding\u001b[49m\u001b[43m,\u001b[49m\n\u001b[32m    890\u001b[39m \u001b[43m    \u001b[49m\u001b[43mmetadatas\u001b[49m\u001b[43m=\u001b[49m\u001b[43mmetadatas\u001b[49m\u001b[43m,\u001b[49m\n\u001b[32m    891\u001b[39m \u001b[43m    \u001b[49m\u001b[43mids\u001b[49m\u001b[43m=\u001b[49m\u001b[43mids\u001b[49m\u001b[43m,\u001b[49m\n\u001b[32m    892\u001b[39m \u001b[43m    \u001b[49m\u001b[43mcollection_name\u001b[49m\u001b[43m=\u001b[49m\u001b[43mcollection_name\u001b[49m\u001b[43m,\u001b[49m\n\u001b[32m    893\u001b[39m \u001b[43m    \u001b[49m\u001b[43mpersist_directory\u001b[49m\u001b[43m=\u001b[49m\u001b[43mpersist_directory\u001b[49m\u001b[43m,\u001b[49m\n\u001b[32m    894\u001b[39m \u001b[43m    \u001b[49m\u001b[43mclient_settings\u001b[49m\u001b[43m=\u001b[49m\u001b[43mclient_settings\u001b[49m\u001b[43m,\u001b[49m\n\u001b[32m    895\u001b[39m \u001b[43m    \u001b[49m\u001b[43mclient\u001b[49m\u001b[43m=\u001b[49m\u001b[43mclient\u001b[49m\u001b[43m,\u001b[49m\n\u001b[32m    896\u001b[39m \u001b[43m    \u001b[49m\u001b[43mcollection_metadata\u001b[49m\u001b[43m=\u001b[49m\u001b[43mcollection_metadata\u001b[49m\u001b[43m,\u001b[49m\n\u001b[32m    897\u001b[39m \u001b[43m    \u001b[49m\u001b[43m*\u001b[49m\u001b[43m*\u001b[49m\u001b[43mkwargs\u001b[49m\u001b[43m,\u001b[49m\n\u001b[32m    898\u001b[39m \u001b[43m\u001b[49m\u001b[43m)\u001b[49m\n",
      "\u001b[36mFile \u001b[39m\u001b[32mc:\\Users\\Playdata\\miniconda3\\envs\\lang_env\\Lib\\site-packages\\langchain_community\\vectorstores\\chroma.py:843\u001b[39m, in \u001b[36mChroma.from_texts\u001b[39m\u001b[34m(cls, texts, embedding, metadatas, ids, collection_name, persist_directory, client_settings, client, collection_metadata, **kwargs)\u001b[39m\n\u001b[32m    835\u001b[39m     \u001b[38;5;28;01mfrom\u001b[39;00m\u001b[38;5;250m \u001b[39m\u001b[34;01mchromadb\u001b[39;00m\u001b[34;01m.\u001b[39;00m\u001b[34;01mutils\u001b[39;00m\u001b[34;01m.\u001b[39;00m\u001b[34;01mbatch_utils\u001b[39;00m\u001b[38;5;250m \u001b[39m\u001b[38;5;28;01mimport\u001b[39;00m create_batches\n\u001b[32m    837\u001b[39m     \u001b[38;5;28;01mfor\u001b[39;00m batch \u001b[38;5;129;01min\u001b[39;00m create_batches(\n\u001b[32m    838\u001b[39m         api=chroma_collection._client,\n\u001b[32m    839\u001b[39m         ids=ids,\n\u001b[32m    840\u001b[39m         metadatas=metadatas,\n\u001b[32m    841\u001b[39m         documents=texts,\n\u001b[32m    842\u001b[39m     ):\n\u001b[32m--> \u001b[39m\u001b[32m843\u001b[39m         \u001b[43mchroma_collection\u001b[49m\u001b[43m.\u001b[49m\u001b[43madd_texts\u001b[49m\u001b[43m(\u001b[49m\n\u001b[32m    844\u001b[39m \u001b[43m            \u001b[49m\u001b[43mtexts\u001b[49m\u001b[43m=\u001b[49m\u001b[43mbatch\u001b[49m\u001b[43m[\u001b[49m\u001b[32;43m3\u001b[39;49m\u001b[43m]\u001b[49m\u001b[43m \u001b[49m\u001b[38;5;28;43;01mif\u001b[39;49;00m\u001b[43m \u001b[49m\u001b[43mbatch\u001b[49m\u001b[43m[\u001b[49m\u001b[32;43m3\u001b[39;49m\u001b[43m]\u001b[49m\u001b[43m \u001b[49m\u001b[38;5;28;43;01melse\u001b[39;49;00m\u001b[43m \u001b[49m\u001b[43m[\u001b[49m\u001b[43m]\u001b[49m\u001b[43m,\u001b[49m\n\u001b[32m    845\u001b[39m \u001b[43m            \u001b[49m\u001b[43mmetadatas\u001b[49m\u001b[43m=\u001b[49m\u001b[43mbatch\u001b[49m\u001b[43m[\u001b[49m\u001b[32;43m2\u001b[39;49m\u001b[43m]\u001b[49m\u001b[43m \u001b[49m\u001b[38;5;28;43;01mif\u001b[39;49;00m\u001b[43m \u001b[49m\u001b[43mbatch\u001b[49m\u001b[43m[\u001b[49m\u001b[32;43m2\u001b[39;49m\u001b[43m]\u001b[49m\u001b[43m \u001b[49m\u001b[38;5;28;43;01melse\u001b[39;49;00m\u001b[43m \u001b[49m\u001b[38;5;28;43;01mNone\u001b[39;49;00m\u001b[43m,\u001b[49m\n\u001b[32m    846\u001b[39m \u001b[43m            \u001b[49m\u001b[43mids\u001b[49m\u001b[43m=\u001b[49m\u001b[43mbatch\u001b[49m\u001b[43m[\u001b[49m\u001b[32;43m0\u001b[39;49m\u001b[43m]\u001b[49m\u001b[43m,\u001b[49m\n\u001b[32m    847\u001b[39m \u001b[43m        \u001b[49m\u001b[43m)\u001b[49m\n\u001b[32m    848\u001b[39m \u001b[38;5;28;01melse\u001b[39;00m:\n\u001b[32m    849\u001b[39m     chroma_collection.add_texts(texts=texts, metadatas=metadatas, ids=ids)\n",
      "\u001b[36mFile \u001b[39m\u001b[32mc:\\Users\\Playdata\\miniconda3\\envs\\lang_env\\Lib\\site-packages\\langchain_community\\vectorstores\\chroma.py:277\u001b[39m, in \u001b[36mChroma.add_texts\u001b[39m\u001b[34m(self, texts, metadatas, ids, **kwargs)\u001b[39m\n\u001b[32m    275\u001b[39m texts = \u001b[38;5;28mlist\u001b[39m(texts)\n\u001b[32m    276\u001b[39m \u001b[38;5;28;01mif\u001b[39;00m \u001b[38;5;28mself\u001b[39m._embedding_function \u001b[38;5;129;01mis\u001b[39;00m \u001b[38;5;129;01mnot\u001b[39;00m \u001b[38;5;28;01mNone\u001b[39;00m:\n\u001b[32m--> \u001b[39m\u001b[32m277\u001b[39m     embeddings = \u001b[38;5;28;43mself\u001b[39;49m\u001b[43m.\u001b[49m\u001b[43m_embedding_function\u001b[49m\u001b[43m.\u001b[49m\u001b[43membed_documents\u001b[49m\u001b[43m(\u001b[49m\u001b[43mtexts\u001b[49m\u001b[43m)\u001b[49m\n\u001b[32m    278\u001b[39m \u001b[38;5;28;01mif\u001b[39;00m metadatas:\n\u001b[32m    279\u001b[39m     \u001b[38;5;66;03m# fill metadatas with empty dicts if somebody\u001b[39;00m\n\u001b[32m    280\u001b[39m     \u001b[38;5;66;03m# did not specify metadata for all texts\u001b[39;00m\n\u001b[32m    281\u001b[39m     length_diff = \u001b[38;5;28mlen\u001b[39m(texts) - \u001b[38;5;28mlen\u001b[39m(metadatas)\n",
      "\u001b[36mFile \u001b[39m\u001b[32mc:\\Users\\Playdata\\miniconda3\\envs\\lang_env\\Lib\\site-packages\\langchain_openai\\embeddings\\base.py:590\u001b[39m, in \u001b[36mOpenAIEmbeddings.embed_documents\u001b[39m\u001b[34m(self, texts, chunk_size, **kwargs)\u001b[39m\n\u001b[32m    587\u001b[39m \u001b[38;5;66;03m# NOTE: to keep things simple, we assume the list may contain texts longer\u001b[39;00m\n\u001b[32m    588\u001b[39m \u001b[38;5;66;03m#       than the maximum context and use length-safe embedding function.\u001b[39;00m\n\u001b[32m    589\u001b[39m engine = cast(\u001b[38;5;28mstr\u001b[39m, \u001b[38;5;28mself\u001b[39m.deployment)\n\u001b[32m--> \u001b[39m\u001b[32m590\u001b[39m \u001b[38;5;28;01mreturn\u001b[39;00m \u001b[38;5;28;43mself\u001b[39;49m\u001b[43m.\u001b[49m\u001b[43m_get_len_safe_embeddings\u001b[49m\u001b[43m(\u001b[49m\n\u001b[32m    591\u001b[39m \u001b[43m    \u001b[49m\u001b[43mtexts\u001b[49m\u001b[43m,\u001b[49m\u001b[43m \u001b[49m\u001b[43mengine\u001b[49m\u001b[43m=\u001b[49m\u001b[43mengine\u001b[49m\u001b[43m,\u001b[49m\u001b[43m \u001b[49m\u001b[43mchunk_size\u001b[49m\u001b[43m=\u001b[49m\u001b[43mchunk_size\u001b[49m\u001b[43m,\u001b[49m\u001b[43m \u001b[49m\u001b[43m*\u001b[49m\u001b[43m*\u001b[49m\u001b[43mkwargs\u001b[49m\n\u001b[32m    592\u001b[39m \u001b[43m\u001b[49m\u001b[43m)\u001b[49m\n",
      "\u001b[36mFile \u001b[39m\u001b[32mc:\\Users\\Playdata\\miniconda3\\envs\\lang_env\\Lib\\site-packages\\langchain_openai\\embeddings\\base.py:478\u001b[39m, in \u001b[36mOpenAIEmbeddings._get_len_safe_embeddings\u001b[39m\u001b[34m(self, texts, engine, chunk_size, **kwargs)\u001b[39m\n\u001b[32m    476\u001b[39m batched_embeddings: \u001b[38;5;28mlist\u001b[39m[\u001b[38;5;28mlist\u001b[39m[\u001b[38;5;28mfloat\u001b[39m]] = []\n\u001b[32m    477\u001b[39m \u001b[38;5;28;01mfor\u001b[39;00m i \u001b[38;5;129;01min\u001b[39;00m _iter:\n\u001b[32m--> \u001b[39m\u001b[32m478\u001b[39m     response = \u001b[38;5;28;43mself\u001b[39;49m\u001b[43m.\u001b[49m\u001b[43mclient\u001b[49m\u001b[43m.\u001b[49m\u001b[43mcreate\u001b[49m\u001b[43m(\u001b[49m\n\u001b[32m    479\u001b[39m \u001b[43m        \u001b[49m\u001b[38;5;28;43minput\u001b[39;49m\u001b[43m=\u001b[49m\u001b[43mtokens\u001b[49m\u001b[43m[\u001b[49m\u001b[43mi\u001b[49m\u001b[43m \u001b[49m\u001b[43m:\u001b[49m\u001b[43m \u001b[49m\u001b[43mi\u001b[49m\u001b[43m \u001b[49m\u001b[43m+\u001b[49m\u001b[43m \u001b[49m\u001b[43m_chunk_size\u001b[49m\u001b[43m]\u001b[49m\u001b[43m,\u001b[49m\u001b[43m \u001b[49m\u001b[43m*\u001b[49m\u001b[43m*\u001b[49m\u001b[43mclient_kwargs\u001b[49m\n\u001b[32m    480\u001b[39m \u001b[43m    \u001b[49m\u001b[43m)\u001b[49m\n\u001b[32m    481\u001b[39m     \u001b[38;5;28;01mif\u001b[39;00m \u001b[38;5;129;01mnot\u001b[39;00m \u001b[38;5;28misinstance\u001b[39m(response, \u001b[38;5;28mdict\u001b[39m):\n\u001b[32m    482\u001b[39m         response = response.model_dump()\n",
      "\u001b[36mFile \u001b[39m\u001b[32mc:\\Users\\Playdata\\miniconda3\\envs\\lang_env\\Lib\\site-packages\\openai\\resources\\embeddings.py:129\u001b[39m, in \u001b[36mEmbeddings.create\u001b[39m\u001b[34m(self, input, model, dimensions, encoding_format, user, extra_headers, extra_query, extra_body, timeout)\u001b[39m\n\u001b[32m    123\u001b[39m             embedding.embedding = np.frombuffer(  \u001b[38;5;66;03m# type: ignore[no-untyped-call]\u001b[39;00m\n\u001b[32m    124\u001b[39m                 base64.b64decode(data), dtype=\u001b[33m\"\u001b[39m\u001b[33mfloat32\u001b[39m\u001b[33m\"\u001b[39m\n\u001b[32m    125\u001b[39m             ).tolist()\n\u001b[32m    127\u001b[39m     \u001b[38;5;28;01mreturn\u001b[39;00m obj\n\u001b[32m--> \u001b[39m\u001b[32m129\u001b[39m \u001b[38;5;28;01mreturn\u001b[39;00m \u001b[38;5;28;43mself\u001b[39;49m\u001b[43m.\u001b[49m\u001b[43m_post\u001b[49m\u001b[43m(\u001b[49m\n\u001b[32m    130\u001b[39m \u001b[43m    \u001b[49m\u001b[33;43m\"\u001b[39;49m\u001b[33;43m/embeddings\u001b[39;49m\u001b[33;43m\"\u001b[39;49m\u001b[43m,\u001b[49m\n\u001b[32m    131\u001b[39m \u001b[43m    \u001b[49m\u001b[43mbody\u001b[49m\u001b[43m=\u001b[49m\u001b[43mmaybe_transform\u001b[49m\u001b[43m(\u001b[49m\u001b[43mparams\u001b[49m\u001b[43m,\u001b[49m\u001b[43m \u001b[49m\u001b[43membedding_create_params\u001b[49m\u001b[43m.\u001b[49m\u001b[43mEmbeddingCreateParams\u001b[49m\u001b[43m)\u001b[49m\u001b[43m,\u001b[49m\n\u001b[32m    132\u001b[39m \u001b[43m    \u001b[49m\u001b[43moptions\u001b[49m\u001b[43m=\u001b[49m\u001b[43mmake_request_options\u001b[49m\u001b[43m(\u001b[49m\n\u001b[32m    133\u001b[39m \u001b[43m        \u001b[49m\u001b[43mextra_headers\u001b[49m\u001b[43m=\u001b[49m\u001b[43mextra_headers\u001b[49m\u001b[43m,\u001b[49m\n\u001b[32m    134\u001b[39m \u001b[43m        \u001b[49m\u001b[43mextra_query\u001b[49m\u001b[43m=\u001b[49m\u001b[43mextra_query\u001b[49m\u001b[43m,\u001b[49m\n\u001b[32m    135\u001b[39m \u001b[43m        \u001b[49m\u001b[43mextra_body\u001b[49m\u001b[43m=\u001b[49m\u001b[43mextra_body\u001b[49m\u001b[43m,\u001b[49m\n\u001b[32m    136\u001b[39m \u001b[43m        \u001b[49m\u001b[43mtimeout\u001b[49m\u001b[43m=\u001b[49m\u001b[43mtimeout\u001b[49m\u001b[43m,\u001b[49m\n\u001b[32m    137\u001b[39m \u001b[43m        \u001b[49m\u001b[43mpost_parser\u001b[49m\u001b[43m=\u001b[49m\u001b[43mparser\u001b[49m\u001b[43m,\u001b[49m\n\u001b[32m    138\u001b[39m \u001b[43m    \u001b[49m\u001b[43m)\u001b[49m\u001b[43m,\u001b[49m\n\u001b[32m    139\u001b[39m \u001b[43m    \u001b[49m\u001b[43mcast_to\u001b[49m\u001b[43m=\u001b[49m\u001b[43mCreateEmbeddingResponse\u001b[49m\u001b[43m,\u001b[49m\n\u001b[32m    140\u001b[39m \u001b[43m\u001b[49m\u001b[43m)\u001b[49m\n",
      "\u001b[36mFile \u001b[39m\u001b[32mc:\\Users\\Playdata\\miniconda3\\envs\\lang_env\\Lib\\site-packages\\openai\\_base_client.py:1242\u001b[39m, in \u001b[36mSyncAPIClient.post\u001b[39m\u001b[34m(self, path, cast_to, body, options, files, stream, stream_cls)\u001b[39m\n\u001b[32m   1228\u001b[39m \u001b[38;5;28;01mdef\u001b[39;00m\u001b[38;5;250m \u001b[39m\u001b[34mpost\u001b[39m(\n\u001b[32m   1229\u001b[39m     \u001b[38;5;28mself\u001b[39m,\n\u001b[32m   1230\u001b[39m     path: \u001b[38;5;28mstr\u001b[39m,\n\u001b[32m   (...)\u001b[39m\u001b[32m   1237\u001b[39m     stream_cls: \u001b[38;5;28mtype\u001b[39m[_StreamT] | \u001b[38;5;28;01mNone\u001b[39;00m = \u001b[38;5;28;01mNone\u001b[39;00m,\n\u001b[32m   1238\u001b[39m ) -> ResponseT | _StreamT:\n\u001b[32m   1239\u001b[39m     opts = FinalRequestOptions.construct(\n\u001b[32m   1240\u001b[39m         method=\u001b[33m\"\u001b[39m\u001b[33mpost\u001b[39m\u001b[33m\"\u001b[39m, url=path, json_data=body, files=to_httpx_files(files), **options\n\u001b[32m   1241\u001b[39m     )\n\u001b[32m-> \u001b[39m\u001b[32m1242\u001b[39m     \u001b[38;5;28;01mreturn\u001b[39;00m cast(ResponseT, \u001b[38;5;28;43mself\u001b[39;49m\u001b[43m.\u001b[49m\u001b[43mrequest\u001b[49m\u001b[43m(\u001b[49m\u001b[43mcast_to\u001b[49m\u001b[43m,\u001b[49m\u001b[43m \u001b[49m\u001b[43mopts\u001b[49m\u001b[43m,\u001b[49m\u001b[43m \u001b[49m\u001b[43mstream\u001b[49m\u001b[43m=\u001b[49m\u001b[43mstream\u001b[49m\u001b[43m,\u001b[49m\u001b[43m \u001b[49m\u001b[43mstream_cls\u001b[49m\u001b[43m=\u001b[49m\u001b[43mstream_cls\u001b[49m\u001b[43m)\u001b[49m)\n",
      "\u001b[36mFile \u001b[39m\u001b[32mc:\\Users\\Playdata\\miniconda3\\envs\\lang_env\\Lib\\site-packages\\openai\\_base_client.py:1037\u001b[39m, in \u001b[36mSyncAPIClient.request\u001b[39m\u001b[34m(self, cast_to, options, stream, stream_cls)\u001b[39m\n\u001b[32m   1034\u001b[39m             err.response.read()\n\u001b[32m   1036\u001b[39m         log.debug(\u001b[33m\"\u001b[39m\u001b[33mRe-raising status error\u001b[39m\u001b[33m\"\u001b[39m)\n\u001b[32m-> \u001b[39m\u001b[32m1037\u001b[39m         \u001b[38;5;28;01mraise\u001b[39;00m \u001b[38;5;28mself\u001b[39m._make_status_error_from_response(err.response) \u001b[38;5;28;01mfrom\u001b[39;00m\u001b[38;5;250m \u001b[39m\u001b[38;5;28;01mNone\u001b[39;00m\n\u001b[32m   1039\u001b[39m     \u001b[38;5;28;01mbreak\u001b[39;00m\n\u001b[32m   1041\u001b[39m \u001b[38;5;28;01massert\u001b[39;00m response \u001b[38;5;129;01mis\u001b[39;00m \u001b[38;5;129;01mnot\u001b[39;00m \u001b[38;5;28;01mNone\u001b[39;00m, \u001b[33m\"\u001b[39m\u001b[33mcould not resolve response (should never happen)\u001b[39m\u001b[33m\"\u001b[39m\n",
      "\u001b[31mBadRequestError\u001b[39m: Error code: 400 - {'error': {'message': 'Requested 2213741 tokens, max 300000 tokens per request', 'type': 'max_tokens_per_request', 'param': None, 'code': 'max_tokens_per_request'}}"
     ]
    }
   ],
   "source": [
    "from langchain_openai import OpenAIEmbeddings  # 또는 HuggingFaceEmbeddings\n",
    "from langchain.vectorstores import Chroma\n",
    "\n",
    "embedding_model = OpenAIEmbeddings(model = \"text-embedding-3-small\")\n",
    "\n",
    "# Chroma 벡터스토어 만들기\n",
    "vectorstore = Chroma.from_documents(\n",
    "    documents,\n",
    "    embedding_model,\n",
    "    persist_directory=\"chroma_card_db\"  # 저장 경로\n",
    ")\n",
    "\n",
    "# 실제 저장\n",
    "vectorstore.persist()"
   ]
  },
  {
   "cell_type": "code",
   "execution_count": 19,
   "id": "71851284",
   "metadata": {},
   "outputs": [
    {
     "data": {
      "text/plain": [
       "<langchain_community.vectorstores.chroma.Chroma at 0x21836ab99d0>"
      ]
     },
     "execution_count": 19,
     "metadata": {},
     "output_type": "execute_result"
    }
   ],
   "source": [
    "vectorstore"
   ]
  },
  {
   "cell_type": "code",
   "execution_count": null,
   "id": "d47dfcfa",
   "metadata": {},
   "outputs": [],
   "source": []
  }
 ],
 "metadata": {
  "kernelspec": {
   "display_name": "lang_env",
   "language": "python",
   "name": "python3"
  },
  "language_info": {
   "codemirror_mode": {
    "name": "ipython",
    "version": 3
   },
   "file_extension": ".py",
   "mimetype": "text/x-python",
   "name": "python",
   "nbconvert_exporter": "python",
   "pygments_lexer": "ipython3",
   "version": "3.12.11"
  }
 },
 "nbformat": 4,
 "nbformat_minor": 5
}
